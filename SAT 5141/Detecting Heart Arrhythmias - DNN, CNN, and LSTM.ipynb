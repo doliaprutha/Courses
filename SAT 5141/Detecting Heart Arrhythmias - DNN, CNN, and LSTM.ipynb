{
 "cells": [
  {
   "cell_type": "code",
   "execution_count": 1,
   "metadata": {},
   "outputs": [],
   "source": [
    "import pandas as pd\n",
    "import numpy as np\n",
    "import matplotlib.pyplot as plt\n",
    "from os import listdir"
   ]
  },
  {
   "cell_type": "code",
   "execution_count": 2,
   "metadata": {},
   "outputs": [],
   "source": [
    "data_path='mit-bih-arrhythmia-database-1.0.0/'"
   ]
  },
  {
   "cell_type": "code",
   "execution_count": 3,
   "metadata": {},
   "outputs": [],
   "source": [
    "pts = ['100', '101', '102','103', '104', '105', '106', '107', '108', '109', '111','112', '113', '114', '115', '116', '117','118','119','121','122','123','124','200',\n",
    "'201', '202', '203', '205', '207', '208', '209', '210', '212', '213', '214', '215','217', '219', '220', '221','222','223' ,'228','230','231','232','233','234']"
   ]
  },
  {
   "cell_type": "code",
   "execution_count": 4,
   "metadata": {},
   "outputs": [
    {
     "name": "stdout",
     "output_type": "stream",
     "text": [
      "Requirement already satisfied: wfdb in c:\\users\\sneha\\anaconda3\\lib\\site-packages (2.2.1)\n",
      "Requirement already satisfied: requests>=2.10.0 in c:\\users\\sneha\\anaconda3\\lib\\site-packages (from wfdb) (2.22.0)\n",
      "Requirement already satisfied: nose>=1.3.7 in c:\\users\\sneha\\anaconda3\\lib\\site-packages (from wfdb) (1.3.7)\n",
      "Requirement already satisfied: scipy>=0.19.0 in c:\\users\\sneha\\anaconda3\\lib\\site-packages (from wfdb) (1.3.1)\n",
      "Requirement already satisfied: sklearn>=0.0 in c:\\users\\sneha\\anaconda3\\lib\\site-packages (from wfdb) (0.0)\n",
      "Requirement already satisfied: pandas>=0.19.1 in c:\\users\\sneha\\anaconda3\\lib\\site-packages (from wfdb) (0.25.1)\n",
      "Requirement already satisfied: numpy>=1.11.0 in c:\\users\\sneha\\anaconda3\\lib\\site-packages (from wfdb) (1.16.5)\n",
      "Requirement already satisfied: matplotlib>=1.5.1 in c:\\users\\sneha\\anaconda3\\lib\\site-packages (from wfdb) (3.1.1)\n",
      "Requirement already satisfied: certifi>=2017.4.17 in c:\\users\\sneha\\anaconda3\\lib\\site-packages (from requests>=2.10.0->wfdb) (2019.9.11)\n",
      "Requirement already satisfied: urllib3!=1.25.0,!=1.25.1,<1.26,>=1.21.1 in c:\\users\\sneha\\anaconda3\\lib\\site-packages (from requests>=2.10.0->wfdb) (1.24.2)\n",
      "Requirement already satisfied: idna<2.9,>=2.5 in c:\\users\\sneha\\anaconda3\\lib\\site-packages (from requests>=2.10.0->wfdb) (2.8)\n",
      "Requirement already satisfied: chardet<3.1.0,>=3.0.2 in c:\\users\\sneha\\anaconda3\\lib\\site-packages (from requests>=2.10.0->wfdb) (3.0.4)\n",
      "Requirement already satisfied: scikit-learn in c:\\users\\sneha\\anaconda3\\lib\\site-packages (from sklearn>=0.0->wfdb) (0.21.3)\n",
      "Requirement already satisfied: pytz>=2017.2 in c:\\users\\sneha\\anaconda3\\lib\\site-packages (from pandas>=0.19.1->wfdb) (2019.3)\n",
      "Requirement already satisfied: python-dateutil>=2.6.1 in c:\\users\\sneha\\anaconda3\\lib\\site-packages (from pandas>=0.19.1->wfdb) (2.8.0)\n",
      "Requirement already satisfied: cycler>=0.10 in c:\\users\\sneha\\anaconda3\\lib\\site-packages (from matplotlib>=1.5.1->wfdb) (0.10.0)\n",
      "Requirement already satisfied: kiwisolver>=1.0.1 in c:\\users\\sneha\\anaconda3\\lib\\site-packages (from matplotlib>=1.5.1->wfdb) (1.1.0)\n",
      "Requirement already satisfied: pyparsing!=2.0.4,!=2.1.2,!=2.1.6,>=2.0.1 in c:\\users\\sneha\\anaconda3\\lib\\site-packages (from matplotlib>=1.5.1->wfdb) (2.4.2)\n",
      "Requirement already satisfied: joblib>=0.11 in c:\\users\\sneha\\anaconda3\\lib\\site-packages (from scikit-learn->sklearn>=0.0->wfdb) (0.13.2)\n",
      "Requirement already satisfied: six>=1.5 in c:\\users\\sneha\\anaconda3\\lib\\site-packages (from python-dateutil>=2.6.1->pandas>=0.19.1->wfdb) (1.12.0)\n",
      "Requirement already satisfied: setuptools in c:\\users\\sneha\\anaconda3\\lib\\site-packages (from kiwisolver>=1.0.1->matplotlib>=1.5.1->wfdb) (41.4.0)\n",
      "Note: you may need to restart the kernel to use updated packages.\n"
     ]
    }
   ],
   "source": [
    "pip install wfdb"
   ]
  },
  {
   "cell_type": "code",
   "execution_count": 5,
   "metadata": {},
   "outputs": [
    {
     "name": "stdout",
     "output_type": "stream",
     "text": [
      "Processing d:\\mtu course files\\sem 4\\cdss\\assignment 5\\mit-bih-arrhythmia-database-1.0.0\n",
      "Requirement already satisfied: nose>=1.3.7 in c:\\users\\sneha\\anaconda3\\lib\\site-packages (from wfdb==2.2.1) (1.3.7)\n",
      "Requirement already satisfied: numpy>=1.11.0 in c:\\users\\sneha\\anaconda3\\lib\\site-packages (from wfdb==2.2.1) (1.16.5)\n",
      "Requirement already satisfied: matplotlib>=1.5.1 in c:\\users\\sneha\\anaconda3\\lib\\site-packages (from wfdb==2.2.1) (3.1.1)\n",
      "Requirement already satisfied: requests>=2.10.0 in c:\\users\\sneha\\anaconda3\\lib\\site-packages (from wfdb==2.2.1) (2.22.0)\n",
      "Requirement already satisfied: pandas>=0.19.1 in c:\\users\\sneha\\anaconda3\\lib\\site-packages (from wfdb==2.2.1) (0.25.1)\n",
      "Requirement already satisfied: scipy>=0.19.0 in c:\\users\\sneha\\anaconda3\\lib\\site-packages (from wfdb==2.2.1) (1.3.1)\n",
      "Requirement already satisfied: sklearn>=0.0 in c:\\users\\sneha\\anaconda3\\lib\\site-packages (from wfdb==2.2.1) (0.0)\n",
      "Requirement already satisfied: cycler>=0.10 in c:\\users\\sneha\\anaconda3\\lib\\site-packages (from matplotlib>=1.5.1->wfdb==2.2.1) (0.10.0)\n",
      "Requirement already satisfied: kiwisolver>=1.0.1 in c:\\users\\sneha\\anaconda3\\lib\\site-packages (from matplotlib>=1.5.1->wfdb==2.2.1) (1.1.0)\n",
      "Requirement already satisfied: pyparsing!=2.0.4,!=2.1.2,!=2.1.6,>=2.0.1 in c:\\users\\sneha\\anaconda3\\lib\\site-packages (from matplotlib>=1.5.1->wfdb==2.2.1) (2.4.2)\n",
      "Requirement already satisfied: python-dateutil>=2.1 in c:\\users\\sneha\\anaconda3\\lib\\site-packages (from matplotlib>=1.5.1->wfdb==2.2.1) (2.8.0)\n",
      "Requirement already satisfied: chardet<3.1.0,>=3.0.2 in c:\\users\\sneha\\anaconda3\\lib\\site-packages (from requests>=2.10.0->wfdb==2.2.1) (3.0.4)\n",
      "Requirement already satisfied: urllib3!=1.25.0,!=1.25.1,<1.26,>=1.21.1 in c:\\users\\sneha\\anaconda3\\lib\\site-packages (from requests>=2.10.0->wfdb==2.2.1) (1.24.2)\n",
      "Requirement already satisfied: idna<2.9,>=2.5 in c:\\users\\sneha\\anaconda3\\lib\\site-packages (from requests>=2.10.0->wfdb==2.2.1) (2.8)\n",
      "Requirement already satisfied: certifi>=2017.4.17 in c:\\users\\sneha\\anaconda3\\lib\\site-packages (from requests>=2.10.0->wfdb==2.2.1) (2019.9.11)\n",
      "Requirement already satisfied: pytz>=2017.2 in c:\\users\\sneha\\anaconda3\\lib\\site-packages (from pandas>=0.19.1->wfdb==2.2.1) (2019.3)\n",
      "Requirement already satisfied: scikit-learn in c:\\users\\sneha\\anaconda3\\lib\\site-packages (from sklearn>=0.0->wfdb==2.2.1) (0.21.3)\n",
      "Requirement already satisfied: six in c:\\users\\sneha\\anaconda3\\lib\\site-packages (from cycler>=0.10->matplotlib>=1.5.1->wfdb==2.2.1) (1.12.0)\n",
      "Requirement already satisfied: setuptools in c:\\users\\sneha\\anaconda3\\lib\\site-packages (from kiwisolver>=1.0.1->matplotlib>=1.5.1->wfdb==2.2.1) (41.4.0)\n",
      "Requirement already satisfied: joblib>=0.11 in c:\\users\\sneha\\anaconda3\\lib\\site-packages (from scikit-learn->sklearn>=0.0->wfdb==2.2.1) (0.13.2)\n",
      "Building wheels for collected packages: wfdb\n",
      "  Building wheel for wfdb (setup.py): started\n",
      "  Building wheel for wfdb (setup.py): finished with status 'done'\n",
      "  Created wheel for wfdb: filename=wfdb-2.2.1-cp37-none-any.whl size=95042 sha256=6f1b3fba5e857454cfac5427436feb165c35ed861d29518a68081800a1427ad5\n",
      "  Stored in directory: C:\\Users\\sneha\\AppData\\Local\\pip\\Cache\\wheels\\6a\\4d\\b5\\a248a0fad3a021082a64a31ba5ee638fc21ea02dd5cbac8214\n",
      "Successfully built wfdb\n",
      "Installing collected packages: wfdb\n",
      "  Found existing installation: wfdb 2.2.1\n",
      "    Uninstalling wfdb-2.2.1:\n",
      "      Successfully uninstalled wfdb-2.2.1\n",
      "Successfully installed wfdb-2.2.1\n",
      "Note: you may need to restart the kernel to use updated packages.\n"
     ]
    }
   ],
   "source": [
    "pip install ."
   ]
  },
  {
   "cell_type": "code",
   "execution_count": 6,
   "metadata": {},
   "outputs": [],
   "source": [
    "import wfdb"
   ]
  },
  {
   "cell_type": "code",
   "execution_count": 7,
   "metadata": {},
   "outputs": [],
   "source": [
    "df = pd.DataFrame()\n",
    "for pt in pts:\n",
    "    file = data_path+pt\n",
    "    annotation=wfdb.rdann(file, 'atr')\n",
    "    sym=annotation.symbol\n",
    "    values, counts=np.unique(sym, return_counts=True)\n",
    "    df_sub=pd.DataFrame({'sym':values,'val':counts,'pt':[pt]*len(counts)})\n",
    "    df=pd.concat([df,df_sub],axis=0)"
   ]
  },
  {
   "cell_type": "code",
   "execution_count": 8,
   "metadata": {},
   "outputs": [
    {
     "data": {
      "text/plain": [
       "sym\n",
       "N    75052\n",
       "L     8075\n",
       "R     7259\n",
       "V     7130\n",
       "/     7028\n",
       "A     2546\n",
       "+     1291\n",
       "f      982\n",
       "F      803\n",
       "~      616\n",
       "!      472\n",
       "\"      437\n",
       "j      229\n",
       "x      193\n",
       "a      150\n",
       "|      132\n",
       "E      106\n",
       "J       83\n",
       "Q       33\n",
       "e       16\n",
       "[        6\n",
       "]        6\n",
       "S        2\n",
       "Name: val, dtype: int64"
      ]
     },
     "execution_count": 8,
     "metadata": {},
     "output_type": "execute_result"
    }
   ],
   "source": [
    "df.groupby('sym').val.sum().sort_values(ascending = False)"
   ]
  },
  {
   "cell_type": "code",
   "execution_count": 9,
   "metadata": {},
   "outputs": [],
   "source": [
    "nonbeat = ['[','!',']','x','(',')','p','t','u','`','\\'','^','|','~','+','s','T','*','D','=','\"','@','Q','?']\n",
    "abnormal=['L','R','V','/','A','f','F','j','a','E','J','e','S']"
   ]
  },
  {
   "cell_type": "code",
   "execution_count": 10,
   "metadata": {},
   "outputs": [],
   "source": [
    "df['cat'] = -1\n",
    "df.loc[df.sym == 'N', 'cat'] = 0\n",
    "df.loc[df.sym.isin(abnormal),'cat']=1"
   ]
  },
  {
   "cell_type": "code",
   "execution_count": 11,
   "metadata": {},
   "outputs": [
    {
     "data": {
      "text/plain": [
       "cat\n",
       "-1     3186\n",
       " 0    75052\n",
       " 1    34409\n",
       "Name: val, dtype: int64"
      ]
     },
     "execution_count": 11,
     "metadata": {},
     "output_type": "execute_result"
    }
   ],
   "source": [
    "df.groupby('cat').val.sum()"
   ]
  },
  {
   "cell_type": "code",
   "execution_count": 12,
   "metadata": {},
   "outputs": [],
   "source": [
    "def load_ecg(file):\n",
    "    record = wfdb.rdrecord(file)\n",
    "    annotation=wfdb.rdann(file, 'atr')\n",
    "    p_signal=record.p_signal\n",
    "    assert record.fs == 360, 'sample fre is not 360'\n",
    "    atr_sym = annotation.symbol\n",
    "    atr_sample = annotation.sample\n",
    "    return p_signal, atr_sym, atr_sample"
   ]
  },
  {
   "cell_type": "code",
   "execution_count": 13,
   "metadata": {},
   "outputs": [],
   "source": [
    "file = data_path + pts[0]"
   ]
  },
  {
   "cell_type": "code",
   "execution_count": 14,
   "metadata": {},
   "outputs": [],
   "source": [
    "p_signal, atr_sym, atr_sample = load_ecg(file)"
   ]
  },
  {
   "cell_type": "code",
   "execution_count": 15,
   "metadata": {},
   "outputs": [
    {
     "name": "stdout",
     "output_type": "stream",
     "text": [
      "+ 3\n",
      "J 50\n",
      "N 2700\n",
      "V 3\n",
      "~ 8\n"
     ]
    }
   ],
   "source": [
    "values, counts = np.unique(sym, return_counts = True)\n",
    "for v,c in zip(values, counts):\n",
    "    print(v,c)"
   ]
  },
  {
   "cell_type": "code",
   "execution_count": 16,
   "metadata": {},
   "outputs": [
    {
     "data": {
      "text/plain": [
       "[2044, 66792, 74986, 99579, 128085, 170719, 279576, 305709, 307745, 312825]"
      ]
     },
     "execution_count": 16,
     "metadata": {},
     "output_type": "execute_result"
    }
   ],
   "source": [
    "ab_index = [b for a,b in zip(atr_sym, atr_sample) if a in abnormal][:10]\n",
    "ab_index"
   ]
  },
  {
   "cell_type": "code",
   "execution_count": 17,
   "metadata": {},
   "outputs": [],
   "source": [
    "x = np.arange(len(p_signal))"
   ]
  },
  {
   "cell_type": "code",
   "execution_count": 19,
   "metadata": {},
   "outputs": [
    {
     "data": {
      "image/png": "[encoded data removed]",
      "text/plain": [
       "<Figure size 432x288 with 1 Axes>"
      ]
     },
     "metadata": {
      "needs_background": "light"
     },
     "output_type": "display_data"
    }
   ],
   "source": [
    "left = ab_index[1]-1080\n",
    "right = ab_index[1]+1080\n",
    "\n",
    "plt.plot(x[left:right],p_signal[left:right,0], '-', label = 'ecg')\n",
    "plt.plot(x[atr_sample],p_signal[atr_sample,0], 'go', label = 'normal')\n",
    "plt.plot(x[ab_index],p_signal[ab_index,0],'ro', label='abnormal')\n",
    "\n",
    "plt.xlim(left, right)\n",
    "plt.ylim(p_signal[left:right].min()-0.05,p_signal[left:right,0].max()+0.05)\n",
    "plt.xlabel('Time Index')\n",
    "plt.ylabel('ECG Signal')\n",
    "plt.legend(bbox_to_anchor = (1.04,1),loc = 'upper left')\n",
    "plt.show()"
   ]
  },
  {
   "cell_type": "code",
   "execution_count": 20,
   "metadata": {},
   "outputs": [],
   "source": [
    "def make_dataset(pts, num_sec, fs):\n",
    "    num_cols = 2*num_sec*fs\n",
    "    X_all = np.zeros((1,num_cols))\n",
    "    Y_all = np.zeros((1,1))\n",
    "    sym_all = []\n",
    "    abnormal=['L','R','V','/','A','f','F','j','a','E','J','e','S']\n",
    "    \n",
    "    max_rows = []\n",
    "    \n",
    "    for pt in pts:\n",
    "        file = data_path+pt\n",
    "        p_signal,atr_sym,atr_sample = load_ecg(file)\n",
    "        p_signal = p_signal[:,0]\n",
    "        df_ann = pd.DataFrame({'atr_sym':atr_sym, 'atr_sample':atr_sample})\n",
    "        df_ann = df_ann.loc[df_ann.atr_sym.isin(abnormal+['N'])]\n",
    "        num_rows = len(df_ann)\n",
    "        \n",
    "        X = np.zeros((num_rows, num_cols))\n",
    "        Y = np.zeros((num_rows,1))\n",
    "        \n",
    "        max_row = 0\n",
    "        \n",
    "        for atr_sample, atr_sym in zip(df_ann.atr_sample.values,df_ann.atr_sym.values):\n",
    "            left = max([0,(atr_sample - num_sec*fs) ])\n",
    "            right = min([len(p_signal),(atr_sample + num_sec*fs) ])\n",
    "            x = p_signal[left: right]\n",
    "            if len(x) == num_cols:\n",
    "                X[max_row,:] = x\n",
    "                Y[max_row,:] = int(atr_sym in abnormal)\n",
    "                sym_all.append(atr_sym)\n",
    "                max_row += 1\n",
    "        X = X[:max_row,:]\n",
    "        Y = Y[:max_row,:]\n",
    "        max_rows.append(max_row)\n",
    "        X_all = np.append(X_all,X,axis = 0)\n",
    "        Y_all = np.append(Y_all,Y,axis = 0)\n",
    "    # drop the first zero row\n",
    "    X_all = X_all[1:,:]\n",
    "    Y_all = Y_all[1:,:]\n",
    "    # check sizes make sense\n",
    "    assert np.sum(max_rows) == X_all.shape[0], 'number of rows messed up'\n",
    "    assert Y_all.shape[0] == X_all.shape[0], 'number of rows messed up'\n",
    "    assert Y_all.shape[0] == len(sym_all), 'number of rows messed up'\n",
    "    return X_all, Y_all, sym_all\n",
    "        \n",
    "\n",
    "        "
   ]
  },
  {
   "cell_type": "code",
   "execution_count": 21,
   "metadata": {},
   "outputs": [],
   "source": [
    "num_sec = 3\n",
    "fs = 360"
   ]
  },
  {
   "cell_type": "code",
   "execution_count": 22,
   "metadata": {
    "scrolled": false
   },
   "outputs": [],
   "source": [
    "X_all, Y_all, sym_all = make_dataset(pts,num_sec,fs)"
   ]
  },
  {
   "cell_type": "code",
   "execution_count": 23,
   "metadata": {},
   "outputs": [],
   "source": [
    "from sklearn.model_selection import train_test_split\n",
    "X_train, X_valid, y_train, y_valid = train_test_split(X_all, Y_all, test_size = 0.33, random_state = 42)"
   ]
  },
  {
   "cell_type": "code",
   "execution_count": 27,
   "metadata": {},
   "outputs": [
    {
     "name": "stdout",
     "output_type": "stream",
     "text": [
      "Collecting keras\n",
      "  Downloading https://files.pythonhosted.org/packages/ad/fd/6bfe87920d7f4fd475acd28500a42482b6b84479832bdc0fe9e589a60ceb/Keras-2.3.1-py2.py3-none-any.whl (377kB)\n",
      "Collecting keras-applications>=1.0.6 (from keras)\n",
      "  Downloading https://files.pythonhosted.org/packages/71/e3/19762fdfc62877ae9102edf6342d71b28fbfd9dea3d2f96a882ce099b03f/Keras_Applications-1.0.8-py3-none-any.whl (50kB)\n",
      "Requirement already satisfied: pyyaml in c:\\users\\sneha\\anaconda3\\lib\\site-packages (from keras) (5.1.2)\n",
      "Collecting keras-preprocessing>=1.0.5 (from keras)\n",
      "  Downloading https://files.pythonhosted.org/packages/28/6a/8c1f62c37212d9fc441a7e26736df51ce6f0e38455816445471f10da4f0a/Keras_Preprocessing-1.1.0-py2.py3-none-any.whl (41kB)\n",
      "Requirement already satisfied: six>=1.9.0 in c:\\users\\sneha\\anaconda3\\lib\\site-packages (from keras) (1.12.0)\n",
      "Requirement already satisfied: scipy>=0.14 in c:\\users\\sneha\\anaconda3\\lib\\site-packages (from keras) (1.3.1)\n",
      "Requirement already satisfied: h5py in c:\\users\\sneha\\anaconda3\\lib\\site-packages (from keras) (2.9.0)\n",
      "Requirement already satisfied: numpy>=1.9.1 in c:\\users\\sneha\\anaconda3\\lib\\site-packages (from keras) (1.16.5)\n",
      "Installing collected packages: keras-applications, keras-preprocessing, keras\n",
      "Successfully installed keras-2.3.1 keras-applications-1.0.8 keras-preprocessing-1.1.0\n",
      "Note: you may need to restart the kernel to use updated packages.\n"
     ]
    }
   ],
   "source": [
    "pip install keras"
   ]
  },
  {
   "cell_type": "code",
   "execution_count": 32,
   "metadata": {},
   "outputs": [
    {
     "name": "stdout",
     "output_type": "stream",
     "text": [
      "Collecting tensorflow\n",
      "  Using cached https://files.pythonhosted.org/packages/34/d5/ce8c17971067c0184c9045112b755be5461d5ce5253ef65a367e1298d7c5/tensorflow-2.1.0-cp37-cp37m-win_amd64.whl\n",
      "Collecting gast==0.2.2 (from tensorflow)\n",
      "Collecting astor>=0.6.0 (from tensorflow)\n",
      "  Using cached https://files.pythonhosted.org/packages/c3/88/97eef84f48fa04fbd6750e62dcceafba6c63c81b7ac1420856c8dcc0a3f9/astor-0.8.1-py2.py3-none-any.whl\n",
      "Collecting tensorboard<2.2.0,>=2.1.0 (from tensorflow)\n",
      "  Using cached https://files.pythonhosted.org/packages/d9/41/bbf49b61370e4f4d245d4c6051dfb6db80cec672605c91b1652ac8cc3d38/tensorboard-2.1.1-py3-none-any.whl\n",
      "Collecting tensorflow-estimator<2.2.0,>=2.1.0rc0 (from tensorflow)\n",
      "  Using cached https://files.pythonhosted.org/packages/18/90/b77c328a1304437ab1310b463e533fa7689f4bfc41549593056d812fab8e/tensorflow_estimator-2.1.0-py2.py3-none-any.whl\n",
      "Collecting grpcio>=1.8.6 (from tensorflow)\n",
      "  Using cached https://files.pythonhosted.org/packages/a7/6d/99aba8db04bf58193ed157dfe7e848494b93dd8aa3f6a4d1edfef318779c/grpcio-1.27.2-cp37-cp37m-win_amd64.whl\n",
      "Requirement already satisfied: scipy==1.4.1; python_version >= \"3\" in c:\\users\\sneha\\anaconda3\\lib\\site-packages (from tensorflow) (1.4.1)\n",
      "Requirement already satisfied: wheel>=0.26; python_version >= \"3\" in c:\\users\\sneha\\anaconda3\\lib\\site-packages (from tensorflow) (0.33.6)\n",
      "Requirement already satisfied: keras-applications>=1.0.8 in c:\\users\\sneha\\anaconda3\\lib\\site-packages (from tensorflow) (1.0.8)\n",
      "Collecting google-pasta>=0.1.6 (from tensorflow)\n",
      "  Using cached https://files.pythonhosted.org/packages/a3/de/c648ef6835192e6e2cc03f40b19eeda4382c49b5bafb43d88b931c4c74ac/google_pasta-0.2.0-py3-none-any.whl\n",
      "Requirement already satisfied: numpy<2.0,>=1.16.0 in c:\\users\\sneha\\anaconda3\\lib\\site-packages (from tensorflow) (1.16.5)\n",
      "Collecting protobuf>=3.8.0 (from tensorflow)\n",
      "  Using cached https://files.pythonhosted.org/packages/92/30/1b7ccde09bf0c535d11f18a574ed7d7572c729a8f754fd568b297be08b61/protobuf-3.11.3-cp37-cp37m-win_amd64.whl\n",
      "Requirement already satisfied: six>=1.12.0 in c:\\users\\sneha\\anaconda3\\lib\\site-packages (from tensorflow) (1.12.0)\n",
      "Collecting opt-einsum>=2.3.2 (from tensorflow)\n",
      "  Using cached https://files.pythonhosted.org/packages/b2/49/2233e63052d5686c72131b579837ddfb98ba9dd0b92bb91efcb441ada8ce/opt_einsum-3.2.0-py3-none-any.whl\n",
      "Requirement already satisfied: wrapt>=1.11.1 in c:\\users\\sneha\\anaconda3\\lib\\site-packages (from tensorflow) (1.11.2)\n",
      "Requirement already satisfied: keras-preprocessing>=1.1.0 in c:\\users\\sneha\\anaconda3\\lib\\site-packages (from tensorflow) (1.1.0)\n",
      "Collecting termcolor>=1.1.0 (from tensorflow)\n",
      "Requirement already satisfied: absl-py>=0.7.0 in c:\\users\\sneha\\anaconda3\\lib\\site-packages (from tensorflow) (0.9.0)\n",
      "Collecting google-auth-oauthlib<0.5,>=0.4.1 (from tensorboard<2.2.0,>=2.1.0->tensorflow)\n",
      "  Using cached https://files.pythonhosted.org/packages/7b/b8/88def36e74bee9fce511c9519571f4e485e890093ab7442284f4ffaef60b/google_auth_oauthlib-0.4.1-py2.py3-none-any.whl\n",
      "Requirement already satisfied: werkzeug>=0.11.15 in c:\\users\\sneha\\anaconda3\\lib\\site-packages (from tensorboard<2.2.0,>=2.1.0->tensorflow) (0.16.0)\n",
      "Collecting markdown>=2.6.8 (from tensorboard<2.2.0,>=2.1.0->tensorflow)\n",
      "  Using cached https://files.pythonhosted.org/packages/ab/c4/ba46d44855e6eb1770a12edace5a165a0c6de13349f592b9036257f3c3d3/Markdown-3.2.1-py2.py3-none-any.whl\n",
      "Collecting google-auth<2,>=1.6.3 (from tensorboard<2.2.0,>=2.1.0->tensorflow)\n",
      "  Using cached https://files.pythonhosted.org/packages/dc/1a/c3c2f3aa4190d8154a146ad33aa5479c8d193cc6211abe5c535921d93389/google_auth-1.13.1-py2.py3-none-any.whl\n",
      "Requirement already satisfied: requests<3,>=2.21.0 in c:\\users\\sneha\\anaconda3\\lib\\site-packages (from tensorboard<2.2.0,>=2.1.0->tensorflow) (2.22.0)\n",
      "Requirement already satisfied: setuptools>=41.0.0 in c:\\users\\sneha\\anaconda3\\lib\\site-packages (from tensorboard<2.2.0,>=2.1.0->tensorflow) (41.4.0)\n",
      "Requirement already satisfied: h5py in c:\\users\\sneha\\anaconda3\\lib\\site-packages (from keras-applications>=1.0.8->tensorflow) (2.9.0)\n",
      "Collecting requests-oauthlib>=0.7.0 (from google-auth-oauthlib<0.5,>=0.4.1->tensorboard<2.2.0,>=2.1.0->tensorflow)\n",
      "  Using cached https://files.pythonhosted.org/packages/a3/12/b92740d845ab62ea4edf04d2f4164d82532b5a0b03836d4d4e71c6f3d379/requests_oauthlib-1.3.0-py2.py3-none-any.whl\n",
      "Collecting cachetools<5.0,>=2.0.0 (from google-auth<2,>=1.6.3->tensorboard<2.2.0,>=2.1.0->tensorflow)\n",
      "  Using cached https://files.pythonhosted.org/packages/08/6a/abf83cb951617793fd49c98cb9456860f5df66ff89883c8660aa0672d425/cachetools-4.0.0-py3-none-any.whl\n",
      "Collecting pyasn1-modules>=0.2.1 (from google-auth<2,>=1.6.3->tensorboard<2.2.0,>=2.1.0->tensorflow)\n",
      "  Using cached https://files.pythonhosted.org/packages/95/de/214830a981892a3e286c3794f41ae67a4495df1108c3da8a9f62159b9a9d/pyasn1_modules-0.2.8-py2.py3-none-any.whl\n",
      "Collecting rsa<4.1,>=3.1.4 (from google-auth<2,>=1.6.3->tensorboard<2.2.0,>=2.1.0->tensorflow)\n",
      "  Using cached https://files.pythonhosted.org/packages/02/e5/38518af393f7c214357079ce67a317307936896e961e35450b70fad2a9cf/rsa-4.0-py2.py3-none-any.whl\n",
      "Requirement already satisfied: certifi>=2017.4.17 in c:\\users\\sneha\\anaconda3\\lib\\site-packages (from requests<3,>=2.21.0->tensorboard<2.2.0,>=2.1.0->tensorflow) (2019.9.11)\n",
      "Requirement already satisfied: chardet<3.1.0,>=3.0.2 in c:\\users\\sneha\\anaconda3\\lib\\site-packages (from requests<3,>=2.21.0->tensorboard<2.2.0,>=2.1.0->tensorflow) (3.0.4)\n",
      "Requirement already satisfied: urllib3!=1.25.0,!=1.25.1,<1.26,>=1.21.1 in c:\\users\\sneha\\anaconda3\\lib\\site-packages (from requests<3,>=2.21.0->tensorboard<2.2.0,>=2.1.0->tensorflow) (1.24.2)\n",
      "Requirement already satisfied: idna<2.9,>=2.5 in c:\\users\\sneha\\anaconda3\\lib\\site-packages (from requests<3,>=2.21.0->tensorboard<2.2.0,>=2.1.0->tensorflow) (2.8)\n",
      "Collecting oauthlib>=3.0.0 (from requests-oauthlib>=0.7.0->google-auth-oauthlib<0.5,>=0.4.1->tensorboard<2.2.0,>=2.1.0->tensorflow)\n",
      "  Using cached https://files.pythonhosted.org/packages/05/57/ce2e7a8fa7c0afb54a0581b14a65b56e62b5759dbc98e80627142b8a3704/oauthlib-3.1.0-py2.py3-none-any.whl\n",
      "Collecting pyasn1<0.5.0,>=0.4.6 (from pyasn1-modules>=0.2.1->google-auth<2,>=1.6.3->tensorboard<2.2.0,>=2.1.0->tensorflow)\n",
      "  Using cached https://files.pythonhosted.org/packages/62/1e/a94a8d635fa3ce4cfc7f506003548d0a2447ae76fd5ca53932970fe3053f/pyasn1-0.4.8-py2.py3-none-any.whl\n",
      "Installing collected packages: gast, astor, oauthlib, requests-oauthlib, cachetools, pyasn1, pyasn1-modules, rsa, google-auth, google-auth-oauthlib, markdown, grpcio, protobuf, tensorboard, tensorflow-estimator, google-pasta, opt-einsum, termcolor, tensorflow\n",
      "Successfully installed astor-0.8.1 cachetools-4.0.0 gast-0.2.2 google-auth-1.13.1 google-auth-oauthlib-0.4.1 google-pasta-0.2.0 grpcio-1.27.2 markdown-3.2.1 oauthlib-3.1.0 opt-einsum-3.2.0 protobuf-3.11.3 pyasn1-0.4.8 pyasn1-modules-0.2.8 requests-oauthlib-1.3.0 rsa-4.0 tensorboard-2.1.1 tensorflow-2.1.0 tensorflow-estimator-2.1.0 termcolor-1.1.0\n",
      "Note: you may need to restart the kernel to use updated packages.\n"
     ]
    }
   ],
   "source": [
    "pip install tensorflow"
   ]
  },
  {
   "cell_type": "code",
   "execution_count": 33,
   "metadata": {},
   "outputs": [],
   "source": [
    "import random\n",
    "import tensorflow as tf    \n",
    "import tensorflow.keras as keras\n",
    "from tensorflow.keras.models import Sequential\n",
    "from tensorflow.keras.layers import Dense, Flatten, Dropout\n",
    "from tensorflow.keras.utils import to_categorical\n"
   ]
  },
  {
   "cell_type": "code",
   "execution_count": 34,
   "metadata": {},
   "outputs": [],
   "source": [
    "model = Sequential()\n",
    "model.add(Dense(32,activation = 'relu', input_dim = X_train.shape[1]))\n",
    "model.add(Dropout(rate=0.25))\n",
    "model.add(Dense(1,activation='sigmoid'))"
   ]
  },
  {
   "cell_type": "code",
   "execution_count": 35,
   "metadata": {},
   "outputs": [],
   "source": [
    "model.compile(loss = 'binary_crossentropy', optimizer = 'adam',metrics=['accuracy'])"
   ]
  },
  {
   "cell_type": "code",
   "execution_count": 36,
   "metadata": {},
   "outputs": [
    {
     "name": "stdout",
     "output_type": "stream",
     "text": [
      "Train on 73096 samples\n",
      "Epoch 1/5\n",
      "73096/73096 [==============================] - 9s 129us/sample - loss: 0.2521 - accuracy: 0.9054\n",
      "Epoch 2/5\n",
      "73096/73096 [==============================] - 8s 108us/sample - loss: 0.1633 - accuracy: 0.9460\n",
      "Epoch 3/5\n",
      "73096/73096 [==============================] - 8s 115us/sample - loss: 0.1442 - accuracy: 0.9536\n",
      "Epoch 4/5\n",
      "73096/73096 [==============================] - 8s 113us/sample - loss: 0.1362 - accuracy: 0.9571\n",
      "Epoch 5/5\n",
      "73096/73096 [==============================] - 8s 114us/sample - loss: 0.1273 - accuracy: 0.9608\n"
     ]
    },
    {
     "data": {
      "text/plain": [
       "<tensorflow.python.keras.callbacks.History at 0x267d2a5e208>"
      ]
     },
     "execution_count": 36,
     "metadata": {},
     "output_type": "execute_result"
    }
   ],
   "source": [
    "model.fit(X_train,y_train,batch_size=32, epochs = 5, verbose = 1)"
   ]
  },
  {
   "cell_type": "code",
   "execution_count": 37,
   "metadata": {},
   "outputs": [],
   "source": [
    "from sklearn.metrics import roc_auc_score, accuracy_score, precision_score, recall_score\n",
    "def calc_prevalence(y_actual):\n",
    "    return(sum(y_actual)/len(y_actual))\n",
    "def calc_specificity(y_actual,y_pred,thresh):\n",
    "    return sum((y_pred<thresh) & (y_actual == 0)) / sum(y_actual ==0)\n",
    "def print_report(y_actual,y_pred,thresh):\n",
    "    auc = roc_auc_score(y_actual,y_pred)\n",
    "    accuracy = accuracy_score(y_actual,(y_pred>thresh))\n",
    "    recall = recall_score(y_actual,(y_pred>thresh))\n",
    "    precision = precision_score(y_actual,(y_pred>thresh))\n",
    "    specificity = calc_specificity(y_actual, y_pred, thresh)\n",
    "    print('AUC:%.3f'%auc)\n",
    "    print('accuracy:%.3f'%accuracy)\n",
    "    print('recall:%.3f'%recall)\n",
    "    print('precision:%3f'%precision)    \n",
    "    print('specificity:%3f'%specificity)    \n",
    "    print('prevalence:%3f'%calc_prevalence(y_actual))\n",
    "    print('')\n",
    "    return auc, accuracy, recall, precision, specificity"
   ]
  },
  {
   "cell_type": "code",
   "execution_count": 38,
   "metadata": {},
   "outputs": [
    {
     "name": "stdout",
     "output_type": "stream",
     "text": [
      "73096/73096 [==============================] - 3s 44us/sample\n",
      "36003/36003 [==============================] - 2s 65us/sample\n"
     ]
    }
   ],
   "source": [
    "y_train_preds_dense = model.predict_proba(X_train,verbose =1)\n",
    "y_valid_preds_dense = model.predict_proba(X_valid,verbose =1)"
   ]
  },
  {
   "cell_type": "code",
   "execution_count": 39,
   "metadata": {},
   "outputs": [
    {
     "data": {
      "text/plain": [
       "0.3147641457808909"
      ]
     },
     "execution_count": 39,
     "metadata": {},
     "output_type": "execute_result"
    }
   ],
   "source": [
    "thresh = (sum(y_train)/len(y_train))[0]\n",
    "thresh"
   ]
  },
  {
   "cell_type": "code",
   "execution_count": 40,
   "metadata": {},
   "outputs": [
    {
     "name": "stdout",
     "output_type": "stream",
     "text": [
      "Train\n",
      "AUC:0.992\n",
      "accuracy:0.965\n",
      "recall:0.961\n",
      "precision:0.931248\n",
      "specificity:0.967397\n",
      "prevalence:0.314764\n",
      "\n",
      "Valid\n",
      "AUC:0.988\n",
      "accuracy:0.959\n",
      "recall:0.953\n",
      "precision:0.920315\n",
      "specificity:0.962278\n",
      "prevalence:0.313752\n",
      "\n"
     ]
    }
   ],
   "source": [
    "print('Train');\n",
    "print_report(y_train, y_train_preds_dense, thresh)\n",
    "print('Valid');\n",
    "print_report(y_valid, y_valid_preds_dense, thresh);"
   ]
  },
  {
   "cell_type": "code",
   "execution_count": 42,
   "metadata": {},
   "outputs": [
    {
     "name": "stdout",
     "output_type": "stream",
     "text": [
      "36 12\n"
     ]
    }
   ],
   "source": [
    "import random\n",
    "random.seed(42)\n",
    "pts_train = random.sample(pts,36)\n",
    "pts_valid = [pt for pt in pts if pt not in pts_train]\n",
    "print(len(pts_train),len(pts_valid))"
   ]
  },
  {
   "cell_type": "code",
   "execution_count": 43,
   "metadata": {},
   "outputs": [
    {
     "name": "stdout",
     "output_type": "stream",
     "text": [
      "(80614, 2160) (80614, 1) 80614\n",
      "(28485, 2160) (28485, 1) 28485\n"
     ]
    }
   ],
   "source": [
    "X_train, y_train, sym_train = make_dataset(pts_train,num_sec,fs)\n",
    "X_valid, y_valid, sym_valid = make_dataset(pts_valid, num_sec,fs)\n",
    "print(X_train.shape, y_train.shape, len(sym_train))\n",
    "print(X_valid.shape, y_valid.shape,len(sym_valid))"
   ]
  },
  {
   "cell_type": "code",
   "execution_count": 44,
   "metadata": {},
   "outputs": [
    {
     "name": "stdout",
     "output_type": "stream",
     "text": [
      "Train on 80614 samples\n",
      "Epoch 1/5\n",
      "80614/80614 [==============================] - 17s 210us/sample - loss: 0.2266 - accuracy: 0.9190\n",
      "Epoch 2/5\n",
      "80614/80614 [==============================] - 15s 186us/sample - loss: 0.1469 - accuracy: 0.9563\n",
      "Epoch 3/5\n",
      "80614/80614 [==============================] - 13s 163us/sample - loss: 0.1288 - accuracy: 0.9622\n",
      "Epoch 4/5\n",
      "80614/80614 [==============================] - 14s 172us/sample - loss: 0.1194 - accuracy: 0.9656\n",
      "Epoch 5/5\n",
      "80614/80614 [==============================] - 12s 147us/sample - loss: 0.1119 - accuracy: 0.9672\n"
     ]
    },
    {
     "data": {
      "text/plain": [
       "<tensorflow.python.keras.callbacks.History at 0x267d2e96c88>"
      ]
     },
     "execution_count": 44,
     "metadata": {},
     "output_type": "execute_result"
    }
   ],
   "source": [
    "## New Dense Model:\n",
    "\n",
    "model = Sequential()\n",
    "model.add(Dense(32,activation = 'relu', input_dim = X_train.shape[1]))\n",
    "model.add(Dropout(rate=0.25))\n",
    "model.add(Dense(1,activation = 'sigmoid'))\n",
    "\n",
    "model.compile(loss = 'binary_crossentropy',optimizer='adam',metrics = ['accuracy'] )\n",
    "\n",
    "model.fit(X_train, y_train, batch_size = 32, epochs = 5, verbose = 1)"
   ]
  },
  {
   "cell_type": "code",
   "execution_count": 45,
   "metadata": {},
   "outputs": [
    {
     "name": "stdout",
     "output_type": "stream",
     "text": [
      "80614/80614 [==============================] - 7s 81us/sample\n",
      "28485/28485 [==============================] - 2s 66us/sample\n"
     ]
    }
   ],
   "source": [
    "y_train_preds_dense = model.predict_proba(X_train, verbose =1)\n",
    "y_valid_preds_dense = model.predict_proba(X_valid, verbose =1)\n"
   ]
  },
  {
   "cell_type": "code",
   "execution_count": 46,
   "metadata": {},
   "outputs": [
    {
     "data": {
      "text/plain": [
       "0.29906715955045027"
      ]
     },
     "execution_count": 46,
     "metadata": {},
     "output_type": "execute_result"
    }
   ],
   "source": [
    "thresh = (sum(y_train)/len(y_train))[0]\n",
    "thresh"
   ]
  },
  {
   "cell_type": "code",
   "execution_count": 47,
   "metadata": {},
   "outputs": [
    {
     "name": "stdout",
     "output_type": "stream",
     "text": [
      "Train\n",
      "AUC:0.993\n",
      "accuracy:0.970\n",
      "recall:0.964\n",
      "precision:0.936714\n",
      "specificity:0.972215\n",
      "prevalence:0.299067\n",
      "\n",
      "Valid\n",
      "AUC:0.850\n",
      "accuracy:0.770\n",
      "recall:0.450\n",
      "precision:0.830769\n",
      "specificity:0.948879\n",
      "prevalence:0.357908\n",
      "\n"
     ]
    }
   ],
   "source": [
    "print('Train');\n",
    "print_report(y_train,y_train_preds_dense, thresh);\n",
    "print('Valid');\n",
    "print_report(y_valid,y_valid_preds_dense, thresh);"
   ]
  },
  {
   "cell_type": "code",
   "execution_count": 63,
   "metadata": {},
   "outputs": [
    {
     "name": "stdout",
     "output_type": "stream",
     "text": [
      "1\n",
      "- 0.9272578336783087 0.6970590328399383\n",
      "18\n",
      "- 0.9951005291156473 0.8321804956438565\n",
      "36\n",
      "- 0.9932850222327249 0.8460329453191471\n"
     ]
    }
   ],
   "source": [
    "aucs_train = []\n",
    "aucs_valid = []\n",
    "\n",
    "n_pts = [1,18,36]\n",
    "\n",
    "for n_pt in n_pts:\n",
    "    print(n_pt)\n",
    "    pts_sub = pts_train[:n_pt]\n",
    "    X_sub, y_sub, sym_sub = make_dataset(pts_sub, num_sec, fs)\n",
    "    model = Sequential()\n",
    "    model.add(Dense(32, activation = 'relu', input_dim = X_train.shape[1]))\n",
    "    model.add(Dropout(rate=0.25))\n",
    "    model.add(Dense(1,activation = 'sigmoid'))\n",
    "    model.compile(loss = 'binary_crossentropy',optimizer='adam',metrics = ['accuracy'] )\n",
    "    model.fit(X_sub, y_sub, batch_size = 32, epochs = 5, verbose =0)\n",
    "    y_sub_preds_dense = model.predict_proba(X_sub, verbose = 0)\n",
    "    y_valid_preds_dense = model.predict_proba(X_valid, verbose =0)\n",
    "    \n",
    "    auc_train = roc_auc_score(y_sub,y_sub_preds_dense)\n",
    "    auc_valid = roc_auc_score(y_valid, y_valid_preds_dense)\n",
    "    print('-', auc_train, auc_valid)\n",
    "    aucs_train.append(auc_train)\n",
    "    aucs_valid.append(auc_valid)\n",
    "    \n",
    "    \n"
   ]
  },
  {
   "cell_type": "code",
   "execution_count": 66,
   "metadata": {},
   "outputs": [
    {
     "data": {
      "image/png": "[encoded data removed]",
      "text/plain": [
       "<Figure size 432x288 with 1 Axes>"
      ]
     },
     "metadata": {
      "needs_background": "light"
     },
     "output_type": "display_data"
    }
   ],
   "source": [
    "plt.plot(n_pts, aucs_train, 'o-', label = 'Train')\n",
    "plt.plot(n_pts, aucs_valid, 'o-', label = 'Valid')\n",
    "plt.xlabel('Number of Training Pts')\n",
    "plt.ylabel('AUC')\n",
    "plt.legend(bbox_to_anchor = (1.04, 1), loc = 'upper left')\n",
    "plt.show()"
   ]
  },
  {
   "cell_type": "code",
   "execution_count": 67,
   "metadata": {},
   "outputs": [
    {
     "name": "stdout",
     "output_type": "stream",
     "text": [
      "(80614, 2160, 1)\n",
      "(28485, 2160, 1)\n"
     ]
    }
   ],
   "source": [
    "X_train_cnn = np.reshape(X_train, (X_train.shape[0], X_train.shape[1], 1)) \n",
    "X_valid_cnn = np.reshape (X_valid, (X_valid.shape[0], X_valid.shape[1], 1))\n",
    "\n",
    "print(X_train_cnn.shape) \n",
    "print(X_valid_cnn.shape)"
   ]
  },
  {
   "cell_type": "code",
   "execution_count": 81,
   "metadata": {},
   "outputs": [],
   "source": [
    "from keras.layers import Conv1D\n",
    "from keras.layers import Flatten\n",
    "\n",
    "from keras.layers import Dense, Embedding, Dropout, LSTM\n",
    "from keras.models import Sequential\n",
    "from keras.layers import Bidirectional\n",
    "from keras.layers.convolutional import Conv1D\n",
    "from keras.layers.convolutional import MaxPooling1D"
   ]
  },
  {
   "cell_type": "code",
   "execution_count": 82,
   "metadata": {},
   "outputs": [],
   "source": [
    "model = Sequential() \n",
    "model.add(Conv1D(filters = 128, kernel_size = 5, activation='relu', input_shape = (2160,1))) \n",
    "model.add(Dropout (rate = 0.25)) \n",
    "model.add(Flatten()) \n",
    "model.add(Dense(1, activation = 'sigmoid'))\n",
    "model.compile(loss = 'binary_crossentropy', optimizer =  'adam', metrics = ['accuracy'])"
   ]
  },
  {
   "cell_type": "code",
   "execution_count": 83,
   "metadata": {},
   "outputs": [
    {
     "name": "stdout",
     "output_type": "stream",
     "text": [
      "Epoch 1/2\n",
      "80614/80614 [==============================] - 555s 7ms/step - loss: 0.1965 - accuracy: 0.9346\n",
      "Epoch 2/2\n",
      "80614/80614 [==============================] - 534s 7ms/step - loss: 0.1169 - accuracy: 0.9658\n"
     ]
    },
    {
     "data": {
      "text/plain": [
       "<keras.callbacks.callbacks.History at 0x267de3a18c8>"
      ]
     },
     "execution_count": 83,
     "metadata": {},
     "output_type": "execute_result"
    }
   ],
   "source": [
    "model.fit(X_train_cnn, y_train, batch_size = 32, epochs=2, verbose = 1)"
   ]
  },
  {
   "cell_type": "code",
   "execution_count": 84,
   "metadata": {},
   "outputs": [
    {
     "name": "stdout",
     "output_type": "stream",
     "text": [
      "80614/80614 [==============================] - 81s 1ms/step\n",
      "28485/28485 [==============================] - 29s 1ms/step\n"
     ]
    }
   ],
   "source": [
    "y_train_preds_cnn = model.predict_proba(X_train_cnn, verbose = 1)\n",
    "y_valid_preds_cnn = model.predict_proba(X_valid_cnn, verbose = 1)"
   ]
  },
  {
   "cell_type": "code",
   "execution_count": 85,
   "metadata": {},
   "outputs": [
    {
     "name": "stdout",
     "output_type": "stream",
     "text": [
      "Train\n",
      "AUC:0.986\n",
      "accuracy:0.967\n",
      "recall:0.927\n",
      "precision:0.962850\n",
      "specificity:0.984745\n",
      "prevalence:0.299067\n",
      "\n",
      "Valid\n",
      "AUC:0.916\n",
      "accuracy:0.853\n",
      "recall:0.704\n",
      "precision:0.860841\n",
      "specificity:0.936523\n",
      "prevalence:0.357908\n",
      "\n"
     ]
    }
   ],
   "source": [
    "print('Train');\n",
    "print_report(y_train, y_train_preds_cnn, thresh);\n",
    "print('Valid');\n",
    "print_report(y_valid, y_valid_preds_cnn, thresh);"
   ]
  },
  {
   "cell_type": "code",
   "execution_count": 86,
   "metadata": {},
   "outputs": [],
   "source": [
    "from keras.layers import Bidirectional, LSTM"
   ]
  },
  {
   "cell_type": "code",
   "execution_count": 87,
   "metadata": {},
   "outputs": [],
   "source": [
    "model = Sequential()\n",
    "model.add(Bidirectional(LSTM(64, input_shape = (X_train_cnn.shape[1], X_train_cnn.shape[2]))))\n",
    "model.add(Dropout(rate=0.25))\n",
    "model.add(Dense(1, activation = 'sigmoid'))\n",
    "model.compile(loss = 'binary_crossentropy', optimizer = 'adam', metrics=['accuracy'])"
   ]
  },
  {
   "cell_type": "code",
   "execution_count": 88,
   "metadata": {},
   "outputs": [
    {
     "name": "stdout",
     "output_type": "stream",
     "text": [
      "Epoch 1/1\n",
      "10000/10000 [==============================] - 775s 77ms/step - loss: 0.5916 - accuracy: 0.6881\n"
     ]
    },
    {
     "data": {
      "text/plain": [
       "<keras.callbacks.callbacks.History at 0x267de2e0f48>"
      ]
     },
     "execution_count": 88,
     "metadata": {},
     "output_type": "execute_result"
    }
   ],
   "source": [
    "model.fit(X_train_cnn[:10000], y_train[:10000], batch_size = 32, epochs =1, verbose = 1)"
   ]
  },
  {
   "cell_type": "code",
   "execution_count": 91,
   "metadata": {},
   "outputs": [
    {
     "name": "stdout",
     "output_type": "stream",
     "text": [
      "10000/10000 [==============================] - 77s 8ms/step\n",
      "28485/28485 [==============================] - 259s 9ms/step\n"
     ]
    }
   ],
   "source": [
    "y_train_preds_lstm = model.predict_proba(X_train_cnn[:10000], verbose = 1)\n",
    "y_valid_preds_lstm = model.predict_proba(X_valid_cnn, verbose = 1)"
   ]
  },
  {
   "cell_type": "code",
   "execution_count": 92,
   "metadata": {},
   "outputs": [
    {
     "name": "stdout",
     "output_type": "stream",
     "text": [
      "Train\n",
      "AUC:0.778\n",
      "accuracy:0.679\n",
      "recall:0.899\n",
      "precision:0.617903\n",
      "specificity:0.467802\n",
      "prevalence:0.489100\n",
      "\n",
      "Valid\n",
      "AUC:0.470\n",
      "accuracy:0.526\n",
      "recall:0.347\n",
      "precision:0.341047\n",
      "specificity:0.626353\n",
      "prevalence:0.357908\n",
      "\n"
     ]
    }
   ],
   "source": [
    "print('Train');\n",
    "print_report(y_train[:10000], y_train_preds_lstm, thresh);\n",
    "print('Valid');\n",
    "print_report(y_valid, y_valid_preds_lstm, thresh);"
   ]
  }
 ],
 "metadata": {
  "kernelspec": {
   "display_name": "Python 3",
   "language": "python",
   "name": "python3"
  },
  "language_info": {
   "codemirror_mode": {
    "name": "ipython",
    "version": 3
   },
   "file_extension": ".py",
   "mimetype": "text/x-python",
   "name": "python",
   "nbconvert_exporter": "python",
   "pygments_lexer": "ipython3",
   "version": "3.7.4"
  }
 },
 "nbformat": 4,
 "nbformat_minor": 2
}
