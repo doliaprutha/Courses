{
 "cells": [
  {
   "cell_type": "markdown",
   "metadata": {},
   "source": [
    "# Prutha Dolia\n",
    "### Part 1\n",
    "\n",
    "*Due: 9/27/19 11:59pm* \n"
   ]
  },
  {
   "cell_type": "code",
   "execution_count": 185,
   "metadata": {},
   "outputs": [],
   "source": [
    "import pandas as pd\n",
    "import numpy as np\n",
    "import matplotlib.pyplot as plt\n",
    "from numpy import percentile\n",
    "%matplotlib inline\n",
    "import seaborn as sns\n",
    "from numpy import percentile"
   ]
  },
  {
   "cell_type": "markdown",
   "metadata": {},
   "source": [
    "## Part 1 \n",
    "\n",
    "This problem will use data from the Department of Transportation's Transit Statistics. The data was collected from:  \n",
    "https://www.transtats.bts.gov/DL_SelectFields.asp?Table_ID=236\n",
    "Information on the variables can be found there in the Glossary.  You will use the file `flights-jan2019-ORD-MSP.csv`, includes flight information for all flights arriving or leaving Chicago O'hare (ORD) and Minneapolis (MSP) airports in January 2019.   \n",
    "\n",
    "Information about airports is also available in the file `airports.dat`.  This data was collected from [Open Flights](https://openflights.org/data.html).  \n",
    "\n",
    "Disclaimer: There are additional functions to help deal with time data that is not presented or expected in the problems asked below."
   ]
  },
  {
   "cell_type": "code",
   "execution_count": 53,
   "metadata": {
    "scrolled": true
   },
   "outputs": [
    {
     "data": {
      "text/html": [
       "<div>\n",
       "<style scoped>\n",
       "    .dataframe tbody tr th:only-of-type {\n",
       "        vertical-align: middle;\n",
       "    }\n",
       "\n",
       "    .dataframe tbody tr th {\n",
       "        vertical-align: top;\n",
       "    }\n",
       "\n",
       "    .dataframe thead th {\n",
       "        text-align: right;\n",
       "    }\n",
       "</style>\n",
       "<table border=\"1\" class=\"dataframe\">\n",
       "  <thead>\n",
       "    <tr style=\"text-align: right;\">\n",
       "      <th></th>\n",
       "      <th>YEAR</th>\n",
       "      <th>MONTH</th>\n",
       "      <th>DAY_OF_MONTH</th>\n",
       "      <th>FL_DATE</th>\n",
       "      <th>OP_UNIQUE_CARRIER</th>\n",
       "      <th>TAIL_NUM</th>\n",
       "      <th>OP_CARRIER_FL_NUM</th>\n",
       "      <th>ORIGIN</th>\n",
       "      <th>DEST</th>\n",
       "      <th>CRS_DEP_TIME</th>\n",
       "      <th>DEP_TIME</th>\n",
       "      <th>CRS_ARR_TIME</th>\n",
       "      <th>ARR_TIME</th>\n",
       "    </tr>\n",
       "  </thead>\n",
       "  <tbody>\n",
       "    <tr>\n",
       "      <th>0</th>\n",
       "      <td>2019</td>\n",
       "      <td>1</td>\n",
       "      <td>10</td>\n",
       "      <td>2019-01-10</td>\n",
       "      <td>OO</td>\n",
       "      <td>N938SW</td>\n",
       "      <td>5011</td>\n",
       "      <td>ORD</td>\n",
       "      <td>FWA</td>\n",
       "      <td>1605.0</td>\n",
       "      <td>1629.0</td>\n",
       "      <td>1816.0</td>\n",
       "      <td>1827.0</td>\n",
       "    </tr>\n",
       "    <tr>\n",
       "      <th>1</th>\n",
       "      <td>2019</td>\n",
       "      <td>1</td>\n",
       "      <td>10</td>\n",
       "      <td>2019-01-10</td>\n",
       "      <td>OO</td>\n",
       "      <td>N908SW</td>\n",
       "      <td>5012</td>\n",
       "      <td>ORD</td>\n",
       "      <td>MBS</td>\n",
       "      <td>1400.0</td>\n",
       "      <td>1403.0</td>\n",
       "      <td>1616.0</td>\n",
       "      <td>1626.0</td>\n",
       "    </tr>\n",
       "    <tr>\n",
       "      <th>2</th>\n",
       "      <td>2019</td>\n",
       "      <td>1</td>\n",
       "      <td>10</td>\n",
       "      <td>2019-01-10</td>\n",
       "      <td>OO</td>\n",
       "      <td>N980SW</td>\n",
       "      <td>5014</td>\n",
       "      <td>ORD</td>\n",
       "      <td>LWB</td>\n",
       "      <td>1415.0</td>\n",
       "      <td>1405.0</td>\n",
       "      <td>1720.0</td>\n",
       "      <td>1703.0</td>\n",
       "    </tr>\n",
       "    <tr>\n",
       "      <th>3</th>\n",
       "      <td>2019</td>\n",
       "      <td>1</td>\n",
       "      <td>10</td>\n",
       "      <td>2019-01-10</td>\n",
       "      <td>OO</td>\n",
       "      <td>N701BR</td>\n",
       "      <td>5023</td>\n",
       "      <td>ORD</td>\n",
       "      <td>SLN</td>\n",
       "      <td>1007.0</td>\n",
       "      <td>1007.0</td>\n",
       "      <td>1213.0</td>\n",
       "      <td>1234.0</td>\n",
       "    </tr>\n",
       "    <tr>\n",
       "      <th>4</th>\n",
       "      <td>2019</td>\n",
       "      <td>1</td>\n",
       "      <td>10</td>\n",
       "      <td>2019-01-10</td>\n",
       "      <td>OO</td>\n",
       "      <td>N471CA</td>\n",
       "      <td>5030</td>\n",
       "      <td>ORD</td>\n",
       "      <td>SPI</td>\n",
       "      <td>1400.0</td>\n",
       "      <td>1349.0</td>\n",
       "      <td>1504.0</td>\n",
       "      <td>1442.0</td>\n",
       "    </tr>\n",
       "  </tbody>\n",
       "</table>\n",
       "</div>"
      ],
      "text/plain": [
       "   YEAR  MONTH  DAY_OF_MONTH     FL_DATE OP_UNIQUE_CARRIER TAIL_NUM  \\\n",
       "0  2019      1            10  2019-01-10                OO   N938SW   \n",
       "1  2019      1            10  2019-01-10                OO   N908SW   \n",
       "2  2019      1            10  2019-01-10                OO   N980SW   \n",
       "3  2019      1            10  2019-01-10                OO   N701BR   \n",
       "4  2019      1            10  2019-01-10                OO   N471CA   \n",
       "\n",
       "   OP_CARRIER_FL_NUM ORIGIN DEST  CRS_DEP_TIME  DEP_TIME  CRS_ARR_TIME  \\\n",
       "0               5011    ORD  FWA        1605.0    1629.0        1816.0   \n",
       "1               5012    ORD  MBS        1400.0    1403.0        1616.0   \n",
       "2               5014    ORD  LWB        1415.0    1405.0        1720.0   \n",
       "3               5023    ORD  SLN        1007.0    1007.0        1213.0   \n",
       "4               5030    ORD  SPI        1400.0    1349.0        1504.0   \n",
       "\n",
       "   ARR_TIME  \n",
       "0    1827.0  \n",
       "1    1626.0  \n",
       "2    1703.0  \n",
       "3    1234.0  \n",
       "4    1442.0  "
      ]
     },
     "execution_count": 53,
     "metadata": {},
     "output_type": "execute_result"
    }
   ],
   "source": [
    "flights = pd.read_csv(\"flights-jan2019-ORD-MSP.csv\", \n",
    "                      dtype = {'CRS_ARR_TIME': 'f8', 'CRS_DEP_TIME': 'f8'})\n",
    "flights.head()"
   ]
  },
  {
   "cell_type": "code",
   "execution_count": 54,
   "metadata": {},
   "outputs": [
    {
     "data": {
      "text/html": [
       "<div>\n",
       "<style scoped>\n",
       "    .dataframe tbody tr th:only-of-type {\n",
       "        vertical-align: middle;\n",
       "    }\n",
       "\n",
       "    .dataframe tbody tr th {\n",
       "        vertical-align: top;\n",
       "    }\n",
       "\n",
       "    .dataframe thead th {\n",
       "        text-align: right;\n",
       "    }\n",
       "</style>\n",
       "<table border=\"1\" class=\"dataframe\">\n",
       "  <thead>\n",
       "    <tr style=\"text-align: right;\">\n",
       "      <th></th>\n",
       "      <th>openflights_id</th>\n",
       "      <th>name</th>\n",
       "      <th>city</th>\n",
       "      <th>country</th>\n",
       "      <th>iata</th>\n",
       "      <th>icao</th>\n",
       "      <th>latitude</th>\n",
       "      <th>longitude</th>\n",
       "      <th>altitude</th>\n",
       "      <th>tz</th>\n",
       "      <th>dst</th>\n",
       "      <th>tz_olson</th>\n",
       "      <th>type</th>\n",
       "      <th>airport_dsource</th>\n",
       "    </tr>\n",
       "  </thead>\n",
       "  <tbody>\n",
       "    <tr>\n",
       "      <th>0</th>\n",
       "      <td>1</td>\n",
       "      <td>Goroka</td>\n",
       "      <td>Goroka</td>\n",
       "      <td>Papua New Guinea</td>\n",
       "      <td>GKA</td>\n",
       "      <td>AYGA</td>\n",
       "      <td>-6.081689</td>\n",
       "      <td>145.391881</td>\n",
       "      <td>5282</td>\n",
       "      <td>10.0</td>\n",
       "      <td>U</td>\n",
       "      <td>Pacific/Port_Moresby</td>\n",
       "      <td>NaN</td>\n",
       "      <td>NaN</td>\n",
       "    </tr>\n",
       "    <tr>\n",
       "      <th>1</th>\n",
       "      <td>2</td>\n",
       "      <td>Madang</td>\n",
       "      <td>Madang</td>\n",
       "      <td>Papua New Guinea</td>\n",
       "      <td>MAG</td>\n",
       "      <td>AYMD</td>\n",
       "      <td>-5.207083</td>\n",
       "      <td>145.788700</td>\n",
       "      <td>20</td>\n",
       "      <td>10.0</td>\n",
       "      <td>U</td>\n",
       "      <td>Pacific/Port_Moresby</td>\n",
       "      <td>NaN</td>\n",
       "      <td>NaN</td>\n",
       "    </tr>\n",
       "    <tr>\n",
       "      <th>2</th>\n",
       "      <td>3</td>\n",
       "      <td>Mount Hagen</td>\n",
       "      <td>Mount Hagen</td>\n",
       "      <td>Papua New Guinea</td>\n",
       "      <td>HGU</td>\n",
       "      <td>AYMH</td>\n",
       "      <td>-5.826789</td>\n",
       "      <td>144.295861</td>\n",
       "      <td>5388</td>\n",
       "      <td>10.0</td>\n",
       "      <td>U</td>\n",
       "      <td>Pacific/Port_Moresby</td>\n",
       "      <td>NaN</td>\n",
       "      <td>NaN</td>\n",
       "    </tr>\n",
       "    <tr>\n",
       "      <th>3</th>\n",
       "      <td>4</td>\n",
       "      <td>Nadzab</td>\n",
       "      <td>Nadzab</td>\n",
       "      <td>Papua New Guinea</td>\n",
       "      <td>LAE</td>\n",
       "      <td>AYNZ</td>\n",
       "      <td>-6.569828</td>\n",
       "      <td>146.726242</td>\n",
       "      <td>239</td>\n",
       "      <td>10.0</td>\n",
       "      <td>U</td>\n",
       "      <td>Pacific/Port_Moresby</td>\n",
       "      <td>NaN</td>\n",
       "      <td>NaN</td>\n",
       "    </tr>\n",
       "    <tr>\n",
       "      <th>4</th>\n",
       "      <td>5</td>\n",
       "      <td>Port Moresby Jacksons Intl</td>\n",
       "      <td>Port Moresby</td>\n",
       "      <td>Papua New Guinea</td>\n",
       "      <td>POM</td>\n",
       "      <td>AYPY</td>\n",
       "      <td>-9.443383</td>\n",
       "      <td>147.220050</td>\n",
       "      <td>146</td>\n",
       "      <td>10.0</td>\n",
       "      <td>U</td>\n",
       "      <td>Pacific/Port_Moresby</td>\n",
       "      <td>NaN</td>\n",
       "      <td>NaN</td>\n",
       "    </tr>\n",
       "  </tbody>\n",
       "</table>\n",
       "</div>"
      ],
      "text/plain": [
       "   openflights_id                        name          city           country  \\\n",
       "0               1                      Goroka        Goroka  Papua New Guinea   \n",
       "1               2                      Madang        Madang  Papua New Guinea   \n",
       "2               3                 Mount Hagen   Mount Hagen  Papua New Guinea   \n",
       "3               4                      Nadzab        Nadzab  Papua New Guinea   \n",
       "4               5  Port Moresby Jacksons Intl  Port Moresby  Papua New Guinea   \n",
       "\n",
       "  iata  icao  latitude   longitude  altitude    tz dst              tz_olson  \\\n",
       "0  GKA  AYGA -6.081689  145.391881      5282  10.0   U  Pacific/Port_Moresby   \n",
       "1  MAG  AYMD -5.207083  145.788700        20  10.0   U  Pacific/Port_Moresby   \n",
       "2  HGU  AYMH -5.826789  144.295861      5388  10.0   U  Pacific/Port_Moresby   \n",
       "3  LAE  AYNZ -6.569828  146.726242       239  10.0   U  Pacific/Port_Moresby   \n",
       "4  POM  AYPY -9.443383  147.220050       146  10.0   U  Pacific/Port_Moresby   \n",
       "\n",
       "   type  airport_dsource  \n",
       "0   NaN              NaN  \n",
       "1   NaN              NaN  \n",
       "2   NaN              NaN  \n",
       "3   NaN              NaN  \n",
       "4   NaN              NaN  "
      ]
     },
     "execution_count": 54,
     "metadata": {},
     "output_type": "execute_result"
    }
   ],
   "source": [
    "airports_cols = [\n",
    "    'openflights_id',\n",
    "    'name',\n",
    "    'city',\n",
    "    'country',\n",
    "    'iata',\n",
    "    'icao',\n",
    "    'latitude',\n",
    "    'longitude',\n",
    "    'altitude',\n",
    "    'tz',\n",
    "    'dst',\n",
    "    'tz_olson',\n",
    "    'type',\n",
    "    'airport_dsource'\n",
    "]\n",
    "\n",
    "airports = pd.read_csv(\"airports.dat\", sep =',', names=airports_cols)\n",
    "airports.head()"
   ]
  },
  {
   "cell_type": "markdown",
   "metadata": {},
   "source": [
    "### Question 1  (10 pts)\n",
    "\n",
    "Both the departure and arrival were read in a floating-point numbers. Write two functions, `extract_hour` and `extract_mins` that converts military time to hours and minutes, respectively. Hint: You may want to use modular arithmetic and integer division."
   ]
  },
  {
   "cell_type": "code",
   "execution_count": 55,
   "metadata": {},
   "outputs": [],
   "source": [
    "def extract_hour(time):\n",
    "    return(pd.to_numeric(time//100))"
   ]
  },
  {
   "cell_type": "code",
   "execution_count": 56,
   "metadata": {},
   "outputs": [],
   "source": [
    "def extract_mins(time):\n",
    "    return(pd.to_numeric(time%100))"
   ]
  },
  {
   "cell_type": "markdown",
   "metadata": {},
   "source": [
    "### Question 2  (10 pts)\n",
    "\n",
    "Using your two functions above, filter the `flights` data for flights that departed 15 or more minutes later than scheduled.  You do not need to worry about flights that were delayed to the next day for this question."
   ]
  },
  {
   "cell_type": "code",
   "execution_count": 57,
   "metadata": {},
   "outputs": [],
   "source": [
    "def convert_to_minofday(time):\n",
    "    hr = extract_hour(time)\n",
    "    min = extract_mins(time)\n",
    "    return(hr*60+min)\n",
    "\n",
    "def calc_time_diff(x, y):\n",
    "    time1 = convert_to_minofday(x)\n",
    "    time2 = convert_to_minofday(y)\n",
    "    return(time2-time1)"
   ]
  },
  {
   "cell_type": "code",
   "execution_count": 58,
   "metadata": {},
   "outputs": [
    {
     "data": {
      "text/html": [
       "<div>\n",
       "<style scoped>\n",
       "    .dataframe tbody tr th:only-of-type {\n",
       "        vertical-align: middle;\n",
       "    }\n",
       "\n",
       "    .dataframe tbody tr th {\n",
       "        vertical-align: top;\n",
       "    }\n",
       "\n",
       "    .dataframe thead th {\n",
       "        text-align: right;\n",
       "    }\n",
       "</style>\n",
       "<table border=\"1\" class=\"dataframe\">\n",
       "  <thead>\n",
       "    <tr style=\"text-align: right;\">\n",
       "      <th></th>\n",
       "      <th>YEAR</th>\n",
       "      <th>MONTH</th>\n",
       "      <th>DAY_OF_MONTH</th>\n",
       "      <th>FL_DATE</th>\n",
       "      <th>OP_UNIQUE_CARRIER</th>\n",
       "      <th>TAIL_NUM</th>\n",
       "      <th>OP_CARRIER_FL_NUM</th>\n",
       "      <th>ORIGIN</th>\n",
       "      <th>DEST</th>\n",
       "      <th>CRS_DEP_TIME</th>\n",
       "      <th>DEP_TIME</th>\n",
       "      <th>CRS_ARR_TIME</th>\n",
       "      <th>ARR_TIME</th>\n",
       "    </tr>\n",
       "  </thead>\n",
       "  <tbody>\n",
       "    <tr>\n",
       "      <th>0</th>\n",
       "      <td>2019</td>\n",
       "      <td>1</td>\n",
       "      <td>10</td>\n",
       "      <td>2019-01-10</td>\n",
       "      <td>OO</td>\n",
       "      <td>N938SW</td>\n",
       "      <td>5011</td>\n",
       "      <td>ORD</td>\n",
       "      <td>FWA</td>\n",
       "      <td>1605.0</td>\n",
       "      <td>1629.0</td>\n",
       "      <td>1816.0</td>\n",
       "      <td>1827.0</td>\n",
       "    </tr>\n",
       "    <tr>\n",
       "      <th>6</th>\n",
       "      <td>2019</td>\n",
       "      <td>1</td>\n",
       "      <td>10</td>\n",
       "      <td>2019-01-10</td>\n",
       "      <td>OO</td>\n",
       "      <td>N980SW</td>\n",
       "      <td>5037</td>\n",
       "      <td>ORD</td>\n",
       "      <td>MKG</td>\n",
       "      <td>1025.0</td>\n",
       "      <td>1046.0</td>\n",
       "      <td>1232.0</td>\n",
       "      <td>1246.0</td>\n",
       "    </tr>\n",
       "    <tr>\n",
       "      <th>13</th>\n",
       "      <td>2019</td>\n",
       "      <td>1</td>\n",
       "      <td>10</td>\n",
       "      <td>2019-01-10</td>\n",
       "      <td>OO</td>\n",
       "      <td>N963SW</td>\n",
       "      <td>5060</td>\n",
       "      <td>ORD</td>\n",
       "      <td>AVL</td>\n",
       "      <td>1800.0</td>\n",
       "      <td>1844.0</td>\n",
       "      <td>2052.0</td>\n",
       "      <td>2158.0</td>\n",
       "    </tr>\n",
       "    <tr>\n",
       "      <th>27</th>\n",
       "      <td>2019</td>\n",
       "      <td>1</td>\n",
       "      <td>10</td>\n",
       "      <td>2019-01-10</td>\n",
       "      <td>OO</td>\n",
       "      <td>N920SW</td>\n",
       "      <td>5240</td>\n",
       "      <td>ORD</td>\n",
       "      <td>BHM</td>\n",
       "      <td>1535.0</td>\n",
       "      <td>1610.0</td>\n",
       "      <td>1733.0</td>\n",
       "      <td>1801.0</td>\n",
       "    </tr>\n",
       "    <tr>\n",
       "      <th>28</th>\n",
       "      <td>2019</td>\n",
       "      <td>1</td>\n",
       "      <td>10</td>\n",
       "      <td>2019-01-10</td>\n",
       "      <td>OO</td>\n",
       "      <td>N916SW</td>\n",
       "      <td>5252</td>\n",
       "      <td>ORD</td>\n",
       "      <td>BIS</td>\n",
       "      <td>1000.0</td>\n",
       "      <td>1053.0</td>\n",
       "      <td>1227.0</td>\n",
       "      <td>1309.0</td>\n",
       "    </tr>\n",
       "  </tbody>\n",
       "</table>\n",
       "</div>"
      ],
      "text/plain": [
       "    YEAR  MONTH  DAY_OF_MONTH     FL_DATE OP_UNIQUE_CARRIER TAIL_NUM  \\\n",
       "0   2019      1            10  2019-01-10                OO   N938SW   \n",
       "6   2019      1            10  2019-01-10                OO   N980SW   \n",
       "13  2019      1            10  2019-01-10                OO   N963SW   \n",
       "27  2019      1            10  2019-01-10                OO   N920SW   \n",
       "28  2019      1            10  2019-01-10                OO   N916SW   \n",
       "\n",
       "    OP_CARRIER_FL_NUM ORIGIN DEST  CRS_DEP_TIME  DEP_TIME  CRS_ARR_TIME  \\\n",
       "0                5011    ORD  FWA        1605.0    1629.0        1816.0   \n",
       "6                5037    ORD  MKG        1025.0    1046.0        1232.0   \n",
       "13               5060    ORD  AVL        1800.0    1844.0        2052.0   \n",
       "27               5240    ORD  BHM        1535.0    1610.0        1733.0   \n",
       "28               5252    ORD  BIS        1000.0    1053.0        1227.0   \n",
       "\n",
       "    ARR_TIME  \n",
       "0     1827.0  \n",
       "6     1246.0  \n",
       "13    2158.0  \n",
       "27    1801.0  \n",
       "28    1309.0  "
      ]
     },
     "execution_count": 58,
     "metadata": {},
     "output_type": "execute_result"
    }
   ],
   "source": [
    "#data for flights that departed 15 or more minutes later than scheduled\n",
    "flights1 = flights[(flights[\"DEP_TIME\"] - flights[\"CRS_DEP_TIME\"])>15]\n",
    "flights1.head()"
   ]
  },
  {
   "cell_type": "markdown",
   "metadata": {},
   "source": [
    "### Question 3  (5 pts)\n",
    "\n",
    "Using your answer from question 2, find the full name of every destination city with a flight that was delayed by 15 or more minutes.  The airport codes used in `flights` are IATA codes.  Sort the cities alphabetically.  \n",
    "\n",
    "*Hint: consider using the function `isin()`*"
   ]
  },
  {
   "cell_type": "code",
   "execution_count": 232,
   "metadata": {},
   "outputs": [
    {
     "data": {
      "text/html": [
       "<div>\n",
       "<style scoped>\n",
       "    .dataframe tbody tr th:only-of-type {\n",
       "        vertical-align: middle;\n",
       "    }\n",
       "\n",
       "    .dataframe tbody tr th {\n",
       "        vertical-align: top;\n",
       "    }\n",
       "\n",
       "    .dataframe thead th {\n",
       "        text-align: right;\n",
       "    }\n",
       "</style>\n",
       "<table border=\"1\" class=\"dataframe\">\n",
       "  <thead>\n",
       "    <tr style=\"text-align: right;\">\n",
       "      <th></th>\n",
       "      <th>DEST</th>\n",
       "      <th>city</th>\n",
       "    </tr>\n",
       "  </thead>\n",
       "  <tbody>\n",
       "    <tr>\n",
       "      <th>2095</th>\n",
       "      <td>CAK</td>\n",
       "      <td>Akron</td>\n",
       "    </tr>\n",
       "    <tr>\n",
       "      <th>272</th>\n",
       "      <td>CAK</td>\n",
       "      <td>Akron</td>\n",
       "    </tr>\n",
       "    <tr>\n",
       "      <th>271</th>\n",
       "      <td>CAK</td>\n",
       "      <td>Akron</td>\n",
       "    </tr>\n",
       "    <tr>\n",
       "      <th>6078</th>\n",
       "      <td>CAK</td>\n",
       "      <td>Akron</td>\n",
       "    </tr>\n",
       "    <tr>\n",
       "      <th>6079</th>\n",
       "      <td>CAK</td>\n",
       "      <td>Akron</td>\n",
       "    </tr>\n",
       "  </tbody>\n",
       "</table>\n",
       "</div>"
      ],
      "text/plain": [
       "     DEST   city\n",
       "2095  CAK  Akron\n",
       "272   CAK  Akron\n",
       "271   CAK  Akron\n",
       "6078  CAK  Akron\n",
       "6079  CAK  Akron"
      ]
     },
     "execution_count": 232,
     "metadata": {},
     "output_type": "execute_result"
    }
   ],
   "source": [
    "merge_data = pd.merge(flights1, airports,  how='left', left_on=[\"DEST\"], right_on = [\"iata\"])\n",
    "merge_data = merge_data.sort_values('city')\n",
    "merge_data[[\"DEST\",\"city\"]].head()"
   ]
  },
  {
   "cell_type": "markdown",
   "metadata": {},
   "source": [
    "### Question 4  (5 pts)\n",
    "\n",
    "Find the tail number of the top ten planes, measure by number of destinations that plane flew to in January.  You may find `drop_duplicates` and `sort_values` helpful. "
   ]
  },
  {
   "cell_type": "code",
   "execution_count": 128,
   "metadata": {},
   "outputs": [],
   "source": [
    "flights_new = flights[flights[\"MONTH\"] == 1]"
   ]
  },
  {
   "cell_type": "code",
   "execution_count": 241,
   "metadata": {},
   "outputs": [
    {
     "data": {
      "text/plain": [
       "N905JH    216\n",
       "N939AE    197\n",
       "N909AE    193\n",
       "N902BC    191\n",
       "N615AE    188\n",
       "N680AE    182\n",
       "N688AE    181\n",
       "N908AE    170\n",
       "N923AE    167\n",
       "N667GB    166\n",
       "Name: TAIL_NUM, dtype: int64"
      ]
     },
     "execution_count": 241,
     "metadata": {},
     "output_type": "execute_result"
    }
   ],
   "source": [
    "(flights_new[\"TAIL_NUM\"].value_counts().head(10)) #top flights and their counts"
   ]
  },
  {
   "cell_type": "markdown",
   "metadata": {},
   "source": [
    "### Question 5  (10 pts)\n",
    "\n",
    "You will now add two new columns to the `flights` DataFrame that will contain the departure delay and arrival delay. "
   ]
  },
  {
   "cell_type": "code",
   "execution_count": 136,
   "metadata": {},
   "outputs": [],
   "source": [
    "flights['DELAY_DEP'] = flights[\"ARR_TIME\"] - flights[\"CRS_ARR_TIME\"]\n",
    "flights['DELAY_ARR'] = flights[\"DEP_TIME\"] - flights[\"CRS_DEP_TIME\"]"
   ]
  },
  {
   "cell_type": "code",
   "execution_count": 143,
   "metadata": {},
   "outputs": [
    {
     "data": {
      "text/html": [
       "<div>\n",
       "<style scoped>\n",
       "    .dataframe tbody tr th:only-of-type {\n",
       "        vertical-align: middle;\n",
       "    }\n",
       "\n",
       "    .dataframe tbody tr th {\n",
       "        vertical-align: top;\n",
       "    }\n",
       "\n",
       "    .dataframe thead th {\n",
       "        text-align: right;\n",
       "    }\n",
       "</style>\n",
       "<table border=\"1\" class=\"dataframe\">\n",
       "  <thead>\n",
       "    <tr style=\"text-align: right;\">\n",
       "      <th></th>\n",
       "      <th>TAIL_NUM</th>\n",
       "      <th>ORIGIN</th>\n",
       "      <th>DELAY_DEP</th>\n",
       "      <th>DELAY_ARR</th>\n",
       "    </tr>\n",
       "  </thead>\n",
       "  <tbody>\n",
       "    <tr>\n",
       "      <th>0</th>\n",
       "      <td>N938SW</td>\n",
       "      <td>ORD</td>\n",
       "      <td>11.0</td>\n",
       "      <td>24.0</td>\n",
       "    </tr>\n",
       "    <tr>\n",
       "      <th>1</th>\n",
       "      <td>N908SW</td>\n",
       "      <td>ORD</td>\n",
       "      <td>10.0</td>\n",
       "      <td>3.0</td>\n",
       "    </tr>\n",
       "    <tr>\n",
       "      <th>2</th>\n",
       "      <td>N980SW</td>\n",
       "      <td>ORD</td>\n",
       "      <td>-17.0</td>\n",
       "      <td>-10.0</td>\n",
       "    </tr>\n",
       "    <tr>\n",
       "      <th>3</th>\n",
       "      <td>N701BR</td>\n",
       "      <td>ORD</td>\n",
       "      <td>21.0</td>\n",
       "      <td>0.0</td>\n",
       "    </tr>\n",
       "    <tr>\n",
       "      <th>4</th>\n",
       "      <td>N471CA</td>\n",
       "      <td>ORD</td>\n",
       "      <td>-62.0</td>\n",
       "      <td>-51.0</td>\n",
       "    </tr>\n",
       "  </tbody>\n",
       "</table>\n",
       "</div>"
      ],
      "text/plain": [
       "  TAIL_NUM ORIGIN  DELAY_DEP  DELAY_ARR\n",
       "0   N938SW    ORD       11.0       24.0\n",
       "1   N908SW    ORD       10.0        3.0\n",
       "2   N980SW    ORD      -17.0      -10.0\n",
       "3   N701BR    ORD       21.0        0.0\n",
       "4   N471CA    ORD      -62.0      -51.0"
      ]
     },
     "execution_count": 143,
     "metadata": {},
     "output_type": "execute_result"
    }
   ],
   "source": [
    "fl_new = flights[[\"TAIL_NUM\",\"ORIGIN\",\"DELAY_DEP\",\"DELAY_ARR\"]]\n",
    "fl_new.head()"
   ]
  },
  {
   "cell_type": "markdown",
   "metadata": {},
   "source": [
    "Plot the distribution of departure delays for all flights leaving ORD.  Also, plot the distribution of departure delays for all flights from leaving MSP.  Make sure to label and make the plots look nice. "
   ]
  },
  {
   "cell_type": "code",
   "execution_count": 167,
   "metadata": {},
   "outputs": [],
   "source": [
    "#filtering flights leaving ORD and MSP\n",
    "fl_ord = fl_new[fl_new[\"ORIGIN\"] == \"ORD\"]\n",
    "fl_msp = fl_new[fl_new[\"ORIGIN\"] == \"MSP\"]"
   ]
  },
  {
   "cell_type": "code",
   "execution_count": 198,
   "metadata": {},
   "outputs": [],
   "source": [
    "#removing the NA values\n",
    "fl_ord_dna = fl_ord.dropna()\n",
    "fl_msp_dna = fl_msp.dropna()"
   ]
  },
  {
   "cell_type": "code",
   "execution_count": 237,
   "metadata": {},
   "outputs": [
    {
     "data": {
      "text/plain": [
       "<matplotlib.axes._subplots.AxesSubplot at 0x281a0282b70>"
      ]
     },
     "execution_count": 237,
     "metadata": {},
     "output_type": "execute_result"
    },
    {
     "data": {
      "image/png": "[encoded data removed]",
      "text/plain": [
       "<Figure size 720x720 with 1 Axes>"
      ]
     },
     "metadata": {
      "needs_background": "light"
     },
     "output_type": "display_data"
    }
   ],
   "source": [
    "#distribution of flights leaving ORD using seaborn\n",
    "plt.figure(figsize=(10,10)) \n",
    "sns.set_style('darkgrid')\n",
    "sns.distplot(fl_ord_dna[\"DELAY_DEP\"])"
   ]
  },
  {
   "cell_type": "code",
   "execution_count": 229,
   "metadata": {},
   "outputs": [
    {
     "data": {
      "text/plain": [
       "Text(0.5, 1.0, 'Departure Delays from ORD')"
      ]
     },
     "execution_count": 229,
     "metadata": {},
     "output_type": "execute_result"
    },
    {
     "data": {
      "image/png": "[encoded data removed]",
      "text/plain": [
       "<Figure size 432x432 with 1 Axes>"
      ]
     },
     "metadata": {
      "needs_background": "light"
     },
     "output_type": "display_data"
    }
   ],
   "source": [
    "#distribution of flights leaving ORD showing as histograms\n",
    "plt.figure(figsize=(6,6)) \n",
    "hist = fl_ord_dna[\"DELAY_DEP\"].hist(bins=10)\n",
    "plt.axis('equal') \n",
    "plt.xlabel('X-Axis', fontsize=16)                  \n",
    "plt.ylabel('Y-Axis', fontsize=16)                  \n",
    "plt.title('Departure Delays from ORD', fontsize=22)"
   ]
  },
  {
   "cell_type": "code",
   "execution_count": 238,
   "metadata": {},
   "outputs": [
    {
     "data": {
      "text/plain": [
       "<matplotlib.axes._subplots.AxesSubplot at 0x281a0162c18>"
      ]
     },
     "execution_count": 238,
     "metadata": {},
     "output_type": "execute_result"
    },
    {
     "data": {
      "image/png": "[encoded data removed]",
      "text/plain": [
       "<Figure size 720x720 with 1 Axes>"
      ]
     },
     "metadata": {},
     "output_type": "display_data"
    }
   ],
   "source": [
    "#distribution of flights leaving MSP using seaborn\n",
    "plt.figure(figsize=(10,10)) \n",
    "sns.set_style('darkgrid')\n",
    "sns.distplot(fl_msp_dna[\"DELAY_DEP\"])"
   ]
  },
  {
   "cell_type": "code",
   "execution_count": 231,
   "metadata": {},
   "outputs": [
    {
     "data": {
      "text/plain": [
       "Text(0.5, 1.0, 'Departure Delays from MSP')"
      ]
     },
     "execution_count": 231,
     "metadata": {},
     "output_type": "execute_result"
    },
    {
     "data": {
      "image/png": "[encoded data removed]",
      "text/plain": [
       "<Figure size 432x432 with 1 Axes>"
      ]
     },
     "metadata": {
      "needs_background": "light"
     },
     "output_type": "display_data"
    }
   ],
   "source": [
    "#distribution of flights leaving MSP showing as histogram\n",
    "plt.figure(figsize=(6,6)) \n",
    "hist1 = fl_msp_dna[\"DELAY_DEP\"].hist(bins=10)\n",
    "plt.axis('equal') \n",
    "plt.xlabel('X-Axis', fontsize=16)                  \n",
    "plt.ylabel('Y-Axis', fontsize=16)                  \n",
    "plt.title('Departure Delays from MSP', fontsize=22)"
   ]
  },
  {
   "cell_type": "markdown",
   "metadata": {},
   "source": [
    "Present the mean, standard deviation, and 5-number summary of the arrival delays for ORD and MSP."
   ]
  },
  {
   "cell_type": "code",
   "execution_count": 202,
   "metadata": {},
   "outputs": [
    {
     "name": "stdout",
     "output_type": "stream",
     "text": [
      "ORD mean =  19.322590072224774\n",
      "ORD std =  151.25533886834344\n",
      "Min: -2207.000\n",
      "Q1: -5.000\n",
      "Median: -1.000\n",
      "Q3: 25.000\n",
      "Max: 1306.000\n"
     ]
    }
   ],
   "source": [
    "#mean, standard deviation, and 5-number summary of the arrival delays for ORD\n",
    "print(\"ORD mean = \",fl_ord_dna[\"DELAY_ARR\"].mean())\n",
    "print(\"ORD std = \",fl_ord_dna[\"DELAY_ARR\"].std())\n",
    "\n",
    "# calculate quartiles\n",
    "quartiles = percentile(fl_ord_dna[\"DELAY_ARR\"], [25, 50, 75])\n",
    "# calculate min/max\n",
    "data_min, data_max = fl_ord_dna[\"DELAY_ARR\"].min(), fl_ord_dna[\"DELAY_ARR\"].max()\n",
    "# print 5-number summary\n",
    "print('Min: %.3f' % data_min)\n",
    "print('Q1: %.3f' % quartiles[0])\n",
    "print('Median: %.3f' % quartiles[1])\n",
    "print('Q3: %.3f' % quartiles[2])\n",
    "print('Max: %.3f' % data_max)"
   ]
  },
  {
   "cell_type": "code",
   "execution_count": 204,
   "metadata": {},
   "outputs": [
    {
     "name": "stdout",
     "output_type": "stream",
     "text": [
      "MSP mean =  18.284267386900744\n",
      "MSP std =  124.15653623069619\n",
      "Min: -1296.000\n",
      "Q1: -7.000\n",
      "Median: -3.000\n",
      "Q3: 5.000\n",
      "Max: 1378.000\n"
     ]
    }
   ],
   "source": [
    "#mean, standard deviation, and 5-number summary of the arrival delays for MSP\n",
    "print(\"MSP mean = \",fl_msp_dna[\"DELAY_ARR\"].mean())\n",
    "print(\"MSP std = \",fl_msp_dna[\"DELAY_ARR\"].std())\n",
    "\n",
    "# calculate quartiles\n",
    "quartiles = percentile(fl_msp_dna[\"DELAY_ARR\"], [25, 50, 75])\n",
    "# calculate min/max\n",
    "data_min, data_max = fl_msp_dna[\"DELAY_ARR\"].min(), fl_msp_dna[\"DELAY_ARR\"].max()\n",
    "# print 5-number summary\n",
    "print('Min: %.3f' % data_min)\n",
    "print('Q1: %.3f' % quartiles[0])\n",
    "print('Median: %.3f' % quartiles[1])\n",
    "print('Q3: %.3f' % quartiles[2])\n",
    "print('Max: %.3f' % data_max)"
   ]
  },
  {
   "cell_type": "markdown",
   "metadata": {},
   "source": [
    "### Question 6 (10 pts)"
   ]
  },
  {
   "cell_type": "markdown",
   "metadata": {},
   "source": [
    "For the flights from CMX -> ORD, Houghton to Chicago, and from ORD -> CMX, calculate the mean, standard deviation, and 5-number summary of the arrival delay. Also, plot the distribution of values overlapping in one plot.  "
   ]
  },
  {
   "cell_type": "code",
   "execution_count": 219,
   "metadata": {},
   "outputs": [
    {
     "name": "stdout",
     "output_type": "stream",
     "text": [
      "CMX to ORD mean =  11.416666666666666\n",
      "CMX to ORD std =  75.59377249295284\n",
      "Min: -60.000\n",
      "Q1: -13.000\n",
      "Median: -7.500\n",
      "Q3: 4.250\n",
      "Max: 303.000\n"
     ]
    }
   ],
   "source": [
    "#Houghton to Chicago\n",
    "flights_c2o = flights[flights[\"ORIGIN\"] == \"CMX\"]\n",
    "flights_c2o = flights_c2o[flights_c2o[\"DEST\"] == \"ORD\"]\n",
    "\n",
    "print(\"CMX to ORD mean = \",flights_c2o[\"DELAY_ARR\"].mean())\n",
    "print(\"CMX to ORD std = \",flights_c2o[\"DELAY_ARR\"].std())\n",
    "\n",
    "flights_c2o = flights_c2o.dropna()\n",
    "\n",
    "# calculate quartiles\n",
    "quartiles = percentile(flights_c2o[\"DELAY_ARR\"], [25, 50, 75])\n",
    "# calculate min/max\n",
    "data_min, data_max = flights_c2o[\"DELAY_ARR\"].min(), flights_c2o[\"DELAY_ARR\"].max()\n",
    "# print 5-number summary\n",
    "print('Min: %.3f' % data_min)\n",
    "print('Q1: %.3f' % quartiles[0])\n",
    "print('Median: %.3f' % quartiles[1])\n",
    "print('Q3: %.3f' % quartiles[2])\n",
    "print('Max: %.3f' % data_max)"
   ]
  },
  {
   "cell_type": "code",
   "execution_count": 242,
   "metadata": {},
   "outputs": [
    {
     "data": {
      "text/plain": [
       "<matplotlib.axes._subplots.AxesSubplot at 0x281a0042908>"
      ]
     },
     "execution_count": 242,
     "metadata": {},
     "output_type": "execute_result"
    },
    {
     "data": {
      "image/png": "[encoded data removed]",
      "text/plain": [
       "<Figure size 720x720 with 1 Axes>"
      ]
     },
     "metadata": {},
     "output_type": "display_data"
    }
   ],
   "source": [
    "#distribution using seaborn\n",
    "plt.figure(figsize=(10,10)) \n",
    "sns.set_style('darkgrid')\n",
    "sns.distplot(flights_c2o[\"DELAY_ARR\"])"
   ]
  },
  {
   "cell_type": "code",
   "execution_count": 243,
   "metadata": {},
   "outputs": [
    {
     "data": {
      "text/plain": [
       "Text(0.5, 1.0, 'Departure Delays from ORD')"
      ]
     },
     "execution_count": 243,
     "metadata": {},
     "output_type": "execute_result"
    },
    {
     "data": {
      "image/png": "[encoded data removed]",
      "text/plain": [
       "<Figure size 432x432 with 1 Axes>"
      ]
     },
     "metadata": {},
     "output_type": "display_data"
    }
   ],
   "source": [
    "#distribution showing as histograms\n",
    "plt.figure(figsize=(6,6)) \n",
    "hist = flights_c2o[\"DELAY_ARR\"].hist(bins=10)\n",
    "plt.axis('equal') \n",
    "plt.xlabel('X-Axis', fontsize=16)                  \n",
    "plt.ylabel('Y-Axis', fontsize=16)                  \n",
    "plt.title('Departure Delays from ORD', fontsize=22)"
   ]
  },
  {
   "cell_type": "code",
   "execution_count": 220,
   "metadata": {},
   "outputs": [
    {
     "name": "stdout",
     "output_type": "stream",
     "text": [
      "ORD to CMX mean =  -28.73469387755102\n",
      "ORD to CMX std =  304.12721950897213\n",
      "Min: -2084.000\n",
      "Q1: -8.500\n",
      "Median: -4.000\n",
      "Q3: 11.750\n",
      "Max: 198.000\n"
     ]
    }
   ],
   "source": [
    "#Chicago to Houghton\n",
    "flights_o2c = flights[flights[\"ORIGIN\"] == \"ORD\"]\n",
    "flights_o2c = flights_o2c[flights_o2c[\"DEST\"] == \"CMX\"]\n",
    "\n",
    "print(\"ORD to CMX mean = \",flights_o2c[\"DELAY_ARR\"].mean())\n",
    "print(\"ORD to CMX std = \",flights_o2c[\"DELAY_ARR\"].std())\n",
    "\n",
    "flights_o2c = flights_o2c.dropna()\n",
    "\n",
    "# calculate quartiles\n",
    "quartiles = percentile(flights_o2c[\"DELAY_ARR\"], [25, 50, 75])\n",
    "# calculate min/max\n",
    "data_min, data_max = flights_o2c[\"DELAY_ARR\"].min(), flights_o2c[\"DELAY_ARR\"].max()\n",
    "# print 5-number summary\n",
    "print('Min: %.3f' % data_min)\n",
    "print('Q1: %.3f' % quartiles[0])\n",
    "print('Median: %.3f' % quartiles[1])\n",
    "print('Q3: %.3f' % quartiles[2])\n",
    "print('Max: %.3f' % data_max)"
   ]
  },
  {
   "cell_type": "code",
   "execution_count": 244,
   "metadata": {},
   "outputs": [
    {
     "data": {
      "text/plain": [
       "<matplotlib.axes._subplots.AxesSubplot at 0x281a05f9278>"
      ]
     },
     "execution_count": 244,
     "metadata": {},
     "output_type": "execute_result"
    },
    {
     "data": {
      "image/png": "[encoded data removed]",
      "text/plain": [
       "<Figure size 720x720 with 1 Axes>"
      ]
     },
     "metadata": {},
     "output_type": "display_data"
    }
   ],
   "source": [
    "#distribution using seaborn\n",
    "plt.figure(figsize=(10,10)) \n",
    "sns.set_style('darkgrid')\n",
    "sns.distplot(flights_o2c[\"DELAY_ARR\"])"
   ]
  },
  {
   "cell_type": "code",
   "execution_count": 245,
   "metadata": {},
   "outputs": [
    {
     "data": {
      "text/plain": [
       "Text(0.5, 1.0, 'Departure Delays from ORD')"
      ]
     },
     "execution_count": 245,
     "metadata": {},
     "output_type": "execute_result"
    },
    {
     "data": {
      "image/png": "[encoded data removed]",
      "text/plain": [
       "<Figure size 432x432 with 1 Axes>"
      ]
     },
     "metadata": {},
     "output_type": "display_data"
    }
   ],
   "source": [
    "#distribution showing as histograms\n",
    "plt.figure(figsize=(6,6)) \n",
    "hist = flights_o2c[\"DELAY_ARR\"].hist(bins=10)\n",
    "plt.axis('equal') \n",
    "plt.xlabel('X-Axis', fontsize=16)                  \n",
    "plt.ylabel('Y-Axis', fontsize=16)                  \n",
    "plt.title('Departure Delays from ORD', fontsize=22)"
   ]
  }
 ],
 "metadata": {
  "kernelspec": {
   "display_name": "Python 3",
   "language": "python",
   "name": "python3"
  },
  "language_info": {
   "codemirror_mode": {
    "name": "ipython",
    "version": 3
   },
   "file_extension": ".py",
   "mimetype": "text/x-python",
   "name": "python",
   "nbconvert_exporter": "python",
   "pygments_lexer": "ipython3",
   "version": "3.7.3"
  }
 },
 "nbformat": 4,
 "nbformat_minor": 1
}
