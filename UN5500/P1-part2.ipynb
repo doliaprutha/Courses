{
 "cells": [
  {
   "cell_type": "markdown",
   "metadata": {},
   "source": [
    "# Prutha Dolia\n",
    "### Part 2\n",
    "\n",
    "*Due: 9/27/19 11:59pm*\n"
   ]
  },
  {
   "cell_type": "code",
   "execution_count": 39,
   "metadata": {},
   "outputs": [],
   "source": [
    "import pandas as pd\n",
    "import numpy as np\n",
    "import matplotlib.pyplot as plt\n",
    "%matplotlib inline \n",
    "import seaborn as sns"
   ]
  },
  {
   "cell_type": "markdown",
   "metadata": {},
   "source": [
    "## Part 2 \n",
    "\n",
    "This project is intended to give you experience with visualizing data sets. \n",
    "\n",
    "We will work (again) with the iris data set. https://archive.ics.uci.edu/ml/machine-learning-databases/iris/\n"
   ]
  },
  {
   "cell_type": "code",
   "execution_count": 25,
   "metadata": {},
   "outputs": [],
   "source": [
    "cols = ['sepal_length','sepal_width','petal_length','petal_width','species']\n",
    "dataset = pd.read_csv('https://archive.ics.uci.edu/ml/machine-learning-databases/iris/iris.data', names=cols)"
   ]
  },
  {
   "cell_type": "code",
   "execution_count": 27,
   "metadata": {},
   "outputs": [
    {
     "data": {
      "text/html": [
       "<div>\n",
       "<style scoped>\n",
       "    .dataframe tbody tr th:only-of-type {\n",
       "        vertical-align: middle;\n",
       "    }\n",
       "\n",
       "    .dataframe tbody tr th {\n",
       "        vertical-align: top;\n",
       "    }\n",
       "\n",
       "    .dataframe thead th {\n",
       "        text-align: right;\n",
       "    }\n",
       "</style>\n",
       "<table border=\"1\" class=\"dataframe\">\n",
       "  <thead>\n",
       "    <tr style=\"text-align: right;\">\n",
       "      <th></th>\n",
       "      <th>sepal_length</th>\n",
       "      <th>sepal_width</th>\n",
       "      <th>petal_length</th>\n",
       "      <th>petal_width</th>\n",
       "      <th>species</th>\n",
       "    </tr>\n",
       "  </thead>\n",
       "  <tbody>\n",
       "    <tr>\n",
       "      <th>0</th>\n",
       "      <td>5.1</td>\n",
       "      <td>3.5</td>\n",
       "      <td>1.4</td>\n",
       "      <td>0.2</td>\n",
       "      <td>Iris-setosa</td>\n",
       "    </tr>\n",
       "    <tr>\n",
       "      <th>1</th>\n",
       "      <td>4.9</td>\n",
       "      <td>3.0</td>\n",
       "      <td>1.4</td>\n",
       "      <td>0.2</td>\n",
       "      <td>Iris-setosa</td>\n",
       "    </tr>\n",
       "    <tr>\n",
       "      <th>2</th>\n",
       "      <td>4.7</td>\n",
       "      <td>3.2</td>\n",
       "      <td>1.3</td>\n",
       "      <td>0.2</td>\n",
       "      <td>Iris-setosa</td>\n",
       "    </tr>\n",
       "    <tr>\n",
       "      <th>3</th>\n",
       "      <td>4.6</td>\n",
       "      <td>3.1</td>\n",
       "      <td>1.5</td>\n",
       "      <td>0.2</td>\n",
       "      <td>Iris-setosa</td>\n",
       "    </tr>\n",
       "    <tr>\n",
       "      <th>4</th>\n",
       "      <td>5.0</td>\n",
       "      <td>3.6</td>\n",
       "      <td>1.4</td>\n",
       "      <td>0.2</td>\n",
       "      <td>Iris-setosa</td>\n",
       "    </tr>\n",
       "  </tbody>\n",
       "</table>\n",
       "</div>"
      ],
      "text/plain": [
       "   sepal_length  sepal_width  petal_length  petal_width      species\n",
       "0           5.1          3.5           1.4          0.2  Iris-setosa\n",
       "1           4.9          3.0           1.4          0.2  Iris-setosa\n",
       "2           4.7          3.2           1.3          0.2  Iris-setosa\n",
       "3           4.6          3.1           1.5          0.2  Iris-setosa\n",
       "4           5.0          3.6           1.4          0.2  Iris-setosa"
      ]
     },
     "execution_count": 27,
     "metadata": {},
     "output_type": "execute_result"
    }
   ],
   "source": [
    "dataset.head()"
   ]
  },
  {
   "cell_type": "markdown",
   "metadata": {},
   "source": [
    "### Question 1 (10 pts)\n",
    "\n",
    "Please generate a box-and-whisker plot using the built-in boxplot function in the pandas package (see https://pandas.pydata.org/pandas-docs/stable/generated/pandas.DataFrame.boxplot.html) showing the\n",
    "distribution of the petal ratio for each of the three species.  Describe how you choose to handle outliers, and other useful features of your plot (e.g. mean, median, quantiles, ...) Be sure to add an appropriate title and axis labels.\n",
    "\n"
   ]
  },
  {
   "cell_type": "code",
   "execution_count": 35,
   "metadata": {},
   "outputs": [],
   "source": [
    "petal_ratio = []\n",
    "for val in range(0,dataset.count()[2]):\n",
    "    petal_ratio.append(round((dataset.iloc[val][2]/dataset.iloc[val][3]),1)) # 1 for row wise append, 2 for column wise append\n",
    "\n",
    "dataset['Petal ratio'] = petal_ratio"
   ]
  },
  {
   "cell_type": "code",
   "execution_count": 46,
   "metadata": {},
   "outputs": [
    {
     "data": {
      "text/html": [
       "<div>\n",
       "<style scoped>\n",
       "    .dataframe tbody tr th:only-of-type {\n",
       "        vertical-align: middle;\n",
       "    }\n",
       "\n",
       "    .dataframe tbody tr th {\n",
       "        vertical-align: top;\n",
       "    }\n",
       "\n",
       "    .dataframe thead th {\n",
       "        text-align: right;\n",
       "    }\n",
       "</style>\n",
       "<table border=\"1\" class=\"dataframe\">\n",
       "  <thead>\n",
       "    <tr style=\"text-align: right;\">\n",
       "      <th></th>\n",
       "      <th>sepal_length</th>\n",
       "      <th>sepal_width</th>\n",
       "      <th>petal_length</th>\n",
       "      <th>petal_width</th>\n",
       "      <th>species</th>\n",
       "      <th>Petal ratio</th>\n",
       "      <th>Sepal ratio</th>\n",
       "    </tr>\n",
       "  </thead>\n",
       "  <tbody>\n",
       "    <tr>\n",
       "      <th>0</th>\n",
       "      <td>5.1</td>\n",
       "      <td>3.5</td>\n",
       "      <td>1.4</td>\n",
       "      <td>0.2</td>\n",
       "      <td>Iris-setosa</td>\n",
       "      <td>7.0</td>\n",
       "      <td>1.5</td>\n",
       "    </tr>\n",
       "    <tr>\n",
       "      <th>1</th>\n",
       "      <td>4.9</td>\n",
       "      <td>3.0</td>\n",
       "      <td>1.4</td>\n",
       "      <td>0.2</td>\n",
       "      <td>Iris-setosa</td>\n",
       "      <td>7.0</td>\n",
       "      <td>1.6</td>\n",
       "    </tr>\n",
       "    <tr>\n",
       "      <th>2</th>\n",
       "      <td>4.7</td>\n",
       "      <td>3.2</td>\n",
       "      <td>1.3</td>\n",
       "      <td>0.2</td>\n",
       "      <td>Iris-setosa</td>\n",
       "      <td>6.5</td>\n",
       "      <td>1.5</td>\n",
       "    </tr>\n",
       "    <tr>\n",
       "      <th>3</th>\n",
       "      <td>4.6</td>\n",
       "      <td>3.1</td>\n",
       "      <td>1.5</td>\n",
       "      <td>0.2</td>\n",
       "      <td>Iris-setosa</td>\n",
       "      <td>7.5</td>\n",
       "      <td>1.5</td>\n",
       "    </tr>\n",
       "    <tr>\n",
       "      <th>4</th>\n",
       "      <td>5.0</td>\n",
       "      <td>3.6</td>\n",
       "      <td>1.4</td>\n",
       "      <td>0.2</td>\n",
       "      <td>Iris-setosa</td>\n",
       "      <td>7.0</td>\n",
       "      <td>1.4</td>\n",
       "    </tr>\n",
       "  </tbody>\n",
       "</table>\n",
       "</div>"
      ],
      "text/plain": [
       "   sepal_length  sepal_width  petal_length  petal_width      species  \\\n",
       "0           5.1          3.5           1.4          0.2  Iris-setosa   \n",
       "1           4.9          3.0           1.4          0.2  Iris-setosa   \n",
       "2           4.7          3.2           1.3          0.2  Iris-setosa   \n",
       "3           4.6          3.1           1.5          0.2  Iris-setosa   \n",
       "4           5.0          3.6           1.4          0.2  Iris-setosa   \n",
       "\n",
       "   Petal ratio  Sepal ratio  \n",
       "0          7.0          1.5  \n",
       "1          7.0          1.6  \n",
       "2          6.5          1.5  \n",
       "3          7.5          1.5  \n",
       "4          7.0          1.4  "
      ]
     },
     "execution_count": 46,
     "metadata": {},
     "output_type": "execute_result"
    }
   ],
   "source": [
    "dataset.head()"
   ]
  },
  {
   "cell_type": "code",
   "execution_count": 36,
   "metadata": {},
   "outputs": [
    {
     "data": {
      "text/plain": [
       "<Figure size 720x720 with 0 Axes>"
      ]
     },
     "metadata": {},
     "output_type": "display_data"
    },
    {
     "data": {
      "image/png": "[encoded data removed]",
      "text/plain": [
       "<Figure size 432x288 with 1 Axes>"
      ]
     },
     "metadata": {
      "needs_background": "light"
     },
     "output_type": "display_data"
    }
   ],
   "source": [
    "plt.figure(figsize=(10,10))\n",
    "plot1 = dataset.boxplot(by='species', column=['Petal ratio'],grid=False,showfliers=True, whis=0.75)\n",
    "plot1.set_title('Petal Ratio for the three species', fontsize=9, loc= 'left')\n",
    "plot1.get_figure().gca().set_title(\"\") \n",
    "plot1.set_xlabel('Species',fontsize=14) \n",
    "plot1.set_ylabel('Petal Ratio', fontsize=14) \n",
    "plt.show()"
   ]
  },
  {
   "cell_type": "markdown",
   "metadata": {},
   "source": [
    "The box plot helps in displaying the distribution of data based on the five number summary: minimum, first quartile, median, third quartile, and maximum. In a basic box plot the central rectangle spans the first quartile(lower part of the box i.e. 25th percentile value) to the third quartile(upper part of the box i.e. 75th percentile value) (the interquartile range or IQR). A segment inside the rectangle shows the median(50th percentile value) and \"whiskers\" above and below the box show the locations of the minimum and maximum(where ideally data should look like minimum and maximum, it is not from the actual data).\n",
    "\n",
    "Any value >= Q3 + 1.5(Q3-Q1) or <= Q1 - 1.5(Q3-Q1) are possible outliers.\n",
    "\n",
    "Any value >= Q3 + 3(Q3-Q1) or <= Q1 - 3(Q3-Q1) are most probable outliers.\n",
    "\n",
    "To deal with outliers we can either floor the values or we can just remove the observation with extreme value."
   ]
  },
  {
   "cell_type": "code",
   "execution_count": 45,
   "metadata": {},
   "outputs": [
    {
     "data": {
      "image/png": "[encoded data removed]",
      "text/plain": [
       "<Figure size 432x288 with 1 Axes>"
      ]
     },
     "metadata": {
      "needs_background": "light"
     },
     "output_type": "display_data"
    }
   ],
   "source": [
    "plot1 = dataset.boxplot(by='species', column=['Petal ratio'],grid=False, showfliers=False) \n",
    "\n",
    "plot1.set_title('Petal Ratio for the three species', fontsize=9, loc= 'left')\n",
    "plot1.get_figure().gca().set_title(\"\") \n",
    "plot1.set_xlabel('Species',fontsize=14)\n",
    "plot1.set_ylabel('Petal Ratio', fontsize=14)\n",
    "\n",
    "plt.show()"
   ]
  },
  {
   "cell_type": "markdown",
   "metadata": {},
   "source": [
    "### Question 2 (10 pts) \n",
    "\n",
    "Create a similar plot and discussion for the sepal ratio, this time, using the boxplot function in the seaborn package, see https://seaborn.pydata.org/generated/seaborn.boxplot.html.  \n",
    "\n"
   ]
  },
  {
   "cell_type": "code",
   "execution_count": 40,
   "metadata": {},
   "outputs": [],
   "source": [
    "sepal_ratio = []\n",
    "for val in range(0,dataset.count()[0]):\n",
    "    sepal_ratio.append(round((dataset.iloc[val][0]/dataset.iloc[val][1]),1))\n",
    "\n",
    "dataset['Sepal ratio'] = sepal_ratio"
   ]
  },
  {
   "cell_type": "code",
   "execution_count": 42,
   "metadata": {},
   "outputs": [
    {
     "data": {
      "image/png": "[encoded data removed]",
      "text/plain": [
       "<Figure size 432x288 with 1 Axes>"
      ]
     },
     "metadata": {
      "needs_background": "light"
     },
     "output_type": "display_data"
    }
   ],
   "source": [
    "plot2 = sns.boxplot(y='Sepal ratio', x='species' , data=dataset, width=0.5, palette=\"colorblind\", whis= 1) \n",
    "plot2.set_title('Sepal Ratio for the three species', fontsize=16, loc= 'left')\n",
    "plot2.set_xlabel('Species',fontsize=14)\n",
    "plot2.set_ylabel('Sepal Ratio', fontsize=14)\n",
    "plt.show()"
   ]
  },
  {
   "cell_type": "markdown",
   "metadata": {},
   "source": [
    "Here also we are displaying the boxplot but, from the seaborn package. We have explained everything related to boxplots earlier but while observing this boxplot we see that there are no median lines for setosa and versicolor so there comes a question as why this happened. This happens because of the skewness of the data, the median does not come in the middle of IQR. So we can say that the median depends on how each set of data is distributed so the differnece is due to the outliers."
   ]
  },
  {
   "cell_type": "markdown",
   "metadata": {},
   "source": [
    "Although Box and whisker plots handles large data effortlessly, but they do not retain the exact values and the details of the results of the distribution. These graphs only allow a clear summary of large amounts of data so that we can quickly view it and compare it with other data. So inorder to correct it we can add jitters or go for a violin plot."
   ]
  },
  {
   "cell_type": "markdown",
   "metadata": {},
   "source": [
    "### Question 3 (10 pts) \n",
    "\n",
    "Summarize what a \"violin plot\" is (https://seaborn.pydata.org/generated/seaborn.violinplot.html) and generate a violin plot using the seaborn package for the sepal ratio.  Discuss the pros and cons of the boxplot versus the violin plot."
   ]
  },
  {
   "cell_type": "markdown",
   "metadata": {},
   "source": [
    "Violin plot is a combination of a Box Plot and a Density Plot that is rotated and placed on each side, to show the distribution shape of the data. The thick black bar in the centre represents the interquartile range, the thin black line extended from it represents the 95% confidence intervals, and the white dot is the median.\n",
    "\n",
    "As discussed earlier, box plots are limited in their display of the data, as their visual simplicity tends to hide significant details about how values in the data are distributed, violin plots on the other hand display more information, they can be noisier than a Box Plot."
   ]
  },
  {
   "cell_type": "code",
   "execution_count": 44,
   "metadata": {},
   "outputs": [
    {
     "data": {
      "image/png": "[encoded data removed]",
      "text/plain": [
       "<Figure size 432x288 with 1 Axes>"
      ]
     },
     "metadata": {
      "needs_background": "light"
     },
     "output_type": "display_data"
    }
   ],
   "source": [
    "#Violin plot\n",
    "plot3 = sns.violinplot(x=\"species\", y=\"Sepal ratio\", data=dataset) # plotting the violin plot\n",
    "\n",
    "plot3.set_title('Sepal Ratio for the three species', fontsize=16) # setting the title\n",
    "plot3.set_xlabel('SPECIES',fontsize=14) # setting x-axis label with fontsize 14\n",
    "plot3.set_ylabel('VALUE', fontsize=14) # setting y-axis label with fontsize 14\n",
    "\n",
    "plt.show() # displaying the plot"
   ]
  },
  {
   "cell_type": "markdown",
   "metadata": {},
   "source": [
    "\n",
    "Boxplot vs Violin plot:\n",
    "\n",
    "1) Box plots show outliers whereas violin plots don't.\n",
    "\n",
    "2) While a box plot only shows summary statistics such as mean/median and interquartile ranges, the violin plot shows the full distribution of the data.\n",
    "\n",
    "So both the boxplot and violin plots have their own set of advantages and disadvantages"
   ]
  }
 ],
 "metadata": {
  "kernelspec": {
   "display_name": "Python 3",
   "language": "python",
   "name": "python3"
  },
  "language_info": {
   "codemirror_mode": {
    "name": "ipython",
    "version": 3
   },
   "file_extension": ".py",
   "mimetype": "text/x-python",
   "name": "python",
   "nbconvert_exporter": "python",
   "pygments_lexer": "ipython3",
   "version": "3.7.3"
  }
 },
 "nbformat": 4,
 "nbformat_minor": 1
}
