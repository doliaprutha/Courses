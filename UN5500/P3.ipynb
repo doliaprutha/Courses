{
 "cells": [
  {
   "cell_type": "markdown",
   "metadata": {},
   "source": [
    "# P3 "
   ]
  },
  {
   "cell_type": "code",
   "execution_count": 1,
   "metadata": {},
   "outputs": [],
   "source": [
    "import pandas as pd \n",
    "from bs4 import BeautifulSoup\n",
    "import requests\n",
    "import re"
   ]
  },
  {
   "cell_type": "markdown",
   "metadata": {},
   "source": [
    "## Question 1\n",
    "\n",
    "(5 points) Scrape  https://www.data.gov to identify and print out the number of data sets available."
   ]
  },
  {
   "cell_type": "code",
   "execution_count": 2,
   "metadata": {},
   "outputs": [],
   "source": [
    "html = \"https://www.data.gov\""
   ]
  },
  {
   "cell_type": "code",
   "execution_count": 3,
   "metadata": {},
   "outputs": [],
   "source": [
    "soup = BeautifulSoup(requests.get(html).text, 'html5lib')"
   ]
  },
  {
   "cell_type": "code",
   "execution_count": 4,
   "metadata": {},
   "outputs": [
    {
     "name": "stdout",
     "output_type": "stream",
     "text": [
      "The number of data sets available =  250,019 datasets\n"
     ]
    }
   ],
   "source": [
    "datasets = soup.find(class_=\"text-center getstarted\")\n",
    "df = datasets.find_all('a')\n",
    "for i in df:\n",
    "    print(\"The number of data sets available = \",i.text)"
   ]
  },
  {
   "cell_type": "markdown",
   "metadata": {},
   "source": [
    "## Question 2 \n",
    "\n",
    "(20 points) Identify the number of U.S. Senate votes in the 116th Congress that were rejected \n",
    "by a margin of less than 5 votes. Also, provide a list of which votes (#) match this criteria.\n",
    "Data available at: https://www.senate.gov/legislative/LIS/roll_call_lists/vote_menu_116_1.htm"
   ]
  },
  {
   "cell_type": "code",
   "execution_count": 5,
   "metadata": {},
   "outputs": [],
   "source": [
    "import lxml.html as lh"
   ]
  },
  {
   "cell_type": "code",
   "execution_count": 6,
   "metadata": {},
   "outputs": [],
   "source": [
    "url='https://www.senate.gov/legislative/LIS/roll_call_lists/vote_menu_116_1.htm'"
   ]
  },
  {
   "cell_type": "code",
   "execution_count": 7,
   "metadata": {},
   "outputs": [],
   "source": [
    "page = requests.get(url)\n",
    "doc = lh.fromstring(page.content)"
   ]
  },
  {
   "cell_type": "code",
   "execution_count": 8,
   "metadata": {},
   "outputs": [],
   "source": [
    "tr_elements = doc.xpath('//tr')"
   ]
  },
  {
   "cell_type": "code",
   "execution_count": 9,
   "metadata": {},
   "outputs": [],
   "source": [
    "tr_elements = doc.xpath('//tr')\n",
    "\n",
    "col=[] #Empty list\n",
    "i=0\n",
    "\n",
    "for t in tr_elements[0]:\n",
    "    i+=1\n",
    "    name=t.text_content()\n",
    "    #print('%d:\"%s\"'%(i,name))\n",
    "    col.append((name,[])) #Storing the header in the list"
   ]
  },
  {
   "cell_type": "code",
   "execution_count": 10,
   "metadata": {},
   "outputs": [],
   "source": [
    "for j in range(1,len(tr_elements)):\n",
    "    \n",
    "    T=tr_elements[j]\n",
    "    \n",
    "    if len(T)!=5:                   #checking the size of row so that we don't extract data from other table\n",
    "        break\n",
    "    \n",
    "    i=0\n",
    "    \n",
    "    for t in T.iterchildren():     #Iterate through each element of the row\n",
    "        data=t.text_content() \n",
    "        \n",
    "        if i>0:                    #Check if row is empty\n",
    "            try:                   #Convert any numerical value to integers\n",
    "                data=int(data)\n",
    "            except:\n",
    "                pass\n",
    "        \n",
    "        col[i][1].append(data)     #Append the data\n",
    "        i+=1"
   ]
  },
  {
   "cell_type": "code",
   "execution_count": 11,
   "metadata": {},
   "outputs": [],
   "source": [
    "Dict={title:column for (title,column) in col}\n",
    "df=pd.DataFrame(Dict)"
   ]
  },
  {
   "cell_type": "code",
   "execution_count": 12,
   "metadata": {},
   "outputs": [],
   "source": [
    "df2 = df[df['Result'].isin(['Rejected'])]"
   ]
  },
  {
   "cell_type": "code",
   "execution_count": 13,
   "metadata": {},
   "outputs": [],
   "source": [
    "val = df2['Vote (Tally)']"
   ]
  },
  {
   "cell_type": "code",
   "execution_count": 14,
   "metadata": {},
   "outputs": [],
   "source": [
    "vote_difference=[]\n",
    "for i in range(0,len(val)):\n",
    "    str1=val.iloc[i].split('(')[2]\n",
    "    str1=str1[:-1]\n",
    "    \n",
    "    str2=str1.split('-')\n",
    "    \n",
    "    p1=int(str2[0])\n",
    "    p2=int(str2[1])\n",
    "    vote_difference.append(abs(p1-p2))"
   ]
  },
  {
   "cell_type": "code",
   "execution_count": 15,
   "metadata": {},
   "outputs": [],
   "source": [
    "lis2=[]\n",
    "for i in range(0,len(vote_difference)):\n",
    "    if(vote_difference[i]<5):\n",
    "        lis2.append(i)"
   ]
  },
  {
   "cell_type": "code",
   "execution_count": 23,
   "metadata": {},
   "outputs": [
    {
     "data": {
      "text/plain": [
       "[2, 14, 15, 20, 21]"
      ]
     },
     "execution_count": 23,
     "metadata": {},
     "output_type": "execute_result"
    }
   ],
   "source": [
    "lis2 #dataframe index of rejection by a margin of less than 5 votes."
   ]
  },
  {
   "cell_type": "code",
   "execution_count": 16,
   "metadata": {},
   "outputs": [
    {
     "data": {
      "text/html": [
       "<div>\n",
       "<style scoped>\n",
       "    .dataframe tbody tr th:only-of-type {\n",
       "        vertical-align: middle;\n",
       "    }\n",
       "\n",
       "    .dataframe tbody tr th {\n",
       "        vertical-align: top;\n",
       "    }\n",
       "\n",
       "    .dataframe thead th {\n",
       "        text-align: right;\n",
       "    }\n",
       "</style>\n",
       "<table border=\"1\" class=\"dataframe\">\n",
       "  <thead>\n",
       "    <tr style=\"text-align: right;\">\n",
       "      <th></th>\n",
       "      <th>Vote (Tally)</th>\n",
       "      <th>Result</th>\n",
       "      <th>Question: Description</th>\n",
       "      <th>Issue</th>\n",
       "      <th>Date</th>\n",
       "    </tr>\n",
       "  </thead>\n",
       "  <tbody>\n",
       "    <tr>\n",
       "      <th>20</th>\n",
       "      <td>(00305) 305 (47-48)</td>\n",
       "      <td>Rejected</td>\n",
       "      <td>On the Resolution: S. Res. 333; A resolution i...</td>\n",
       "      <td>S.Res. 333</td>\n",
       "      <td>Sep 25</td>\n",
       "    </tr>\n",
       "    <tr>\n",
       "      <th>268</th>\n",
       "      <td>(00057) 57 (51-48)</td>\n",
       "      <td>Rejected</td>\n",
       "      <td>On Cloture on the Motion to Proceed: Motion to...</td>\n",
       "      <td>S.Res. 50</td>\n",
       "      <td>Apr 02</td>\n",
       "    </tr>\n",
       "    <tr>\n",
       "      <th>269</th>\n",
       "      <td>(00056) 56 (46-48)</td>\n",
       "      <td>Rejected</td>\n",
       "      <td>On the Cloture Motion: Motion to Invoke Clotur...</td>\n",
       "      <td>H.R. 268</td>\n",
       "      <td>Apr 01</td>\n",
       "    </tr>\n",
       "    <tr>\n",
       "      <th>316</th>\n",
       "      <td>(00009) 9 (50-47)</td>\n",
       "      <td>Rejected</td>\n",
       "      <td>On the Cloture Motion S.Amdt. 5: Motion Invoke...</td>\n",
       "      <td>H.R. 268</td>\n",
       "      <td>Jan 24</td>\n",
       "    </tr>\n",
       "    <tr>\n",
       "      <th>318</th>\n",
       "      <td>(00007) 7 (48-47)</td>\n",
       "      <td>Rejected</td>\n",
       "      <td>On Cloture on the Motion to Proceed: Motion to...</td>\n",
       "      <td>S. 109</td>\n",
       "      <td>Jan 17</td>\n",
       "    </tr>\n",
       "  </tbody>\n",
       "</table>\n",
       "</div>"
      ],
      "text/plain": [
       "            Vote (Tally)    Result  \\\n",
       "20   (00305) 305 (47-48)  Rejected   \n",
       "268   (00057) 57 (51-48)  Rejected   \n",
       "269   (00056) 56 (46-48)  Rejected   \n",
       "316    (00009) 9 (50-47)  Rejected   \n",
       "318    (00007) 7 (48-47)  Rejected   \n",
       "\n",
       "                                 Question: Description       Issue    Date  \n",
       "20   On the Resolution: S. Res. 333; A resolution i...  S.Res. 333  Sep 25  \n",
       "268  On Cloture on the Motion to Proceed: Motion to...   S.Res. 50  Apr 02  \n",
       "269  On the Cloture Motion: Motion to Invoke Clotur...    H.R. 268  Apr 01  \n",
       "316  On the Cloture Motion S.Amdt. 5: Motion Invoke...    H.R. 268  Jan 24  \n",
       "318  On Cloture on the Motion to Proceed: Motion to...      S. 109  Jan 17  "
      ]
     },
     "execution_count": 16,
     "metadata": {},
     "output_type": "execute_result"
    }
   ],
   "source": [
    "df2.iloc[[2, 14, 15, 20, 21],]"
   ]
  },
  {
   "cell_type": "markdown",
   "metadata": {},
   "source": [
    "## Question 3 \n",
    "\n",
    "(20 points) Report the total number of female babies whose names start with 'K' so far this decade. Data available at: https://www.ssa.gov/OACT/babynames/decades/names2010s.html"
   ]
  },
  {
   "cell_type": "code",
   "execution_count": 79,
   "metadata": {},
   "outputs": [],
   "source": [
    "url='https://www.ssa.gov/OACT/babynames/decades/names2010s.html'"
   ]
  },
  {
   "cell_type": "code",
   "execution_count": 80,
   "metadata": {},
   "outputs": [],
   "source": [
    "page = requests.get(url)\n",
    "doc = lh.fromstring(page.content)"
   ]
  },
  {
   "cell_type": "code",
   "execution_count": 81,
   "metadata": {},
   "outputs": [],
   "source": [
    "tr_elements = doc.xpath('//tr')"
   ]
  },
  {
   "cell_type": "code",
   "execution_count": 82,
   "metadata": {},
   "outputs": [],
   "source": [
    "tr_elements = doc.xpath('//tr')\n",
    "\n",
    "col=[] #Empty list\n",
    "i=0\n",
    "\n",
    "for t in tr_elements[1]:\n",
    "    i+=1\n",
    "    name=t.text_content()\n",
    "    #print('%d:\"%s\"'%(i,name))\n",
    "    col.append((name,[])) #Storing the header in the list"
   ]
  },
  {
   "cell_type": "code",
   "execution_count": 83,
   "metadata": {},
   "outputs": [],
   "source": [
    "col[1] = ('Name_boy',[])\n",
    "col[3] = ('Name_girl',[])"
   ]
  },
  {
   "cell_type": "code",
   "execution_count": 91,
   "metadata": {},
   "outputs": [],
   "source": [
    "for j in range(2,len(tr_elements)):\n",
    "    \n",
    "    T=tr_elements[j]\n",
    "    \n",
    "    if len(T)!=5:                   #checking the size of row so that we don't extract data from other table\n",
    "        break\n",
    "    \n",
    "    i=0\n",
    "    \n",
    "    for t in T.iterchildren():     #Iterate through each element of the row\n",
    "        data=t.text_content() \n",
    "        \n",
    "        if i>0:                    #Check if row is empty\n",
    "            try:                   #Convert any numerical value to integers\n",
    "                data=int(data)\n",
    "            except:\n",
    "                pass\n",
    "        \n",
    "        col[i][1].append(data)     #Append the data\n",
    "        i+=1"
   ]
  },
  {
   "cell_type": "code",
   "execution_count": 92,
   "metadata": {},
   "outputs": [],
   "source": [
    "Dict={title:column for (title,column) in col}\n",
    "df=pd.DataFrame(Dict)"
   ]
  },
  {
   "cell_type": "code",
   "execution_count": 105,
   "metadata": {},
   "outputs": [],
   "source": [
    "df = df[['Name_girl','Number']]"
   ]
  },
  {
   "cell_type": "code",
   "execution_count": 108,
   "metadata": {},
   "outputs": [],
   "source": [
    "df2=df[df['Name_girl'].str.match('K')]"
   ]
  },
  {
   "cell_type": "code",
   "execution_count": 115,
   "metadata": {},
   "outputs": [
    {
     "data": {
      "text/html": [
       "<div>\n",
       "<style scoped>\n",
       "    .dataframe tbody tr th:only-of-type {\n",
       "        vertical-align: middle;\n",
       "    }\n",
       "\n",
       "    .dataframe tbody tr th {\n",
       "        vertical-align: top;\n",
       "    }\n",
       "\n",
       "    .dataframe thead th {\n",
       "        text-align: right;\n",
       "    }\n",
       "</style>\n",
       "<table border=\"1\" class=\"dataframe\">\n",
       "  <thead>\n",
       "    <tr style=\"text-align: right;\">\n",
       "      <th></th>\n",
       "      <th>Name_girl</th>\n",
       "      <th>Number</th>\n",
       "    </tr>\n",
       "  </thead>\n",
       "  <tbody>\n",
       "    <tr>\n",
       "      <th>45</th>\n",
       "      <td>Kaylee</td>\n",
       "      <td>41,958</td>\n",
       "    </tr>\n",
       "    <tr>\n",
       "      <th>70</th>\n",
       "      <td>Kennedy</td>\n",
       "      <td>34,828</td>\n",
       "    </tr>\n",
       "    <tr>\n",
       "      <th>73</th>\n",
       "      <td>Kylie</td>\n",
       "      <td>33,775</td>\n",
       "    </tr>\n",
       "    <tr>\n",
       "      <th>81</th>\n",
       "      <td>Khloe</td>\n",
       "      <td>31,710</td>\n",
       "    </tr>\n",
       "    <tr>\n",
       "      <th>82</th>\n",
       "      <td>Katherine</td>\n",
       "      <td>31,635</td>\n",
       "    </tr>\n",
       "    <tr>\n",
       "      <th>92</th>\n",
       "      <td>Kayla</td>\n",
       "      <td>28,606</td>\n",
       "    </tr>\n",
       "    <tr>\n",
       "      <th>108</th>\n",
       "      <td>Kimberly</td>\n",
       "      <td>25,688</td>\n",
       "    </tr>\n",
       "    <tr>\n",
       "      <th>127</th>\n",
       "      <td>Kinsley</td>\n",
       "      <td>22,722</td>\n",
       "    </tr>\n",
       "    <tr>\n",
       "      <th>148</th>\n",
       "      <td>Kendall</td>\n",
       "      <td>19,005</td>\n",
       "    </tr>\n",
       "    <tr>\n",
       "      <th>164</th>\n",
       "      <td>Kaitlyn</td>\n",
       "      <td>17,623</td>\n",
       "    </tr>\n",
       "    <tr>\n",
       "      <th>178</th>\n",
       "      <td>Katelyn</td>\n",
       "      <td>15,911</td>\n",
       "    </tr>\n",
       "  </tbody>\n",
       "</table>\n",
       "</div>"
      ],
      "text/plain": [
       "     Name_girl  Number\n",
       "45      Kaylee  41,958\n",
       "70     Kennedy  34,828\n",
       "73       Kylie  33,775\n",
       "81       Khloe  31,710\n",
       "82   Katherine  31,635\n",
       "92       Kayla  28,606\n",
       "108   Kimberly  25,688\n",
       "127    Kinsley  22,722\n",
       "148    Kendall  19,005\n",
       "164    Kaitlyn  17,623\n",
       "178    Katelyn  15,911"
      ]
     },
     "execution_count": 115,
     "metadata": {},
     "output_type": "execute_result"
    }
   ],
   "source": [
    "df2"
   ]
  },
  {
   "cell_type": "code",
   "execution_count": 118,
   "metadata": {},
   "outputs": [
    {
     "name": "stdout",
     "output_type": "stream",
     "text": [
      "Total number of female babies whose names start with 'K' so far this decade:\n"
     ]
    },
    {
     "data": {
      "text/plain": [
       "'41,95834,82833,77531,71031,63528,60625,68822,72219,00517,62315,911'"
      ]
     },
     "execution_count": 118,
     "metadata": {},
     "output_type": "execute_result"
    }
   ],
   "source": [
    "print(\"Total number of female babies whose names start with 'K' so far this decade:\")\n",
    "df2['Number'].sum(axis = 0)"
   ]
  },
  {
   "cell_type": "markdown",
   "metadata": {},
   "source": [
    "## Question 4 \n",
    "\n",
    "(30 points) Use Python to scrape the article posted to TechCrunch.com and present the articles on the front page in a table with the following pieces of information:\n",
    "\n",
    "* article title\n",
    "* publish date\n",
    "* author\n",
    "\n",
    "Note: be respectful to the website (obey robots.txt information) and do not repeatedly access the site."
   ]
  },
  {
   "cell_type": "code",
   "execution_count": 160,
   "metadata": {},
   "outputs": [],
   "source": [
    "url = 'https://techcrunch.com/'"
   ]
  },
  {
   "cell_type": "code",
   "execution_count": 163,
   "metadata": {},
   "outputs": [],
   "source": [
    "source = requests.get(url).text\n",
    "soup = BeautifulSoup(source,'lxml')"
   ]
  },
  {
   "cell_type": "code",
   "execution_count": 200,
   "metadata": {},
   "outputs": [],
   "source": [
    "df = pd.DataFrame(columns=['Article Title', 'Publish Date', 'Author'])\n",
    "for article in soup.find_all('div',class_='post-block post-block--image post-block--unread'):\n",
    "    df.loc[len(df)] = [article.a.text.split('\\t')[4], article.time.text.split('\\t')[2], article.span.a.text.split('\\t')[4]]"
   ]
  },
  {
   "cell_type": "code",
   "execution_count": 201,
   "metadata": {},
   "outputs": [
    {
     "data": {
      "text/html": [
       "<div>\n",
       "<style scoped>\n",
       "    .dataframe tbody tr th:only-of-type {\n",
       "        vertical-align: middle;\n",
       "    }\n",
       "\n",
       "    .dataframe tbody tr th {\n",
       "        vertical-align: top;\n",
       "    }\n",
       "\n",
       "    .dataframe thead th {\n",
       "        text-align: right;\n",
       "    }\n",
       "</style>\n",
       "<table border=\"1\" class=\"dataframe\">\n",
       "  <thead>\n",
       "    <tr style=\"text-align: right;\">\n",
       "      <th></th>\n",
       "      <th>Article Title</th>\n",
       "      <th>Publish Date</th>\n",
       "      <th>Author</th>\n",
       "    </tr>\n",
       "  </thead>\n",
       "  <tbody>\n",
       "    <tr>\n",
       "      <th>0</th>\n",
       "      <td>Apple’s China stance makes for strange politic...</td>\n",
       "      <td>Oct 18, 2019</td>\n",
       "      <td>Jonathan Shieber</td>\n",
       "    </tr>\n",
       "    <tr>\n",
       "      <th>1</th>\n",
       "      <td>AI is helping scholars restore ancient Greek t...</td>\n",
       "      <td>Oct 18, 2019</td>\n",
       "      <td>Devin Coldewey</td>\n",
       "    </tr>\n",
       "    <tr>\n",
       "      <th>2</th>\n",
       "      <td>Adam Neumann planned for his children and gran...</td>\n",
       "      <td>Oct 18, 2019</td>\n",
       "      <td>Connie Loizos</td>\n",
       "    </tr>\n",
       "    <tr>\n",
       "      <th>3</th>\n",
       "      <td>VR/AR startup valuations reach $45 billion (on...</td>\n",
       "      <td>Oct 18, 2019</td>\n",
       "      <td>Tim Merel</td>\n",
       "    </tr>\n",
       "    <tr>\n",
       "      <th>4</th>\n",
       "      <td>Tilting Point acquires game monetization start...</td>\n",
       "      <td>Oct 18, 2019</td>\n",
       "      <td>Anthony Ha</td>\n",
       "    </tr>\n",
       "    <tr>\n",
       "      <th>5</th>\n",
       "      <td>Where are US fintech’s next billion-dollar sta...</td>\n",
       "      <td>Oct 18, 2019</td>\n",
       "      <td>Jonathan Shieber</td>\n",
       "    </tr>\n",
       "    <tr>\n",
       "      <th>6</th>\n",
       "      <td>Alphabet’s Wing begins making first commercial...</td>\n",
       "      <td>Oct 18, 2019</td>\n",
       "      <td>Darrell Etherington</td>\n",
       "    </tr>\n",
       "    <tr>\n",
       "      <th>7</th>\n",
       "      <td>Daily Crunch: Zuckerberg has thoughts on free ...</td>\n",
       "      <td>Oct 18, 2019</td>\n",
       "      <td>Anthony Ha</td>\n",
       "    </tr>\n",
       "    <tr>\n",
       "      <th>8</th>\n",
       "      <td>Harley-Davidson has resumed production of the ...</td>\n",
       "      <td>Oct 18, 2019</td>\n",
       "      <td>Kirsten Korosec</td>\n",
       "    </tr>\n",
       "    <tr>\n",
       "      <th>9</th>\n",
       "      <td>Who will own the future of transportation?</td>\n",
       "      <td>Oct 18, 2019</td>\n",
       "      <td>Kirsten Korosec</td>\n",
       "    </tr>\n",
       "    <tr>\n",
       "      <th>10</th>\n",
       "      <td>$35B face data lawsuit against Facebook will p...</td>\n",
       "      <td>Oct 18, 2019</td>\n",
       "      <td>Josh Constine</td>\n",
       "    </tr>\n",
       "    <tr>\n",
       "      <th>11</th>\n",
       "      <td>Bloomberg Beta, now six years old, closes its ...</td>\n",
       "      <td>Oct 18, 2019</td>\n",
       "      <td>Connie Loizos</td>\n",
       "    </tr>\n",
       "    <tr>\n",
       "      <th>12</th>\n",
       "      <td>YellowHeart allows musicians and concert organ...</td>\n",
       "      <td>Oct 18, 2019</td>\n",
       "      <td>Anthony Ha</td>\n",
       "    </tr>\n",
       "    <tr>\n",
       "      <th>13</th>\n",
       "      <td>Exclusive: 2019 HAX report reveals hardware st...</td>\n",
       "      <td>Oct 18, 2019</td>\n",
       "      <td>Matt Burns</td>\n",
       "    </tr>\n",
       "    <tr>\n",
       "      <th>14</th>\n",
       "      <td>Former Oracle co-CEO Mark Hurd has passed away</td>\n",
       "      <td>Oct 18, 2019</td>\n",
       "      <td>Connie Loizos</td>\n",
       "    </tr>\n",
       "    <tr>\n",
       "      <th>15</th>\n",
       "      <td>A set of new tools can decrypt files locked by...</td>\n",
       "      <td>Oct 18, 2019</td>\n",
       "      <td>Zack Whittaker</td>\n",
       "    </tr>\n",
       "    <tr>\n",
       "      <th>16</th>\n",
       "      <td>Three of the best tackle the thorny issue of B...</td>\n",
       "      <td>Oct 18, 2019</td>\n",
       "      <td>Mike Butcher</td>\n",
       "    </tr>\n",
       "    <tr>\n",
       "      <th>17</th>\n",
       "      <td>T-Mobile partners with Jeffrey Katzenberg’s mo...</td>\n",
       "      <td>Oct 18, 2019</td>\n",
       "      <td>Sarah Perez</td>\n",
       "    </tr>\n",
       "    <tr>\n",
       "      <th>18</th>\n",
       "      <td>Greylock GP Sarah Guo is as bullish on SaaS as...</td>\n",
       "      <td>Oct 18, 2019</td>\n",
       "      <td>Alex Wilhelm</td>\n",
       "    </tr>\n",
       "    <tr>\n",
       "      <th>19</th>\n",
       "      <td>Volvo creates a dedicated business for autonom...</td>\n",
       "      <td>Oct 18, 2019</td>\n",
       "      <td>Darrell Etherington</td>\n",
       "    </tr>\n",
       "  </tbody>\n",
       "</table>\n",
       "</div>"
      ],
      "text/plain": [
       "                                        Article Title  Publish Date  \\\n",
       "0   Apple’s China stance makes for strange politic...  Oct 18, 2019   \n",
       "1   AI is helping scholars restore ancient Greek t...  Oct 18, 2019   \n",
       "2   Adam Neumann planned for his children and gran...  Oct 18, 2019   \n",
       "3   VR/AR startup valuations reach $45 billion (on...  Oct 18, 2019   \n",
       "4   Tilting Point acquires game monetization start...  Oct 18, 2019   \n",
       "5   Where are US fintech’s next billion-dollar sta...  Oct 18, 2019   \n",
       "6   Alphabet’s Wing begins making first commercial...  Oct 18, 2019   \n",
       "7   Daily Crunch: Zuckerberg has thoughts on free ...  Oct 18, 2019   \n",
       "8   Harley-Davidson has resumed production of the ...  Oct 18, 2019   \n",
       "9          Who will own the future of transportation?  Oct 18, 2019   \n",
       "10  $35B face data lawsuit against Facebook will p...  Oct 18, 2019   \n",
       "11  Bloomberg Beta, now six years old, closes its ...  Oct 18, 2019   \n",
       "12  YellowHeart allows musicians and concert organ...  Oct 18, 2019   \n",
       "13  Exclusive: 2019 HAX report reveals hardware st...  Oct 18, 2019   \n",
       "14     Former Oracle co-CEO Mark Hurd has passed away  Oct 18, 2019   \n",
       "15  A set of new tools can decrypt files locked by...  Oct 18, 2019   \n",
       "16  Three of the best tackle the thorny issue of B...  Oct 18, 2019   \n",
       "17  T-Mobile partners with Jeffrey Katzenberg’s mo...  Oct 18, 2019   \n",
       "18  Greylock GP Sarah Guo is as bullish on SaaS as...  Oct 18, 2019   \n",
       "19  Volvo creates a dedicated business for autonom...  Oct 18, 2019   \n",
       "\n",
       "                 Author  \n",
       "0      Jonathan Shieber  \n",
       "1        Devin Coldewey  \n",
       "2         Connie Loizos  \n",
       "3             Tim Merel  \n",
       "4            Anthony Ha  \n",
       "5      Jonathan Shieber  \n",
       "6   Darrell Etherington  \n",
       "7            Anthony Ha  \n",
       "8       Kirsten Korosec  \n",
       "9       Kirsten Korosec  \n",
       "10        Josh Constine  \n",
       "11        Connie Loizos  \n",
       "12           Anthony Ha  \n",
       "13           Matt Burns  \n",
       "14        Connie Loizos  \n",
       "15       Zack Whittaker  \n",
       "16         Mike Butcher  \n",
       "17          Sarah Perez  \n",
       "18         Alex Wilhelm  \n",
       "19  Darrell Etherington  "
      ]
     },
     "execution_count": 201,
     "metadata": {},
     "output_type": "execute_result"
    }
   ],
   "source": [
    "df"
   ]
  }
 ],
 "metadata": {
  "kernelspec": {
   "display_name": "Python 3",
   "language": "python",
   "name": "python3"
  },
  "language_info": {
   "codemirror_mode": {
    "name": "ipython",
    "version": 3
   },
   "file_extension": ".py",
   "mimetype": "text/x-python",
   "name": "python",
   "nbconvert_exporter": "python",
   "pygments_lexer": "ipython3",
   "version": "3.7.3"
  }
 },
 "nbformat": 4,
 "nbformat_minor": 2
}
