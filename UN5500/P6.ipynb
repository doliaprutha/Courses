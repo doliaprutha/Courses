{
 "cells": [
  {
   "cell_type": "markdown",
   "metadata": {},
   "source": [
    "# P6\n",
    "\n",
    "Due: 12/11/19, 11:59pm \n",
    "\n",
    "In this assignment, we'll look at regression and clustering methods.\n",
    "\n",
    "First, let's get our imports and system set up. "
   ]
  },
  {
   "cell_type": "code",
   "execution_count": 4,
   "metadata": {},
   "outputs": [],
   "source": [
    "import pandas as pd\n",
    "import numpy as np\n",
    "import matplotlib as mpl\n",
    "import matplotlib.pyplot as plt\n",
    "%matplotlib inline\n",
    "\n",
    "from sklearn import metrics\n",
    "from sklearn import linear_model\n",
    "from sklearn import cluster"
   ]
  },
  {
   "cell_type": "markdown",
   "metadata": {},
   "source": [
    "## Regression \n",
    "\n",
    "For this part of the project we will be using a famous dataset that looks at 1000 users listening habits. \n",
    "http://ocelma.net/MusicRecommendationDataset/lastfm-1K.html\n",
    "\n",
    "The data set is large (~650MB compressed, ~2.5GB uncompressed). \n",
    "\n",
    "The data is formatted one entry per line, tab-separated.  \n",
    "\n",
    "### Task 1 (20 pts)\n",
    "The first task is to process this data to recover some song statistics.  In particular, we would like to create (and save, using pickle), a pandas dataframe that contains:\n",
    "    * the number of times a song has been played\n",
    "    * percentage of the plays that came from users who self-identified as male\n",
    "    * average age of the listener\n",
    "    * percentage of plays that came from a user who played the song exactly once\n",
    "    * percentage of plays that came from a user who played the song at least five times  \n",
    "    \n",
    "If there any missing values, decide how you will deal with them, and summarize your approach in **Task 2**.  "
   ]
  },
  {
   "cell_type": "code",
   "execution_count": 2,
   "metadata": {},
   "outputs": [],
   "source": [
    "user_profiles = pd.read_table('userid-profile.tsv', sep = '\\t') #reading the user profiles data"
   ]
  },
  {
   "cell_type": "code",
   "execution_count": 3,
   "metadata": {},
   "outputs": [],
   "source": [
    "#setting the column values of user_profiles data\n",
    "user_profiles.columns = ['user_id','gender','age','country','r_date']"
   ]
  },
  {
   "cell_type": "code",
   "execution_count": 4,
   "metadata": {},
   "outputs": [],
   "source": [
    "user_data = pd.read_table('userid-timestamp-artid-artname-traid-traname.tsv', error_bad_lines=False, \n",
    "                          header = None, sep = '\\t',nrows = 500000,\n",
    "                         names = ['user_id','timestamp','artist_id','artist_name','track_id','track_name'])"
   ]
  },
  {
   "cell_type": "code",
   "execution_count": 5,
   "metadata": {},
   "outputs": [
    {
     "data": {
      "text/html": [
       "<div>\n",
       "<style scoped>\n",
       "    .dataframe tbody tr th:only-of-type {\n",
       "        vertical-align: middle;\n",
       "    }\n",
       "\n",
       "    .dataframe tbody tr th {\n",
       "        vertical-align: top;\n",
       "    }\n",
       "\n",
       "    .dataframe thead th {\n",
       "        text-align: right;\n",
       "    }\n",
       "</style>\n",
       "<table border=\"1\" class=\"dataframe\">\n",
       "  <thead>\n",
       "    <tr style=\"text-align: right;\">\n",
       "      <th></th>\n",
       "      <th>user_id</th>\n",
       "      <th>gender</th>\n",
       "      <th>age</th>\n",
       "      <th>country</th>\n",
       "      <th>r_date</th>\n",
       "    </tr>\n",
       "  </thead>\n",
       "  <tbody>\n",
       "    <tr>\n",
       "      <th>0</th>\n",
       "      <td>user_000001</td>\n",
       "      <td>m</td>\n",
       "      <td>NaN</td>\n",
       "      <td>Japan</td>\n",
       "      <td>Aug 13, 2006</td>\n",
       "    </tr>\n",
       "    <tr>\n",
       "      <th>1</th>\n",
       "      <td>user_000002</td>\n",
       "      <td>f</td>\n",
       "      <td>NaN</td>\n",
       "      <td>Peru</td>\n",
       "      <td>Feb 24, 2006</td>\n",
       "    </tr>\n",
       "    <tr>\n",
       "      <th>2</th>\n",
       "      <td>user_000003</td>\n",
       "      <td>m</td>\n",
       "      <td>22.0</td>\n",
       "      <td>United States</td>\n",
       "      <td>Oct 30, 2005</td>\n",
       "    </tr>\n",
       "    <tr>\n",
       "      <th>3</th>\n",
       "      <td>user_000004</td>\n",
       "      <td>f</td>\n",
       "      <td>NaN</td>\n",
       "      <td>NaN</td>\n",
       "      <td>Apr 26, 2006</td>\n",
       "    </tr>\n",
       "    <tr>\n",
       "      <th>4</th>\n",
       "      <td>user_000005</td>\n",
       "      <td>m</td>\n",
       "      <td>NaN</td>\n",
       "      <td>Bulgaria</td>\n",
       "      <td>Jun 29, 2006</td>\n",
       "    </tr>\n",
       "  </tbody>\n",
       "</table>\n",
       "</div>"
      ],
      "text/plain": [
       "       user_id gender   age        country        r_date\n",
       "0  user_000001      m   NaN          Japan  Aug 13, 2006\n",
       "1  user_000002      f   NaN           Peru  Feb 24, 2006\n",
       "2  user_000003      m  22.0  United States  Oct 30, 2005\n",
       "3  user_000004      f   NaN            NaN  Apr 26, 2006\n",
       "4  user_000005      m   NaN       Bulgaria  Jun 29, 2006"
      ]
     },
     "execution_count": 5,
     "metadata": {},
     "output_type": "execute_result"
    }
   ],
   "source": [
    "user_profiles.head() #user profiles data"
   ]
  },
  {
   "cell_type": "code",
   "execution_count": 6,
   "metadata": {},
   "outputs": [
    {
     "data": {
      "text/html": [
       "<div>\n",
       "<style scoped>\n",
       "    .dataframe tbody tr th:only-of-type {\n",
       "        vertical-align: middle;\n",
       "    }\n",
       "\n",
       "    .dataframe tbody tr th {\n",
       "        vertical-align: top;\n",
       "    }\n",
       "\n",
       "    .dataframe thead th {\n",
       "        text-align: right;\n",
       "    }\n",
       "</style>\n",
       "<table border=\"1\" class=\"dataframe\">\n",
       "  <thead>\n",
       "    <tr style=\"text-align: right;\">\n",
       "      <th></th>\n",
       "      <th>user_id</th>\n",
       "      <th>timestamp</th>\n",
       "      <th>artist_id</th>\n",
       "      <th>artist_name</th>\n",
       "      <th>track_id</th>\n",
       "      <th>track_name</th>\n",
       "    </tr>\n",
       "  </thead>\n",
       "  <tbody>\n",
       "    <tr>\n",
       "      <th>0</th>\n",
       "      <td>user_000001</td>\n",
       "      <td>2009-05-04T23:08:57Z</td>\n",
       "      <td>f1b1cf71-bd35-4e99-8624-24a6e15f133a</td>\n",
       "      <td>Deep Dish</td>\n",
       "      <td>NaN</td>\n",
       "      <td>Fuck Me Im Famous (Pacha Ibiza)-09-28-2007</td>\n",
       "    </tr>\n",
       "    <tr>\n",
       "      <th>1</th>\n",
       "      <td>user_000001</td>\n",
       "      <td>2009-05-04T13:54:10Z</td>\n",
       "      <td>a7f7df4a-77d8-4f12-8acd-5c60c93f4de8</td>\n",
       "      <td>坂本龍一</td>\n",
       "      <td>NaN</td>\n",
       "      <td>Composition 0919 (Live_2009_4_15)</td>\n",
       "    </tr>\n",
       "    <tr>\n",
       "      <th>2</th>\n",
       "      <td>user_000001</td>\n",
       "      <td>2009-05-04T13:52:04Z</td>\n",
       "      <td>a7f7df4a-77d8-4f12-8acd-5c60c93f4de8</td>\n",
       "      <td>坂本龍一</td>\n",
       "      <td>NaN</td>\n",
       "      <td>Mc2 (Live_2009_4_15)</td>\n",
       "    </tr>\n",
       "    <tr>\n",
       "      <th>3</th>\n",
       "      <td>user_000001</td>\n",
       "      <td>2009-05-04T13:42:52Z</td>\n",
       "      <td>a7f7df4a-77d8-4f12-8acd-5c60c93f4de8</td>\n",
       "      <td>坂本龍一</td>\n",
       "      <td>NaN</td>\n",
       "      <td>Hibari (Live_2009_4_15)</td>\n",
       "    </tr>\n",
       "    <tr>\n",
       "      <th>4</th>\n",
       "      <td>user_000001</td>\n",
       "      <td>2009-05-04T13:42:11Z</td>\n",
       "      <td>a7f7df4a-77d8-4f12-8acd-5c60c93f4de8</td>\n",
       "      <td>坂本龍一</td>\n",
       "      <td>NaN</td>\n",
       "      <td>Mc1 (Live_2009_4_15)</td>\n",
       "    </tr>\n",
       "  </tbody>\n",
       "</table>\n",
       "</div>"
      ],
      "text/plain": [
       "       user_id             timestamp                             artist_id  \\\n",
       "0  user_000001  2009-05-04T23:08:57Z  f1b1cf71-bd35-4e99-8624-24a6e15f133a   \n",
       "1  user_000001  2009-05-04T13:54:10Z  a7f7df4a-77d8-4f12-8acd-5c60c93f4de8   \n",
       "2  user_000001  2009-05-04T13:52:04Z  a7f7df4a-77d8-4f12-8acd-5c60c93f4de8   \n",
       "3  user_000001  2009-05-04T13:42:52Z  a7f7df4a-77d8-4f12-8acd-5c60c93f4de8   \n",
       "4  user_000001  2009-05-04T13:42:11Z  a7f7df4a-77d8-4f12-8acd-5c60c93f4de8   \n",
       "\n",
       "  artist_name track_id                                  track_name  \n",
       "0   Deep Dish      NaN  Fuck Me Im Famous (Pacha Ibiza)-09-28-2007  \n",
       "1        坂本龍一      NaN           Composition 0919 (Live_2009_4_15)  \n",
       "2        坂本龍一      NaN                        Mc2 (Live_2009_4_15)  \n",
       "3        坂本龍一      NaN                     Hibari (Live_2009_4_15)  \n",
       "4        坂本龍一      NaN                        Mc1 (Live_2009_4_15)  "
      ]
     },
     "execution_count": 6,
     "metadata": {},
     "output_type": "execute_result"
    }
   ],
   "source": [
    "user_data.head() #song data"
   ]
  },
  {
   "cell_type": "code",
   "execution_count": 7,
   "metadata": {},
   "outputs": [
    {
     "name": "stdout",
     "output_type": "stream",
     "text": [
      "('User Profiles dimensions:', (992, 5))\n",
      "('User Profiles dimensions:', (500000, 6))\n"
     ]
    }
   ],
   "source": [
    "#checking the dimensions of both of our dataframes\n",
    "print (\"User Profiles dimensions:\", user_profiles.shape)\n",
    "print (\"User Profiles dimensions:\", user_data.shape)"
   ]
  },
  {
   "cell_type": "code",
   "execution_count": 8,
   "metadata": {},
   "outputs": [],
   "source": [
    "# We now merge both the dataframes to one using inner join\n",
    "result = user_data.merge(user_profiles,how='inner', left_on='user_id', right_on='user_id')"
   ]
  },
  {
   "cell_type": "code",
   "execution_count": 9,
   "metadata": {},
   "outputs": [
    {
     "data": {
      "text/plain": [
       "(500000, 10)"
      ]
     },
     "execution_count": 9,
     "metadata": {},
     "output_type": "execute_result"
    }
   ],
   "source": [
    "result.shape #the dimension of our merged dataset"
   ]
  },
  {
   "cell_type": "code",
   "execution_count": 10,
   "metadata": {},
   "outputs": [
    {
     "data": {
      "text/plain": [
       "(276774, 10)"
      ]
     },
     "execution_count": 10,
     "metadata": {},
     "output_type": "execute_result"
    }
   ],
   "source": [
    "#we still have a lot of data which contains a lot of missing values \n",
    "\n",
    "result = result.dropna() \n",
    "result.shape"
   ]
  },
  {
   "cell_type": "markdown",
   "metadata": {},
   "source": [
    "# The number of times a song has been played"
   ]
  },
  {
   "cell_type": "code",
   "execution_count": 11,
   "metadata": {},
   "outputs": [
    {
     "name": "stdout",
     "output_type": "stream",
     "text": [
      "('Unique tracks in our data', 43887)\n",
      "('Unique users in our data', 12)\n"
     ]
    }
   ],
   "source": [
    "print (\"Unique tracks in our data\", len(set(result['track_name']))) #unique tracks in our data\n",
    "print (\"Unique users in our data\", len(set(result['user_id']))) ##unique users in our data"
   ]
  },
  {
   "cell_type": "code",
   "execution_count": 12,
   "metadata": {},
   "outputs": [],
   "source": [
    "newDF = pd.DataFrame(columns=['track_name','count']) #An empty dataframe to store the values\n",
    "\n",
    "for i in set(result['track_name']):\n",
    "    newDF.loc[len(newDF)] = [i, len(result[result['track_name']==i])]"
   ]
  },
  {
   "cell_type": "code",
   "execution_count": 13,
   "metadata": {},
   "outputs": [
    {
     "data": {
      "text/html": [
       "<div>\n",
       "<style scoped>\n",
       "    .dataframe tbody tr th:only-of-type {\n",
       "        vertical-align: middle;\n",
       "    }\n",
       "\n",
       "    .dataframe tbody tr th {\n",
       "        vertical-align: top;\n",
       "    }\n",
       "\n",
       "    .dataframe thead th {\n",
       "        text-align: right;\n",
       "    }\n",
       "</style>\n",
       "<table border=\"1\" class=\"dataframe\">\n",
       "  <thead>\n",
       "    <tr style=\"text-align: right;\">\n",
       "      <th></th>\n",
       "      <th>track_name</th>\n",
       "      <th>count</th>\n",
       "    </tr>\n",
       "  </thead>\n",
       "  <tbody>\n",
       "    <tr>\n",
       "      <th>40689</th>\n",
       "      <td>Heartless</td>\n",
       "      <td>2120</td>\n",
       "    </tr>\n",
       "    <tr>\n",
       "      <th>40015</th>\n",
       "      <td>Say You Will</td>\n",
       "      <td>2069</td>\n",
       "    </tr>\n",
       "    <tr>\n",
       "      <th>33108</th>\n",
       "      <td>See You In My Nightmares</td>\n",
       "      <td>2069</td>\n",
       "    </tr>\n",
       "    <tr>\n",
       "      <th>20584</th>\n",
       "      <td>Love Lockdown</td>\n",
       "      <td>2060</td>\n",
       "    </tr>\n",
       "    <tr>\n",
       "      <th>1295</th>\n",
       "      <td>Welcome To Heartbreak (Feat. Kid Cudi)</td>\n",
       "      <td>2059</td>\n",
       "    </tr>\n",
       "  </tbody>\n",
       "</table>\n",
       "</div>"
      ],
      "text/plain": [
       "                                   track_name count\n",
       "40689                               Heartless  2120\n",
       "40015                            Say You Will  2069\n",
       "33108                See You In My Nightmares  2069\n",
       "20584                           Love Lockdown  2060\n",
       "1295   Welcome To Heartbreak (Feat. Kid Cudi)  2059"
      ]
     },
     "execution_count": 13,
     "metadata": {},
     "output_type": "execute_result"
    }
   ],
   "source": [
    "#Displaying the dataframe in descending orer of times the song has been played\n",
    "newDF.sort_values(by=['count'], ascending=False).head()"
   ]
  },
  {
   "cell_type": "code",
   "execution_count": 14,
   "metadata": {},
   "outputs": [
    {
     "data": {
      "text/html": [
       "<div>\n",
       "<style scoped>\n",
       "    .dataframe tbody tr th:only-of-type {\n",
       "        vertical-align: middle;\n",
       "    }\n",
       "\n",
       "    .dataframe tbody tr th {\n",
       "        vertical-align: top;\n",
       "    }\n",
       "\n",
       "    .dataframe thead th {\n",
       "        text-align: right;\n",
       "    }\n",
       "</style>\n",
       "<table border=\"1\" class=\"dataframe\">\n",
       "  <thead>\n",
       "    <tr style=\"text-align: right;\">\n",
       "      <th></th>\n",
       "      <th>track_name</th>\n",
       "      <th>count</th>\n",
       "    </tr>\n",
       "  </thead>\n",
       "  <tbody>\n",
       "    <tr>\n",
       "      <th>count</th>\n",
       "      <td>43887</td>\n",
       "      <td>43887</td>\n",
       "    </tr>\n",
       "    <tr>\n",
       "      <th>unique</th>\n",
       "      <td>43887</td>\n",
       "      <td>159</td>\n",
       "    </tr>\n",
       "    <tr>\n",
       "      <th>top</th>\n",
       "      <td>Space Suit</td>\n",
       "      <td>1</td>\n",
       "    </tr>\n",
       "    <tr>\n",
       "      <th>freq</th>\n",
       "      <td>1</td>\n",
       "      <td>16620</td>\n",
       "    </tr>\n",
       "  </tbody>\n",
       "</table>\n",
       "</div>"
      ],
      "text/plain": [
       "        track_name  count\n",
       "count        43887  43887\n",
       "unique       43887    159\n",
       "top     Space Suit      1\n",
       "freq             1  16620"
      ]
     },
     "execution_count": 14,
     "metadata": {},
     "output_type": "execute_result"
    }
   ],
   "source": [
    "newDF.describe(include='all') #describing all the columns of the dataframe"
   ]
  },
  {
   "cell_type": "markdown",
   "metadata": {},
   "source": [
    "#### Here we got 43887 rows in the dataframe. The top value of track_name is \"Space Suit\"."
   ]
  },
  {
   "cell_type": "markdown",
   "metadata": {},
   "source": [
    "# Percentage of the plays that came from users who self-identified as male"
   ]
  },
  {
   "cell_type": "code",
   "execution_count": 15,
   "metadata": {},
   "outputs": [],
   "source": [
    "#filtering the male data from our merged data\n",
    "df_temp = result[result['gender']=='m']\n",
    "\n",
    "newDF1 = pd.DataFrame(columns=['track_name','count_m']) #creating an empty dataframe to store the values\n",
    "\n",
    "for i in set(df_temp['track_name']):\n",
    "    newDF1.loc[len(newDF1)] = [i, len(df_temp[df_temp['track_name']==i])]\n",
    "\n",
    "#newDF1 = newDF1.sort_values(by=['count_m'], ascending=False)\n",
    "\n",
    "lis1=[]\n",
    "\n",
    "#calculating the percentage and storing it to the list and then concatenating it to the dataframe\n",
    "for j in newDF1['count_m']:\n",
    "    lis1.append(round((j/len(df_temp['track_name']))*100,2))\n",
    "\n",
    "newDF1 = pd.concat([newDF1,pd.DataFrame(lis1, columns = [\"percentage\"])],axis=1) #concat"
   ]
  },
  {
   "cell_type": "code",
   "execution_count": 16,
   "metadata": {},
   "outputs": [],
   "source": [
    "del newDF1['count_m'] #deleting the less useful values"
   ]
  },
  {
   "cell_type": "code",
   "execution_count": 19,
   "metadata": {},
   "outputs": [
    {
     "data": {
      "text/html": [
       "<div>\n",
       "<style scoped>\n",
       "    .dataframe tbody tr th:only-of-type {\n",
       "        vertical-align: middle;\n",
       "    }\n",
       "\n",
       "    .dataframe tbody tr th {\n",
       "        vertical-align: top;\n",
       "    }\n",
       "\n",
       "    .dataframe thead th {\n",
       "        text-align: right;\n",
       "    }\n",
       "</style>\n",
       "<table border=\"1\" class=\"dataframe\">\n",
       "  <thead>\n",
       "    <tr style=\"text-align: right;\">\n",
       "      <th></th>\n",
       "      <th>track_name</th>\n",
       "      <th>percentage</th>\n",
       "    </tr>\n",
       "  </thead>\n",
       "  <tbody>\n",
       "    <tr>\n",
       "      <th>0</th>\n",
       "      <td>Mr. Misery</td>\n",
       "      <td>0.0</td>\n",
       "    </tr>\n",
       "    <tr>\n",
       "      <th>19629</th>\n",
       "      <td>What Can I Do</td>\n",
       "      <td>0.0</td>\n",
       "    </tr>\n",
       "    <tr>\n",
       "      <th>19627</th>\n",
       "      <td>Long Dark Night</td>\n",
       "      <td>0.0</td>\n",
       "    </tr>\n",
       "    <tr>\n",
       "      <th>19626</th>\n",
       "      <td>Radio Clash</td>\n",
       "      <td>0.0</td>\n",
       "    </tr>\n",
       "    <tr>\n",
       "      <th>19625</th>\n",
       "      <td>Nothing From Nothing</td>\n",
       "      <td>0.0</td>\n",
       "    </tr>\n",
       "  </tbody>\n",
       "</table>\n",
       "</div>"
      ],
      "text/plain": [
       "                 track_name  percentage\n",
       "0                Mr. Misery         0.0\n",
       "19629         What Can I Do         0.0\n",
       "19627       Long Dark Night         0.0\n",
       "19626           Radio Clash         0.0\n",
       "19625  Nothing From Nothing         0.0"
      ]
     },
     "execution_count": 19,
     "metadata": {},
     "output_type": "execute_result"
    }
   ],
   "source": [
    "#Displaying the dataframe in descending orer of male percentage\n",
    "newDF1.sort_values(by=['percentage'], ascending=False).head()"
   ]
  },
  {
   "cell_type": "code",
   "execution_count": 20,
   "metadata": {},
   "outputs": [
    {
     "data": {
      "text/html": [
       "<div>\n",
       "<style scoped>\n",
       "    .dataframe tbody tr th:only-of-type {\n",
       "        vertical-align: middle;\n",
       "    }\n",
       "\n",
       "    .dataframe tbody tr th {\n",
       "        vertical-align: top;\n",
       "    }\n",
       "\n",
       "    .dataframe thead th {\n",
       "        text-align: right;\n",
       "    }\n",
       "</style>\n",
       "<table border=\"1\" class=\"dataframe\">\n",
       "  <thead>\n",
       "    <tr style=\"text-align: right;\">\n",
       "      <th></th>\n",
       "      <th>track_name</th>\n",
       "      <th>percentage</th>\n",
       "    </tr>\n",
       "  </thead>\n",
       "  <tbody>\n",
       "    <tr>\n",
       "      <th>count</th>\n",
       "      <td>29430</td>\n",
       "      <td>29430.0</td>\n",
       "    </tr>\n",
       "    <tr>\n",
       "      <th>unique</th>\n",
       "      <td>29430</td>\n",
       "      <td>NaN</td>\n",
       "    </tr>\n",
       "    <tr>\n",
       "      <th>top</th>\n",
       "      <td>Baby Your Baby</td>\n",
       "      <td>NaN</td>\n",
       "    </tr>\n",
       "    <tr>\n",
       "      <th>freq</th>\n",
       "      <td>1</td>\n",
       "      <td>NaN</td>\n",
       "    </tr>\n",
       "    <tr>\n",
       "      <th>mean</th>\n",
       "      <td>NaN</td>\n",
       "      <td>0.0</td>\n",
       "    </tr>\n",
       "    <tr>\n",
       "      <th>std</th>\n",
       "      <td>NaN</td>\n",
       "      <td>0.0</td>\n",
       "    </tr>\n",
       "    <tr>\n",
       "      <th>min</th>\n",
       "      <td>NaN</td>\n",
       "      <td>0.0</td>\n",
       "    </tr>\n",
       "    <tr>\n",
       "      <th>25%</th>\n",
       "      <td>NaN</td>\n",
       "      <td>0.0</td>\n",
       "    </tr>\n",
       "    <tr>\n",
       "      <th>50%</th>\n",
       "      <td>NaN</td>\n",
       "      <td>0.0</td>\n",
       "    </tr>\n",
       "    <tr>\n",
       "      <th>75%</th>\n",
       "      <td>NaN</td>\n",
       "      <td>0.0</td>\n",
       "    </tr>\n",
       "    <tr>\n",
       "      <th>max</th>\n",
       "      <td>NaN</td>\n",
       "      <td>0.0</td>\n",
       "    </tr>\n",
       "  </tbody>\n",
       "</table>\n",
       "</div>"
      ],
      "text/plain": [
       "            track_name  percentage\n",
       "count            29430     29430.0\n",
       "unique           29430         NaN\n",
       "top     Baby Your Baby         NaN\n",
       "freq                 1         NaN\n",
       "mean               NaN         0.0\n",
       "std                NaN         0.0\n",
       "min                NaN         0.0\n",
       "25%                NaN         0.0\n",
       "50%                NaN         0.0\n",
       "75%                NaN         0.0\n",
       "max                NaN         0.0"
      ]
     },
     "execution_count": 20,
     "metadata": {},
     "output_type": "execute_result"
    }
   ],
   "source": [
    "newDF1.describe(include='all') #describing all the columns of the dataframe"
   ]
  },
  {
   "cell_type": "markdown",
   "metadata": {},
   "source": [
    "# Average age of the listener"
   ]
  },
  {
   "cell_type": "code",
   "execution_count": 21,
   "metadata": {},
   "outputs": [],
   "source": [
    "newDF2 = pd.DataFrame(columns=['track_name','average_age']) #creating an empty dataframe to store the values\n",
    "\n",
    "#calculating the average age of the listener\n",
    "for i in set(result['track_name']):\n",
    "    newDF2.loc[len(newDF2)] = [i, sum(result[result['track_name']==i]['age'].astype(int))/len(result[result['track_name']==i])]"
   ]
  },
  {
   "cell_type": "code",
   "execution_count": 22,
   "metadata": {},
   "outputs": [
    {
     "data": {
      "text/html": [
       "<div>\n",
       "<style scoped>\n",
       "    .dataframe tbody tr th:only-of-type {\n",
       "        vertical-align: middle;\n",
       "    }\n",
       "\n",
       "    .dataframe tbody tr th {\n",
       "        vertical-align: top;\n",
       "    }\n",
       "\n",
       "    .dataframe thead th {\n",
       "        text-align: right;\n",
       "    }\n",
       "</style>\n",
       "<table border=\"1\" class=\"dataframe\">\n",
       "  <thead>\n",
       "    <tr style=\"text-align: right;\">\n",
       "      <th></th>\n",
       "      <th>track_name</th>\n",
       "      <th>average_age</th>\n",
       "    </tr>\n",
       "  </thead>\n",
       "  <tbody>\n",
       "    <tr>\n",
       "      <th>0</th>\n",
       "      <td>Mr. Misery</td>\n",
       "      <td>27</td>\n",
       "    </tr>\n",
       "    <tr>\n",
       "      <th>1</th>\n",
       "      <td>Alice In My Chamber (Dawn Of Ashes Remix)</td>\n",
       "      <td>19</td>\n",
       "    </tr>\n",
       "    <tr>\n",
       "      <th>2</th>\n",
       "      <td>Cissy Strut</td>\n",
       "      <td>28</td>\n",
       "    </tr>\n",
       "    <tr>\n",
       "      <th>3</th>\n",
       "      <td>Violet Hill</td>\n",
       "      <td>19</td>\n",
       "    </tr>\n",
       "    <tr>\n",
       "      <th>4</th>\n",
       "      <td>Lights In The Sky</td>\n",
       "      <td>25</td>\n",
       "    </tr>\n",
       "  </tbody>\n",
       "</table>\n",
       "</div>"
      ],
      "text/plain": [
       "                                  track_name average_age\n",
       "0                                 Mr. Misery          27\n",
       "1  Alice In My Chamber (Dawn Of Ashes Remix)          19\n",
       "2                                Cissy Strut          28\n",
       "3                                Violet Hill          19\n",
       "4                          Lights In The Sky          25"
      ]
     },
     "execution_count": 22,
     "metadata": {},
     "output_type": "execute_result"
    }
   ],
   "source": [
    "newDF2.head()"
   ]
  },
  {
   "cell_type": "code",
   "execution_count": 23,
   "metadata": {},
   "outputs": [
    {
     "data": {
      "text/plain": [
       "array([27, 19, 28, 25, 22, 21, 38, 23, 29, 26, 24, 32, 20, 30, 34, 33, 37,\n",
       "       31, 35, 36], dtype=object)"
      ]
     },
     "execution_count": 23,
     "metadata": {},
     "output_type": "execute_result"
    }
   ],
   "source": [
    "newDF2['average_age'].unique() #the unique values of average age of the listeners"
   ]
  },
  {
   "cell_type": "code",
   "execution_count": 24,
   "metadata": {},
   "outputs": [
    {
     "data": {
      "text/html": [
       "<div>\n",
       "<style scoped>\n",
       "    .dataframe tbody tr th:only-of-type {\n",
       "        vertical-align: middle;\n",
       "    }\n",
       "\n",
       "    .dataframe tbody tr th {\n",
       "        vertical-align: top;\n",
       "    }\n",
       "\n",
       "    .dataframe thead th {\n",
       "        text-align: right;\n",
       "    }\n",
       "</style>\n",
       "<table border=\"1\" class=\"dataframe\">\n",
       "  <thead>\n",
       "    <tr style=\"text-align: right;\">\n",
       "      <th></th>\n",
       "      <th>track_name</th>\n",
       "      <th>average_age</th>\n",
       "    </tr>\n",
       "  </thead>\n",
       "  <tbody>\n",
       "    <tr>\n",
       "      <th>count</th>\n",
       "      <td>43887</td>\n",
       "      <td>43887</td>\n",
       "    </tr>\n",
       "    <tr>\n",
       "      <th>unique</th>\n",
       "      <td>43887</td>\n",
       "      <td>20</td>\n",
       "    </tr>\n",
       "    <tr>\n",
       "      <th>top</th>\n",
       "      <td>Space Suit</td>\n",
       "      <td>22</td>\n",
       "    </tr>\n",
       "    <tr>\n",
       "      <th>freq</th>\n",
       "      <td>1</td>\n",
       "      <td>11252</td>\n",
       "    </tr>\n",
       "  </tbody>\n",
       "</table>\n",
       "</div>"
      ],
      "text/plain": [
       "        track_name  average_age\n",
       "count        43887        43887\n",
       "unique       43887           20\n",
       "top     Space Suit           22\n",
       "freq             1        11252"
      ]
     },
     "execution_count": 24,
     "metadata": {},
     "output_type": "execute_result"
    }
   ],
   "source": [
    "newDF2.describe(include='all') #describing all the columns of the dataframe"
   ]
  },
  {
   "cell_type": "markdown",
   "metadata": {},
   "source": [
    "# Percentage of plays that came from a user who played the song exactly once"
   ]
  },
  {
   "cell_type": "code",
   "execution_count": 25,
   "metadata": {},
   "outputs": [],
   "source": [
    "#selecting track_name and user_id from our merged data\n",
    "df_temp2 = result.groupby(['track_name', 'user_id']).size()\n",
    "df_temp2 = df_temp2.reset_index(level=[0,1])\n",
    "df_temp2.columns=['track_name','user_id','count']\n",
    "\n",
    "newDF3 = df_temp2[df_temp2['count'] == 1] #finding the count for songs played exactly once\n",
    "\n",
    "#Empty dataframe to store the values\n",
    "df_temp3 = pd.DataFrame(columns=['track_name','count_once','total_count','percentage'])\n",
    "\n",
    "#Assigning the values to the dataframe\n",
    "for i in set(result['track_name']):\n",
    "    count_once = sum(newDF3['track_name']==i)\n",
    "    count_total = sum(result['track_name']==i)\n",
    "    df_temp3.loc[len(df_temp3)] = [i, count_once, count_total, (count_once/count_total)*100]"
   ]
  },
  {
   "cell_type": "code",
   "execution_count": 26,
   "metadata": {},
   "outputs": [],
   "source": [
    "del df_temp3['count_once'] #removing the less important values"
   ]
  },
  {
   "cell_type": "code",
   "execution_count": 27,
   "metadata": {},
   "outputs": [],
   "source": [
    "del df_temp3['total_count'] #removing the less important values"
   ]
  },
  {
   "cell_type": "code",
   "execution_count": 28,
   "metadata": {},
   "outputs": [
    {
     "data": {
      "text/html": [
       "<div>\n",
       "<style scoped>\n",
       "    .dataframe tbody tr th:only-of-type {\n",
       "        vertical-align: middle;\n",
       "    }\n",
       "\n",
       "    .dataframe tbody tr th {\n",
       "        vertical-align: top;\n",
       "    }\n",
       "\n",
       "    .dataframe thead th {\n",
       "        text-align: right;\n",
       "    }\n",
       "</style>\n",
       "<table border=\"1\" class=\"dataframe\">\n",
       "  <thead>\n",
       "    <tr style=\"text-align: right;\">\n",
       "      <th></th>\n",
       "      <th>track_name</th>\n",
       "      <th>percentage</th>\n",
       "    </tr>\n",
       "  </thead>\n",
       "  <tbody>\n",
       "    <tr>\n",
       "      <th>0</th>\n",
       "      <td>Mr. Misery</td>\n",
       "      <td>0</td>\n",
       "    </tr>\n",
       "    <tr>\n",
       "      <th>1</th>\n",
       "      <td>Alice In My Chamber (Dawn Of Ashes Remix)</td>\n",
       "      <td>100</td>\n",
       "    </tr>\n",
       "    <tr>\n",
       "      <th>2</th>\n",
       "      <td>Cissy Strut</td>\n",
       "      <td>0</td>\n",
       "    </tr>\n",
       "    <tr>\n",
       "      <th>3</th>\n",
       "      <td>Violet Hill</td>\n",
       "      <td>0</td>\n",
       "    </tr>\n",
       "    <tr>\n",
       "      <th>4</th>\n",
       "      <td>Lights In The Sky</td>\n",
       "      <td>0</td>\n",
       "    </tr>\n",
       "  </tbody>\n",
       "</table>\n",
       "</div>"
      ],
      "text/plain": [
       "                                  track_name percentage\n",
       "0                                 Mr. Misery          0\n",
       "1  Alice In My Chamber (Dawn Of Ashes Remix)        100\n",
       "2                                Cissy Strut          0\n",
       "3                                Violet Hill          0\n",
       "4                          Lights In The Sky          0"
      ]
     },
     "execution_count": 28,
     "metadata": {},
     "output_type": "execute_result"
    }
   ],
   "source": [
    "df_temp3.head()"
   ]
  },
  {
   "cell_type": "code",
   "execution_count": 29,
   "metadata": {},
   "outputs": [
    {
     "data": {
      "text/html": [
       "<div>\n",
       "<style scoped>\n",
       "    .dataframe tbody tr th:only-of-type {\n",
       "        vertical-align: middle;\n",
       "    }\n",
       "\n",
       "    .dataframe tbody tr th {\n",
       "        vertical-align: top;\n",
       "    }\n",
       "\n",
       "    .dataframe thead th {\n",
       "        text-align: right;\n",
       "    }\n",
       "</style>\n",
       "<table border=\"1\" class=\"dataframe\">\n",
       "  <thead>\n",
       "    <tr style=\"text-align: right;\">\n",
       "      <th></th>\n",
       "      <th>track_name</th>\n",
       "      <th>percentage</th>\n",
       "    </tr>\n",
       "  </thead>\n",
       "  <tbody>\n",
       "    <tr>\n",
       "      <th>count</th>\n",
       "      <td>43887</td>\n",
       "      <td>43887</td>\n",
       "    </tr>\n",
       "    <tr>\n",
       "      <th>unique</th>\n",
       "      <td>43887</td>\n",
       "      <td>2</td>\n",
       "    </tr>\n",
       "    <tr>\n",
       "      <th>top</th>\n",
       "      <td>Space Suit</td>\n",
       "      <td>0</td>\n",
       "    </tr>\n",
       "    <tr>\n",
       "      <th>freq</th>\n",
       "      <td>1</td>\n",
       "      <td>26562</td>\n",
       "    </tr>\n",
       "  </tbody>\n",
       "</table>\n",
       "</div>"
      ],
      "text/plain": [
       "        track_name  percentage\n",
       "count        43887       43887\n",
       "unique       43887           2\n",
       "top     Space Suit           0\n",
       "freq             1       26562"
      ]
     },
     "execution_count": 29,
     "metadata": {},
     "output_type": "execute_result"
    }
   ],
   "source": [
    "df_temp3.describe(include='all') #describing all the columns of the dataframe"
   ]
  },
  {
   "cell_type": "markdown",
   "metadata": {},
   "source": [
    "# Percentage of plays that came from a user who played the song at least five times"
   ]
  },
  {
   "cell_type": "code",
   "execution_count": 30,
   "metadata": {},
   "outputs": [],
   "source": [
    "newDF4 = df_temp2[df_temp2['count'] > 4] #filtering the data for at least five \n",
    "\n",
    "#Empty dataframe to store the values\n",
    "df_temp4 = pd.DataFrame(columns=['track_name','count_more','total_count','percentage'])\n",
    "\n",
    "#Assigning the values to the dataframe\n",
    "for i in set(result['track_name']):\n",
    "    count_more = sum(newDF4[newDF4['track_name']==i]['count'])\n",
    "    count_total = sum(result['track_name']==i)\n",
    "    df_temp4.loc[len(df_temp4)] = [i, count_more, count_total, (count_more/count_total)*100]"
   ]
  },
  {
   "cell_type": "code",
   "execution_count": 31,
   "metadata": {},
   "outputs": [],
   "source": [
    "del df_temp4['count_more'] #removing the less important values\n",
    "del df_temp4['total_count']"
   ]
  },
  {
   "cell_type": "code",
   "execution_count": 32,
   "metadata": {},
   "outputs": [
    {
     "data": {
      "text/html": [
       "<div>\n",
       "<style scoped>\n",
       "    .dataframe tbody tr th:only-of-type {\n",
       "        vertical-align: middle;\n",
       "    }\n",
       "\n",
       "    .dataframe tbody tr th {\n",
       "        vertical-align: top;\n",
       "    }\n",
       "\n",
       "    .dataframe thead th {\n",
       "        text-align: right;\n",
       "    }\n",
       "</style>\n",
       "<table border=\"1\" class=\"dataframe\">\n",
       "  <thead>\n",
       "    <tr style=\"text-align: right;\">\n",
       "      <th></th>\n",
       "      <th>track_name</th>\n",
       "      <th>percentage</th>\n",
       "    </tr>\n",
       "  </thead>\n",
       "  <tbody>\n",
       "    <tr>\n",
       "      <th>0</th>\n",
       "      <td>Mr. Misery</td>\n",
       "      <td>0</td>\n",
       "    </tr>\n",
       "    <tr>\n",
       "      <th>1</th>\n",
       "      <td>Alice In My Chamber (Dawn Of Ashes Remix)</td>\n",
       "      <td>0</td>\n",
       "    </tr>\n",
       "    <tr>\n",
       "      <th>2</th>\n",
       "      <td>Cissy Strut</td>\n",
       "      <td>100</td>\n",
       "    </tr>\n",
       "    <tr>\n",
       "      <th>3</th>\n",
       "      <td>Violet Hill</td>\n",
       "      <td>0</td>\n",
       "    </tr>\n",
       "    <tr>\n",
       "      <th>4</th>\n",
       "      <td>Lights In The Sky</td>\n",
       "      <td>0</td>\n",
       "    </tr>\n",
       "  </tbody>\n",
       "</table>\n",
       "</div>"
      ],
      "text/plain": [
       "                                  track_name percentage\n",
       "0                                 Mr. Misery          0\n",
       "1  Alice In My Chamber (Dawn Of Ashes Remix)          0\n",
       "2                                Cissy Strut        100\n",
       "3                                Violet Hill          0\n",
       "4                          Lights In The Sky          0"
      ]
     },
     "execution_count": 32,
     "metadata": {},
     "output_type": "execute_result"
    }
   ],
   "source": [
    "df_temp4.head()"
   ]
  },
  {
   "cell_type": "code",
   "execution_count": 33,
   "metadata": {},
   "outputs": [
    {
     "data": {
      "text/html": [
       "<div>\n",
       "<style scoped>\n",
       "    .dataframe tbody tr th:only-of-type {\n",
       "        vertical-align: middle;\n",
       "    }\n",
       "\n",
       "    .dataframe tbody tr th {\n",
       "        vertical-align: top;\n",
       "    }\n",
       "\n",
       "    .dataframe thead th {\n",
       "        text-align: right;\n",
       "    }\n",
       "</style>\n",
       "<table border=\"1\" class=\"dataframe\">\n",
       "  <thead>\n",
       "    <tr style=\"text-align: right;\">\n",
       "      <th></th>\n",
       "      <th>track_name</th>\n",
       "      <th>percentage</th>\n",
       "    </tr>\n",
       "  </thead>\n",
       "  <tbody>\n",
       "    <tr>\n",
       "      <th>count</th>\n",
       "      <td>43887</td>\n",
       "      <td>43887</td>\n",
       "    </tr>\n",
       "    <tr>\n",
       "      <th>unique</th>\n",
       "      <td>43887</td>\n",
       "      <td>2</td>\n",
       "    </tr>\n",
       "    <tr>\n",
       "      <th>top</th>\n",
       "      <td>Space Suit</td>\n",
       "      <td>0</td>\n",
       "    </tr>\n",
       "    <tr>\n",
       "      <th>freq</th>\n",
       "      <td>1</td>\n",
       "      <td>33560</td>\n",
       "    </tr>\n",
       "  </tbody>\n",
       "</table>\n",
       "</div>"
      ],
      "text/plain": [
       "        track_name  percentage\n",
       "count        43887       43887\n",
       "unique       43887           2\n",
       "top     Space Suit           0\n",
       "freq             1       33560"
      ]
     },
     "execution_count": 33,
     "metadata": {},
     "output_type": "execute_result"
    }
   ],
   "source": [
    "df_temp4.describe(include='all') #describing all the columns of the dataframe"
   ]
  },
  {
   "cell_type": "markdown",
   "metadata": {},
   "source": [
    "# Joining all the five dataframes to one"
   ]
  },
  {
   "cell_type": "code",
   "execution_count": 34,
   "metadata": {},
   "outputs": [],
   "source": [
    "result_new = newDF.merge(newDF1,how='inner', left_on='track_name', right_on='track_name')"
   ]
  },
  {
   "cell_type": "code",
   "execution_count": 35,
   "metadata": {},
   "outputs": [],
   "source": [
    "result_new = result_new.merge(newDF2,how='inner', left_on='track_name', right_on='track_name')"
   ]
  },
  {
   "cell_type": "code",
   "execution_count": 36,
   "metadata": {},
   "outputs": [],
   "source": [
    "result_new = result_new.merge(df_temp3,how='inner', left_on='track_name', right_on='track_name')"
   ]
  },
  {
   "cell_type": "code",
   "execution_count": 37,
   "metadata": {},
   "outputs": [],
   "source": [
    "result_new = result_new.merge(df_temp4,how='inner', left_on='track_name', right_on='track_name')"
   ]
  },
  {
   "cell_type": "code",
   "execution_count": 38,
   "metadata": {},
   "outputs": [],
   "source": [
    "result_new.columns = ['track_name', 'play_times', 'percent_male', 'average_age_listener', 'percent_once', 'percent_five+']"
   ]
  },
  {
   "cell_type": "code",
   "execution_count": 39,
   "metadata": {},
   "outputs": [
    {
     "data": {
      "text/html": [
       "<div>\n",
       "<style scoped>\n",
       "    .dataframe tbody tr th:only-of-type {\n",
       "        vertical-align: middle;\n",
       "    }\n",
       "\n",
       "    .dataframe tbody tr th {\n",
       "        vertical-align: top;\n",
       "    }\n",
       "\n",
       "    .dataframe thead th {\n",
       "        text-align: right;\n",
       "    }\n",
       "</style>\n",
       "<table border=\"1\" class=\"dataframe\">\n",
       "  <thead>\n",
       "    <tr style=\"text-align: right;\">\n",
       "      <th></th>\n",
       "      <th>track_name</th>\n",
       "      <th>play_times</th>\n",
       "      <th>percent_male</th>\n",
       "      <th>average_age_listener</th>\n",
       "      <th>percent_once</th>\n",
       "      <th>percent_five+</th>\n",
       "    </tr>\n",
       "  </thead>\n",
       "  <tbody>\n",
       "    <tr>\n",
       "      <th>29425</th>\n",
       "      <td>Banquet (Phones Disco Edit)</td>\n",
       "      <td>1</td>\n",
       "      <td>0.0</td>\n",
       "      <td>22</td>\n",
       "      <td>100</td>\n",
       "      <td>0</td>\n",
       "    </tr>\n",
       "    <tr>\n",
       "      <th>29426</th>\n",
       "      <td>Lust</td>\n",
       "      <td>10</td>\n",
       "      <td>0.0</td>\n",
       "      <td>25</td>\n",
       "      <td>0</td>\n",
       "      <td>0</td>\n",
       "    </tr>\n",
       "    <tr>\n",
       "      <th>29427</th>\n",
       "      <td>The Devil Game</td>\n",
       "      <td>2</td>\n",
       "      <td>0.0</td>\n",
       "      <td>22</td>\n",
       "      <td>0</td>\n",
       "      <td>0</td>\n",
       "    </tr>\n",
       "    <tr>\n",
       "      <th>29428</th>\n",
       "      <td>Flight Of The Phoenicians</td>\n",
       "      <td>17</td>\n",
       "      <td>0.0</td>\n",
       "      <td>27</td>\n",
       "      <td>0</td>\n",
       "      <td>100</td>\n",
       "    </tr>\n",
       "    <tr>\n",
       "      <th>29429</th>\n",
       "      <td>Wake Up Screaming</td>\n",
       "      <td>1</td>\n",
       "      <td>0.0</td>\n",
       "      <td>22</td>\n",
       "      <td>100</td>\n",
       "      <td>0</td>\n",
       "    </tr>\n",
       "  </tbody>\n",
       "</table>\n",
       "</div>"
      ],
      "text/plain": [
       "                        track_name play_times  percent_male  \\\n",
       "29425  Banquet (Phones Disco Edit)          1           0.0   \n",
       "29426                         Lust         10           0.0   \n",
       "29427               The Devil Game          2           0.0   \n",
       "29428    Flight Of The Phoenicians         17           0.0   \n",
       "29429            Wake Up Screaming          1           0.0   \n",
       "\n",
       "      average_age_listener percent_once percent_five+  \n",
       "29425                   22          100             0  \n",
       "29426                   25            0             0  \n",
       "29427                   22            0             0  \n",
       "29428                   27            0           100  \n",
       "29429                   22          100             0  "
      ]
     },
     "execution_count": 39,
     "metadata": {},
     "output_type": "execute_result"
    }
   ],
   "source": [
    "result_new.tail()"
   ]
  },
  {
   "cell_type": "code",
   "execution_count": 40,
   "metadata": {},
   "outputs": [
    {
     "data": {
      "text/plain": [
       "(29430, 6)"
      ]
     },
     "execution_count": 40,
     "metadata": {},
     "output_type": "execute_result"
    }
   ],
   "source": [
    "result_new.shape #dimensions of the final dataframe"
   ]
  },
  {
   "cell_type": "markdown",
   "metadata": {},
   "source": [
    "# Pickle"
   ]
  },
  {
   "cell_type": "code",
   "execution_count": 42,
   "metadata": {},
   "outputs": [],
   "source": [
    "import pickle  # importing the pickle library"
   ]
  },
  {
   "cell_type": "code",
   "execution_count": 43,
   "metadata": {},
   "outputs": [],
   "source": [
    "# creating the pickle file of the final dataframe\n",
    "\n",
    "pickle_out = open('data.pkl', 'wb')\n",
    "\n",
    "# Pickle the 'data' dictionary using the highest protocol available.\n",
    "pickle.dump(result_new, pickle_out, pickle.HIGHEST_PROTOCOL)\n",
    "pickle_out.close()"
   ]
  },
  {
   "cell_type": "code",
   "execution_count": 44,
   "metadata": {},
   "outputs": [],
   "source": [
    "# creating the pickle file of the initial master dataframe\n",
    "pickle_out = open('data1.pkl', 'wb')\n",
    "\n",
    "# Pickle the 'data' dictionary using the highest protocol available.\n",
    "pickle.dump(result, pickle_out, pickle.HIGHEST_PROTOCOL)\n",
    "pickle_out.close()"
   ]
  },
  {
   "cell_type": "code",
   "execution_count": 3,
   "metadata": {},
   "outputs": [
    {
     "name": "stdout",
     "output_type": "stream",
     "text": [
      "\n"
     ]
    }
   ],
   "source": [
    "del user_profiles\n",
    "del user_data\n",
    "del result\n",
    "del newDF\n",
    "del df_temp\n",
    "del newDF1\n",
    "del newDF2\n",
    "del df_temp2\n",
    "del newDF3\n",
    "del df_temp3\n",
    "del newDF4\n",
    "del df_temp4\n",
    "del result_new"
   ]
  },
  {
   "cell_type": "markdown",
   "metadata": {},
   "source": [
    "*Note* After this point you can clear the other objects, and start by loading in the data stored to your pickle file"
   ]
  },
  {
   "cell_type": "markdown",
   "metadata": {},
   "source": [
    "### Task 2 (4 points) \n",
    "\n",
    "Describe how you handled any missing data.  This should be written in as a paragraph with full sentences.  You should expect that someone reading your description could pre-process the data in the same manner as you.  Be brief but complete. "
   ]
  },
  {
   "cell_type": "markdown",
   "metadata": {},
   "source": [
    "#### The right procedure should be to treat the missing values using Knn imputation and draw inferences from it but I here dropped the rows with NaN values inorder to draw inferences on the data we have."
   ]
  },
  {
   "cell_type": "markdown",
   "metadata": {},
   "source": [
    "### Task 3 (16 points) \n",
    "\n",
    "Explore the data set created in Task 1 by generating some descriptive statistics (expect 3-5 tables, plots, summary statistics). After each code block, you should have summary statements (in full and complete sentences - be brief but complete).  "
   ]
  },
  {
   "cell_type": "code",
   "execution_count": 45,
   "metadata": {},
   "outputs": [],
   "source": [
    "pickle_in = open(\"data.pkl\", \"rb\") #importing the final converted pickle file\n",
    "df_new = pickle.load(pickle_in)"
   ]
  },
  {
   "cell_type": "code",
   "execution_count": 46,
   "metadata": {},
   "outputs": [
    {
     "data": {
      "text/html": [
       "<div>\n",
       "<style scoped>\n",
       "    .dataframe tbody tr th:only-of-type {\n",
       "        vertical-align: middle;\n",
       "    }\n",
       "\n",
       "    .dataframe tbody tr th {\n",
       "        vertical-align: top;\n",
       "    }\n",
       "\n",
       "    .dataframe thead th {\n",
       "        text-align: right;\n",
       "    }\n",
       "</style>\n",
       "<table border=\"1\" class=\"dataframe\">\n",
       "  <thead>\n",
       "    <tr style=\"text-align: right;\">\n",
       "      <th></th>\n",
       "      <th>track_name</th>\n",
       "      <th>play_times</th>\n",
       "      <th>percent_male</th>\n",
       "      <th>average_age_listener</th>\n",
       "      <th>percent_once</th>\n",
       "      <th>percent_five+</th>\n",
       "    </tr>\n",
       "  </thead>\n",
       "  <tbody>\n",
       "    <tr>\n",
       "      <th>0</th>\n",
       "      <td>Mr. Misery</td>\n",
       "      <td>4</td>\n",
       "      <td>0.0</td>\n",
       "      <td>27</td>\n",
       "      <td>0</td>\n",
       "      <td>0</td>\n",
       "    </tr>\n",
       "    <tr>\n",
       "      <th>1</th>\n",
       "      <td>Lights In The Sky</td>\n",
       "      <td>19</td>\n",
       "      <td>0.0</td>\n",
       "      <td>25</td>\n",
       "      <td>0</td>\n",
       "      <td>0</td>\n",
       "    </tr>\n",
       "    <tr>\n",
       "      <th>2</th>\n",
       "      <td>Just As The Tide Was Flowing</td>\n",
       "      <td>2</td>\n",
       "      <td>0.0</td>\n",
       "      <td>22</td>\n",
       "      <td>0</td>\n",
       "      <td>0</td>\n",
       "    </tr>\n",
       "    <tr>\n",
       "      <th>3</th>\n",
       "      <td>Murder (Live, Bbc)</td>\n",
       "      <td>1</td>\n",
       "      <td>0.0</td>\n",
       "      <td>22</td>\n",
       "      <td>100</td>\n",
       "      <td>0</td>\n",
       "    </tr>\n",
       "    <tr>\n",
       "      <th>4</th>\n",
       "      <td>Noon As Dark As Midnight</td>\n",
       "      <td>2</td>\n",
       "      <td>0.0</td>\n",
       "      <td>27</td>\n",
       "      <td>0</td>\n",
       "      <td>0</td>\n",
       "    </tr>\n",
       "  </tbody>\n",
       "</table>\n",
       "</div>"
      ],
      "text/plain": [
       "                     track_name play_times  percent_male average_age_listener  \\\n",
       "0                    Mr. Misery          4           0.0                   27   \n",
       "1             Lights In The Sky         19           0.0                   25   \n",
       "2  Just As The Tide Was Flowing          2           0.0                   22   \n",
       "3            Murder (Live, Bbc)          1           0.0                   22   \n",
       "4      Noon As Dark As Midnight          2           0.0                   27   \n",
       "\n",
       "  percent_once percent_five+  \n",
       "0            0             0  \n",
       "1            0             0  \n",
       "2            0             0  \n",
       "3          100             0  \n",
       "4            0             0  "
      ]
     },
     "execution_count": 46,
     "metadata": {},
     "output_type": "execute_result"
    }
   ],
   "source": [
    "df_new.head()"
   ]
  },
  {
   "cell_type": "code",
   "execution_count": 47,
   "metadata": {},
   "outputs": [],
   "source": [
    "pickle_in = open(\"data1.pkl\", \"rb\") #importing the merged master dataframe\n",
    "df_main = pickle.load(pickle_in)"
   ]
  },
  {
   "cell_type": "code",
   "execution_count": 48,
   "metadata": {},
   "outputs": [
    {
     "data": {
      "text/html": [
       "<div>\n",
       "<style scoped>\n",
       "    .dataframe tbody tr th:only-of-type {\n",
       "        vertical-align: middle;\n",
       "    }\n",
       "\n",
       "    .dataframe tbody tr th {\n",
       "        vertical-align: top;\n",
       "    }\n",
       "\n",
       "    .dataframe thead th {\n",
       "        text-align: right;\n",
       "    }\n",
       "</style>\n",
       "<table border=\"1\" class=\"dataframe\">\n",
       "  <thead>\n",
       "    <tr style=\"text-align: right;\">\n",
       "      <th></th>\n",
       "      <th>user_id</th>\n",
       "      <th>timestamp</th>\n",
       "      <th>artist_id</th>\n",
       "      <th>artist_name</th>\n",
       "      <th>track_id</th>\n",
       "      <th>track_name</th>\n",
       "      <th>gender</th>\n",
       "      <th>age</th>\n",
       "      <th>country</th>\n",
       "      <th>r_date</th>\n",
       "    </tr>\n",
       "  </thead>\n",
       "  <tbody>\n",
       "    <tr>\n",
       "      <th>74124</th>\n",
       "      <td>user_000003</td>\n",
       "      <td>2009-04-21T16:56:35Z</td>\n",
       "      <td>4730a989-8cf4-437b-9825-135f01644eab</td>\n",
       "      <td>Dirt Nasty</td>\n",
       "      <td>f8ef2c6a-e71f-4f57-a8d5-876835192b0a</td>\n",
       "      <td>True Hollywood Story</td>\n",
       "      <td>m</td>\n",
       "      <td>22.0</td>\n",
       "      <td>United States</td>\n",
       "      <td>Oct 30, 2005</td>\n",
       "    </tr>\n",
       "    <tr>\n",
       "      <th>74125</th>\n",
       "      <td>user_000003</td>\n",
       "      <td>2009-04-21T16:47:11Z</td>\n",
       "      <td>4730a989-8cf4-437b-9825-135f01644eab</td>\n",
       "      <td>Dirt Nasty</td>\n",
       "      <td>2c04113a-746b-491f-b999-892600730604</td>\n",
       "      <td>Gotta Leave This Town</td>\n",
       "      <td>m</td>\n",
       "      <td>22.0</td>\n",
       "      <td>United States</td>\n",
       "      <td>Oct 30, 2005</td>\n",
       "    </tr>\n",
       "    <tr>\n",
       "      <th>74127</th>\n",
       "      <td>user_000003</td>\n",
       "      <td>2009-04-21T16:27:08Z</td>\n",
       "      <td>056e4f3e-d505-4dad-8ec1-d04f521cbb56</td>\n",
       "      <td>Daft Punk</td>\n",
       "      <td>10cdacde-e54a-412a-863b-81d9ea6b3df2</td>\n",
       "      <td>Daftendirekt</td>\n",
       "      <td>m</td>\n",
       "      <td>22.0</td>\n",
       "      <td>United States</td>\n",
       "      <td>Oct 30, 2005</td>\n",
       "    </tr>\n",
       "    <tr>\n",
       "      <th>74128</th>\n",
       "      <td>user_000003</td>\n",
       "      <td>2009-04-18T15:39:43Z</td>\n",
       "      <td>ae1b47d5-5128-431c-9d30-e08fd90e0767</td>\n",
       "      <td>Coheed And Cambria</td>\n",
       "      <td>be7db5c6-b696-4a6b-9ae9-6018f6b11098</td>\n",
       "      <td>Once Upon Your Dead Body</td>\n",
       "      <td>m</td>\n",
       "      <td>22.0</td>\n",
       "      <td>United States</td>\n",
       "      <td>Oct 30, 2005</td>\n",
       "    </tr>\n",
       "    <tr>\n",
       "      <th>74129</th>\n",
       "      <td>user_000003</td>\n",
       "      <td>2009-04-13T00:31:07Z</td>\n",
       "      <td>8dacf242-9bf7-44f5-b2eb-18305b904551</td>\n",
       "      <td>Something Corporate</td>\n",
       "      <td>c971ba05-a421-4483-ab48-5d814d263c9c</td>\n",
       "      <td>Me And The Moon</td>\n",
       "      <td>m</td>\n",
       "      <td>22.0</td>\n",
       "      <td>United States</td>\n",
       "      <td>Oct 30, 2005</td>\n",
       "    </tr>\n",
       "  </tbody>\n",
       "</table>\n",
       "</div>"
      ],
      "text/plain": [
       "           user_id             timestamp  \\\n",
       "74124  user_000003  2009-04-21T16:56:35Z   \n",
       "74125  user_000003  2009-04-21T16:47:11Z   \n",
       "74127  user_000003  2009-04-21T16:27:08Z   \n",
       "74128  user_000003  2009-04-18T15:39:43Z   \n",
       "74129  user_000003  2009-04-13T00:31:07Z   \n",
       "\n",
       "                                  artist_id          artist_name  \\\n",
       "74124  4730a989-8cf4-437b-9825-135f01644eab           Dirt Nasty   \n",
       "74125  4730a989-8cf4-437b-9825-135f01644eab           Dirt Nasty   \n",
       "74127  056e4f3e-d505-4dad-8ec1-d04f521cbb56            Daft Punk   \n",
       "74128  ae1b47d5-5128-431c-9d30-e08fd90e0767   Coheed And Cambria   \n",
       "74129  8dacf242-9bf7-44f5-b2eb-18305b904551  Something Corporate   \n",
       "\n",
       "                                   track_id                track_name gender  \\\n",
       "74124  f8ef2c6a-e71f-4f57-a8d5-876835192b0a      True Hollywood Story      m   \n",
       "74125  2c04113a-746b-491f-b999-892600730604     Gotta Leave This Town      m   \n",
       "74127  10cdacde-e54a-412a-863b-81d9ea6b3df2              Daftendirekt      m   \n",
       "74128  be7db5c6-b696-4a6b-9ae9-6018f6b11098  Once Upon Your Dead Body      m   \n",
       "74129  c971ba05-a421-4483-ab48-5d814d263c9c           Me And The Moon      m   \n",
       "\n",
       "        age        country        r_date  \n",
       "74124  22.0  United States  Oct 30, 2005  \n",
       "74125  22.0  United States  Oct 30, 2005  \n",
       "74127  22.0  United States  Oct 30, 2005  \n",
       "74128  22.0  United States  Oct 30, 2005  \n",
       "74129  22.0  United States  Oct 30, 2005  "
      ]
     },
     "execution_count": 48,
     "metadata": {},
     "output_type": "execute_result"
    }
   ],
   "source": [
    "df_main.head()"
   ]
  },
  {
   "cell_type": "code",
   "execution_count": 49,
   "metadata": {},
   "outputs": [
    {
     "data": {
      "text/html": [
       "<div>\n",
       "<style scoped>\n",
       "    .dataframe tbody tr th:only-of-type {\n",
       "        vertical-align: middle;\n",
       "    }\n",
       "\n",
       "    .dataframe tbody tr th {\n",
       "        vertical-align: top;\n",
       "    }\n",
       "\n",
       "    .dataframe thead th {\n",
       "        text-align: right;\n",
       "    }\n",
       "</style>\n",
       "<table border=\"1\" class=\"dataframe\">\n",
       "  <thead>\n",
       "    <tr style=\"text-align: right;\">\n",
       "      <th></th>\n",
       "      <th>track_name</th>\n",
       "      <th>play_times</th>\n",
       "      <th>percent_male</th>\n",
       "      <th>average_age_listener</th>\n",
       "      <th>percent_once</th>\n",
       "      <th>percent_five+</th>\n",
       "    </tr>\n",
       "  </thead>\n",
       "  <tbody>\n",
       "    <tr>\n",
       "      <th>count</th>\n",
       "      <td>29430</td>\n",
       "      <td>29430.0</td>\n",
       "      <td>29430.0</td>\n",
       "      <td>29430.0</td>\n",
       "      <td>29430.0</td>\n",
       "      <td>29430.0</td>\n",
       "    </tr>\n",
       "    <tr>\n",
       "      <th>unique</th>\n",
       "      <td>29430</td>\n",
       "      <td>145.0</td>\n",
       "      <td>NaN</td>\n",
       "      <td>20.0</td>\n",
       "      <td>2.0</td>\n",
       "      <td>2.0</td>\n",
       "    </tr>\n",
       "    <tr>\n",
       "      <th>top</th>\n",
       "      <td>Baby Your Baby</td>\n",
       "      <td>1.0</td>\n",
       "      <td>NaN</td>\n",
       "      <td>22.0</td>\n",
       "      <td>0.0</td>\n",
       "      <td>0.0</td>\n",
       "    </tr>\n",
       "    <tr>\n",
       "      <th>freq</th>\n",
       "      <td>1</td>\n",
       "      <td>11143.0</td>\n",
       "      <td>NaN</td>\n",
       "      <td>11225.0</td>\n",
       "      <td>17676.0</td>\n",
       "      <td>23234.0</td>\n",
       "    </tr>\n",
       "    <tr>\n",
       "      <th>mean</th>\n",
       "      <td>NaN</td>\n",
       "      <td>NaN</td>\n",
       "      <td>0.0</td>\n",
       "      <td>NaN</td>\n",
       "      <td>NaN</td>\n",
       "      <td>NaN</td>\n",
       "    </tr>\n",
       "    <tr>\n",
       "      <th>std</th>\n",
       "      <td>NaN</td>\n",
       "      <td>NaN</td>\n",
       "      <td>0.0</td>\n",
       "      <td>NaN</td>\n",
       "      <td>NaN</td>\n",
       "      <td>NaN</td>\n",
       "    </tr>\n",
       "    <tr>\n",
       "      <th>min</th>\n",
       "      <td>NaN</td>\n",
       "      <td>NaN</td>\n",
       "      <td>0.0</td>\n",
       "      <td>NaN</td>\n",
       "      <td>NaN</td>\n",
       "      <td>NaN</td>\n",
       "    </tr>\n",
       "    <tr>\n",
       "      <th>25%</th>\n",
       "      <td>NaN</td>\n",
       "      <td>NaN</td>\n",
       "      <td>0.0</td>\n",
       "      <td>NaN</td>\n",
       "      <td>NaN</td>\n",
       "      <td>NaN</td>\n",
       "    </tr>\n",
       "    <tr>\n",
       "      <th>50%</th>\n",
       "      <td>NaN</td>\n",
       "      <td>NaN</td>\n",
       "      <td>0.0</td>\n",
       "      <td>NaN</td>\n",
       "      <td>NaN</td>\n",
       "      <td>NaN</td>\n",
       "    </tr>\n",
       "    <tr>\n",
       "      <th>75%</th>\n",
       "      <td>NaN</td>\n",
       "      <td>NaN</td>\n",
       "      <td>0.0</td>\n",
       "      <td>NaN</td>\n",
       "      <td>NaN</td>\n",
       "      <td>NaN</td>\n",
       "    </tr>\n",
       "    <tr>\n",
       "      <th>max</th>\n",
       "      <td>NaN</td>\n",
       "      <td>NaN</td>\n",
       "      <td>0.0</td>\n",
       "      <td>NaN</td>\n",
       "      <td>NaN</td>\n",
       "      <td>NaN</td>\n",
       "    </tr>\n",
       "  </tbody>\n",
       "</table>\n",
       "</div>"
      ],
      "text/plain": [
       "            track_name  play_times  percent_male  average_age_listener  \\\n",
       "count            29430     29430.0       29430.0               29430.0   \n",
       "unique           29430       145.0           NaN                  20.0   \n",
       "top     Baby Your Baby         1.0           NaN                  22.0   \n",
       "freq                 1     11143.0           NaN               11225.0   \n",
       "mean               NaN         NaN           0.0                   NaN   \n",
       "std                NaN         NaN           0.0                   NaN   \n",
       "min                NaN         NaN           0.0                   NaN   \n",
       "25%                NaN         NaN           0.0                   NaN   \n",
       "50%                NaN         NaN           0.0                   NaN   \n",
       "75%                NaN         NaN           0.0                   NaN   \n",
       "max                NaN         NaN           0.0                   NaN   \n",
       "\n",
       "        percent_once  percent_five+  \n",
       "count        29430.0        29430.0  \n",
       "unique           2.0            2.0  \n",
       "top              0.0            0.0  \n",
       "freq         17676.0        23234.0  \n",
       "mean             NaN            NaN  \n",
       "std              NaN            NaN  \n",
       "min              NaN            NaN  \n",
       "25%              NaN            NaN  \n",
       "50%              NaN            NaN  \n",
       "75%              NaN            NaN  \n",
       "max              NaN            NaN  "
      ]
     },
     "execution_count": 49,
     "metadata": {},
     "output_type": "execute_result"
    }
   ],
   "source": [
    "df_new.describe(include='all') #describing all the columns of the new dataframe"
   ]
  },
  {
   "cell_type": "markdown",
   "metadata": {},
   "source": [
    "As we can see in the above description of the final generated datframe .\n",
    "\n",
    "The describe function generates descriptive statistics that summarize the central tendency, dispersion and shape of a dataset’s distribution, excluding NaN values. It analyzes both numeric and object series, as well as DataFrame column sets of mixed data types. \n",
    "\n",
    "As asked process this data to recover some song statistics I filtered the datas based upon the each track_name i.e. average age of the listener is calculated based upon the average age of the listener per track_name.\n",
    "\n",
    "Description of the columns:\n",
    "\n",
    "1. track_name: \n",
    "(i) The count values shows the length of the column i.e. the number of rows, so it will be 29430 for all columns\n",
    "(ii) All the data in our final dataframe is unique so the unique value is same as the count value\n",
    "(iii) The top song is \"Baby Your Baby\"\n",
    "\n",
    "2. play_times:\n",
    "(i) We have 145 different song play count values\n",
    "\n",
    "3. percent_male:\n",
    "(i) We are not getting any relevant values here\n",
    "\n",
    "4. average_age_listener:\n",
    "(i) We have 20 unique ages in the dataframe\n",
    "(ii) The top age is 22\n",
    "\n",
    "5. percent_once:\n",
    "(i) We have just 2 unique values 0 and 100 because of less data.\n",
    "\n",
    "6. percent_five+:\n",
    "(i) Here as well we have just 2 unique values 0 and 100 because of less data."
   ]
  },
  {
   "cell_type": "code",
   "execution_count": 51,
   "metadata": {},
   "outputs": [],
   "source": [
    "#finding the number of times a song has been played\n",
    "df_scount = df_main.groupby(['user_id','track_name']).size() "
   ]
  },
  {
   "cell_type": "code",
   "execution_count": 52,
   "metadata": {},
   "outputs": [],
   "source": [
    "df_scount=df_scount.reset_index(level=[0,1]) #resetting the index"
   ]
  },
  {
   "cell_type": "code",
   "execution_count": 53,
   "metadata": {},
   "outputs": [],
   "source": [
    "df_scount.columns=['user_id','track_name','play_count'] #renaming the columns"
   ]
  },
  {
   "cell_type": "code",
   "execution_count": 60,
   "metadata": {},
   "outputs": [],
   "source": [
    "df_top_15 = df_scount.sort_values(by=['play_count'], ascending=False).head(15)"
   ]
  },
  {
   "cell_type": "code",
   "execution_count": 61,
   "metadata": {},
   "outputs": [
    {
     "data": {
      "text/html": [
       "<div>\n",
       "<style scoped>\n",
       "    .dataframe tbody tr th:only-of-type {\n",
       "        vertical-align: middle;\n",
       "    }\n",
       "\n",
       "    .dataframe tbody tr th {\n",
       "        vertical-align: top;\n",
       "    }\n",
       "\n",
       "    .dataframe thead th {\n",
       "        text-align: right;\n",
       "    }\n",
       "</style>\n",
       "<table border=\"1\" class=\"dataframe\">\n",
       "  <thead>\n",
       "    <tr style=\"text-align: right;\">\n",
       "      <th></th>\n",
       "      <th>user_id</th>\n",
       "      <th>track_name</th>\n",
       "      <th>play_count</th>\n",
       "    </tr>\n",
       "  </thead>\n",
       "  <tbody>\n",
       "    <tr>\n",
       "      <th>4127</th>\n",
       "      <td>user_000008</td>\n",
       "      <td>Heartless</td>\n",
       "      <td>2119</td>\n",
       "    </tr>\n",
       "    <tr>\n",
       "      <th>4291</th>\n",
       "      <td>user_000008</td>\n",
       "      <td>See You In My Nightmares</td>\n",
       "      <td>2069</td>\n",
       "    </tr>\n",
       "    <tr>\n",
       "      <th>4285</th>\n",
       "      <td>user_000008</td>\n",
       "      <td>Say You Will</td>\n",
       "      <td>2065</td>\n",
       "    </tr>\n",
       "    <tr>\n",
       "      <th>4194</th>\n",
       "      <td>user_000008</td>\n",
       "      <td>Love Lockdown</td>\n",
       "      <td>2059</td>\n",
       "    </tr>\n",
       "    <tr>\n",
       "      <th>4383</th>\n",
       "      <td>user_000008</td>\n",
       "      <td>Welcome To Heartbreak (Feat. Kid Cudi)</td>\n",
       "      <td>2059</td>\n",
       "    </tr>\n",
       "    <tr>\n",
       "      <th>4056</th>\n",
       "      <td>user_000008</td>\n",
       "      <td>Coldest Winter</td>\n",
       "      <td>2052</td>\n",
       "    </tr>\n",
       "    <tr>\n",
       "      <th>4249</th>\n",
       "      <td>user_000008</td>\n",
       "      <td>Paranoid (Feat. Mr. Hudson)</td>\n",
       "      <td>2051</td>\n",
       "    </tr>\n",
       "    <tr>\n",
       "      <th>4018</th>\n",
       "      <td>user_000008</td>\n",
       "      <td>Amazing (Feat. Young Jeezy)</td>\n",
       "      <td>2049</td>\n",
       "    </tr>\n",
       "    <tr>\n",
       "      <th>4253</th>\n",
       "      <td>user_000008</td>\n",
       "      <td>Pinocchio Story (Freestyle Live From Singapore)</td>\n",
       "      <td>2041</td>\n",
       "    </tr>\n",
       "    <tr>\n",
       "      <th>4026</th>\n",
       "      <td>user_000008</td>\n",
       "      <td>Bad News</td>\n",
       "      <td>2026</td>\n",
       "    </tr>\n",
       "    <tr>\n",
       "      <th>4277</th>\n",
       "      <td>user_000008</td>\n",
       "      <td>Robocop</td>\n",
       "      <td>1893</td>\n",
       "    </tr>\n",
       "    <tr>\n",
       "      <th>4319</th>\n",
       "      <td>user_000008</td>\n",
       "      <td>Street Lights</td>\n",
       "      <td>1865</td>\n",
       "    </tr>\n",
       "    <tr>\n",
       "      <th>7038</th>\n",
       "      <td>user_000010</td>\n",
       "      <td>Omen</td>\n",
       "      <td>377</td>\n",
       "    </tr>\n",
       "    <tr>\n",
       "      <th>4001</th>\n",
       "      <td>user_000008</td>\n",
       "      <td>56 Bars (Intro)</td>\n",
       "      <td>341</td>\n",
       "    </tr>\n",
       "    <tr>\n",
       "      <th>4191</th>\n",
       "      <td>user_000008</td>\n",
       "      <td>Live Your Life (Feat. Rihanna)</td>\n",
       "      <td>340</td>\n",
       "    </tr>\n",
       "  </tbody>\n",
       "</table>\n",
       "</div>"
      ],
      "text/plain": [
       "          user_id                                       track_name  play_count\n",
       "4127  user_000008                                        Heartless        2119\n",
       "4291  user_000008                         See You In My Nightmares        2069\n",
       "4285  user_000008                                     Say You Will        2065\n",
       "4194  user_000008                                    Love Lockdown        2059\n",
       "4383  user_000008           Welcome To Heartbreak (Feat. Kid Cudi)        2059\n",
       "4056  user_000008                                   Coldest Winter        2052\n",
       "4249  user_000008                      Paranoid (Feat. Mr. Hudson)        2051\n",
       "4018  user_000008                      Amazing (Feat. Young Jeezy)        2049\n",
       "4253  user_000008  Pinocchio Story (Freestyle Live From Singapore)        2041\n",
       "4026  user_000008                                         Bad News        2026\n",
       "4277  user_000008                                          Robocop        1893\n",
       "4319  user_000008                                    Street Lights        1865\n",
       "7038  user_000010                                             Omen         377\n",
       "4001  user_000008                                  56 Bars (Intro)         341\n",
       "4191  user_000008                   Live Your Life (Feat. Rihanna)         340"
      ]
     },
     "execution_count": 61,
     "metadata": {},
     "output_type": "execute_result"
    }
   ],
   "source": [
    "df_top_15"
   ]
  },
  {
   "cell_type": "code",
   "execution_count": 65,
   "metadata": {},
   "outputs": [],
   "source": [
    "track = list(df_top_15['track_name'])\n",
    "count = list(df_top_15['play_count'])"
   ]
  },
  {
   "cell_type": "code",
   "execution_count": 66,
   "metadata": {},
   "outputs": [],
   "source": [
    "from matplotlib import pyplot as plt"
   ]
  },
  {
   "cell_type": "code",
   "execution_count": 75,
   "metadata": {},
   "outputs": [
    {
     "data": {
      "image/png": "[encoded data removed]",
      "text/plain": [
       "<Figure size 2160x720 with 1 Axes>"
      ]
     },
     "metadata": {
      "needs_background": "light"
     },
     "output_type": "display_data"
    }
   ],
   "source": [
    "plt.figure(figsize=(30,10))\n",
    "plt.bar(track, count)\n",
    "plt.xlabel('Track Name', fontsize=16)\n",
    "plt.ylabel('Play Count', fontsize=16)\n",
    "plt.title('Top 15 Track Names and their play counts',fontsize=22)\n",
    "plt.show()"
   ]
  },
  {
   "cell_type": "markdown",
   "metadata": {},
   "source": [
    "### Task 4 (15 points) \n",
    "\n",
    "Using k-fold cross-validation, apply a linear regression model. Here, the response variable is the number of times a song has been played based on what we know about the listeners (in the data set generated in Task 1). Be sure to return the model score on both the training and validation data."
   ]
  },
  {
   "cell_type": "code",
   "execution_count": 104,
   "metadata": {},
   "outputs": [],
   "source": [
    "#importing the required package for regression\n",
    "from sklearn.model_selection import train_test_split\n",
    "from sklearn.linear_model import LinearRegression\n",
    "from sklearn import metrics\n",
    "import sklearn\n",
    "%matplotlib inline"
   ]
  },
  {
   "cell_type": "code",
   "execution_count": 81,
   "metadata": {},
   "outputs": [
    {
     "data": {
      "text/html": [
       "<div>\n",
       "<style scoped>\n",
       "    .dataframe tbody tr th:only-of-type {\n",
       "        vertical-align: middle;\n",
       "    }\n",
       "\n",
       "    .dataframe tbody tr th {\n",
       "        vertical-align: top;\n",
       "    }\n",
       "\n",
       "    .dataframe thead th {\n",
       "        text-align: right;\n",
       "    }\n",
       "</style>\n",
       "<table border=\"1\" class=\"dataframe\">\n",
       "  <thead>\n",
       "    <tr style=\"text-align: right;\">\n",
       "      <th></th>\n",
       "      <th>track_name</th>\n",
       "      <th>play_times</th>\n",
       "      <th>percent_male</th>\n",
       "      <th>average_age_listener</th>\n",
       "      <th>percent_once</th>\n",
       "      <th>percent_five+</th>\n",
       "    </tr>\n",
       "  </thead>\n",
       "  <tbody>\n",
       "    <tr>\n",
       "      <th>0</th>\n",
       "      <td>Mr. Misery</td>\n",
       "      <td>4</td>\n",
       "      <td>0.0</td>\n",
       "      <td>27</td>\n",
       "      <td>0</td>\n",
       "      <td>0</td>\n",
       "    </tr>\n",
       "    <tr>\n",
       "      <th>1</th>\n",
       "      <td>Lights In The Sky</td>\n",
       "      <td>19</td>\n",
       "      <td>0.0</td>\n",
       "      <td>25</td>\n",
       "      <td>0</td>\n",
       "      <td>0</td>\n",
       "    </tr>\n",
       "    <tr>\n",
       "      <th>2</th>\n",
       "      <td>Just As The Tide Was Flowing</td>\n",
       "      <td>2</td>\n",
       "      <td>0.0</td>\n",
       "      <td>22</td>\n",
       "      <td>0</td>\n",
       "      <td>0</td>\n",
       "    </tr>\n",
       "    <tr>\n",
       "      <th>3</th>\n",
       "      <td>Murder (Live, Bbc)</td>\n",
       "      <td>1</td>\n",
       "      <td>0.0</td>\n",
       "      <td>22</td>\n",
       "      <td>100</td>\n",
       "      <td>0</td>\n",
       "    </tr>\n",
       "    <tr>\n",
       "      <th>4</th>\n",
       "      <td>Noon As Dark As Midnight</td>\n",
       "      <td>2</td>\n",
       "      <td>0.0</td>\n",
       "      <td>27</td>\n",
       "      <td>0</td>\n",
       "      <td>0</td>\n",
       "    </tr>\n",
       "  </tbody>\n",
       "</table>\n",
       "</div>"
      ],
      "text/plain": [
       "                     track_name play_times  percent_male average_age_listener  \\\n",
       "0                    Mr. Misery          4           0.0                   27   \n",
       "1             Lights In The Sky         19           0.0                   25   \n",
       "2  Just As The Tide Was Flowing          2           0.0                   22   \n",
       "3            Murder (Live, Bbc)          1           0.0                   22   \n",
       "4      Noon As Dark As Midnight          2           0.0                   27   \n",
       "\n",
       "  percent_once percent_five+  \n",
       "0            0             0  \n",
       "1            0             0  \n",
       "2            0             0  \n",
       "3          100             0  \n",
       "4            0             0  "
      ]
     },
     "execution_count": 81,
     "metadata": {},
     "output_type": "execute_result"
    }
   ],
   "source": [
    "df_new.head()"
   ]
  },
  {
   "cell_type": "code",
   "execution_count": 100,
   "metadata": {},
   "outputs": [],
   "source": [
    "#transforming our table data into arrays\n",
    "lis1,lis2=[],[]\n",
    "#for i in range(0,df_code.shape[0]):\n",
    "for i in range(0,1000):\n",
    "    lis1=[df_new.iloc[i][2], int(df_new.iloc[i][3]), int(df_new.iloc[i][4]), int(df_new.iloc[i][5])]\n",
    "    np.array(lis1)\n",
    "    lis2.append(lis1)"
   ]
  },
  {
   "cell_type": "code",
   "execution_count": 101,
   "metadata": {},
   "outputs": [],
   "source": [
    "#details about the listeners\n",
    "data1 = np.array(lis2) #data\n",
    "\n",
    "#response variable: number of times the song has been played\n",
    "data_t = np.array(df_new['play_times'][0:1000]) #target"
   ]
  },
  {
   "cell_type": "code",
   "execution_count": 102,
   "metadata": {},
   "outputs": [
    {
     "data": {
      "text/plain": [
       "array([[  0,  27,   0,   0],\n",
       "       [  0,  25,   0,   0],\n",
       "       [  0,  22,   0,   0],\n",
       "       ...,\n",
       "       [  0,  22, 100,   0],\n",
       "       [  0,  26,   0,   0],\n",
       "       [  0,  22, 100,   0]])"
      ]
     },
     "execution_count": 102,
     "metadata": {},
     "output_type": "execute_result"
    }
   ],
   "source": [
    "data1 = data1.astype('int') #we can see that our data is successfully converted to an array\n",
    "data1"
   ]
  },
  {
   "cell_type": "code",
   "execution_count": 103,
   "metadata": {},
   "outputs": [
    {
     "name": "stdout",
     "output_type": "stream",
     "text": [
      "('Data Shape', (1000, 4))\n",
      "('Target Shape', (1000,))\n"
     ]
    }
   ],
   "source": [
    "print('Data Shape', data1.shape)  #Shape of data and target\n",
    "print('Target Shape', data_t.shape) "
   ]
  },
  {
   "cell_type": "code",
   "execution_count": 108,
   "metadata": {},
   "outputs": [],
   "source": [
    "data1 = sklearn.preprocessing.scale(data1, axis=0, with_mean=True, with_std=True, copy=True)\n",
    "data_t = sklearn.preprocessing.scale(data_t, axis=0, with_mean=True, with_std=True, copy=True)"
   ]
  },
  {
   "cell_type": "code",
   "execution_count": 111,
   "metadata": {},
   "outputs": [],
   "source": [
    "#split data set\n",
    "X_train, X_test, y_train, y_test = train_test_split(data1, data_t, test_size=0.2)"
   ]
  },
  {
   "cell_type": "markdown",
   "metadata": {},
   "source": [
    "### K-Fold Cross Validation"
   ]
  },
  {
   "cell_type": "code",
   "execution_count": 114,
   "metadata": {},
   "outputs": [],
   "source": [
    "# Import necessary modules\n",
    "from sklearn.linear_model import LinearRegression\n",
    "from sklearn.model_selection import cross_val_score\n",
    "\n",
    "# Create a linear regression object: reg\n",
    "reg = LinearRegression()"
   ]
  },
  {
   "cell_type": "code",
   "execution_count": 115,
   "metadata": {},
   "outputs": [
    {
     "data": {
      "text/plain": [
       "LinearRegression(copy_X=True, fit_intercept=True, n_jobs=1, normalize=False)"
      ]
     },
     "execution_count": 115,
     "metadata": {},
     "output_type": "execute_result"
    }
   ],
   "source": [
    "reg.fit(X_train, y_train)"
   ]
  },
  {
   "cell_type": "code",
   "execution_count": 126,
   "metadata": {},
   "outputs": [
    {
     "name": "stdout",
     "output_type": "stream",
     "text": [
      "('3-fold CV:', -1.3558842446277062)\n",
      "('5-fold CV:', -0.7316950321845669)\n",
      "('10-fold CV:', -0.6581391904034518)\n"
     ]
    }
   ],
   "source": [
    "# Perform 3-fold CV\n",
    "cvscores_3 = cross_val_score(reg, X_train, y_train, cv=3) #3-fold\n",
    "print('3-fold CV:' ,np.mean(cvscores_3))\n",
    "\n",
    "# Perform 5-fold CV\n",
    "cvscores_5 = cross_val_score(reg, X_train, y_train, cv=5) #5-fold\n",
    "print('5-fold CV:' ,np.mean(cvscores_5) )\n",
    "\n",
    "# Perform 10-fold CV\n",
    "cvscores_10 = cross_val_score(reg, X_train, y_train, cv=10) #10-fold\n",
    "print('10-fold CV:', np.mean(cvscores_10)) "
   ]
  },
  {
   "cell_type": "code",
   "execution_count": 116,
   "metadata": {},
   "outputs": [],
   "source": [
    "y_pred = reg.predict(X_test)"
   ]
  },
  {
   "cell_type": "code",
   "execution_count": 121,
   "metadata": {},
   "outputs": [
    {
     "data": {
      "text/html": [
       "<div>\n",
       "<style scoped>\n",
       "    .dataframe tbody tr th:only-of-type {\n",
       "        vertical-align: middle;\n",
       "    }\n",
       "\n",
       "    .dataframe tbody tr th {\n",
       "        vertical-align: top;\n",
       "    }\n",
       "\n",
       "    .dataframe thead th {\n",
       "        text-align: right;\n",
       "    }\n",
       "</style>\n",
       "<table border=\"1\" class=\"dataframe\">\n",
       "  <thead>\n",
       "    <tr style=\"text-align: right;\">\n",
       "      <th></th>\n",
       "      <th>Actual</th>\n",
       "      <th>Predicted</th>\n",
       "    </tr>\n",
       "  </thead>\n",
       "  <tbody>\n",
       "    <tr>\n",
       "      <th>0</th>\n",
       "      <td>-0.038429</td>\n",
       "      <td>0.167717</td>\n",
       "    </tr>\n",
       "    <tr>\n",
       "      <th>1</th>\n",
       "      <td>-0.099427</td>\n",
       "      <td>-0.091033</td>\n",
       "    </tr>\n",
       "    <tr>\n",
       "      <th>2</th>\n",
       "      <td>-0.084177</td>\n",
       "      <td>0.011693</td>\n",
       "    </tr>\n",
       "    <tr>\n",
       "      <th>3</th>\n",
       "      <td>-0.038429</td>\n",
       "      <td>-0.003339</td>\n",
       "    </tr>\n",
       "    <tr>\n",
       "      <th>4</th>\n",
       "      <td>-0.053678</td>\n",
       "      <td>0.011693</td>\n",
       "    </tr>\n",
       "  </tbody>\n",
       "</table>\n",
       "</div>"
      ],
      "text/plain": [
       "     Actual  Predicted\n",
       "0 -0.038429   0.167717\n",
       "1 -0.099427  -0.091033\n",
       "2 -0.084177   0.011693\n",
       "3 -0.038429  -0.003339\n",
       "4 -0.053678   0.011693"
      ]
     },
     "execution_count": 121,
     "metadata": {},
     "output_type": "execute_result"
    }
   ],
   "source": [
    "df = pd.DataFrame({'Actual': y_test.flatten(), 'Predicted': y_pred.flatten()})\n",
    "df.head()"
   ]
  },
  {
   "cell_type": "code",
   "execution_count": 118,
   "metadata": {},
   "outputs": [
    {
     "data": {
      "image/png": "[encoded data removed]",
      "text/plain": [
       "<Figure size 1152x720 with 1 Axes>"
      ]
     },
     "metadata": {
      "needs_background": "light"
     },
     "output_type": "display_data"
    }
   ],
   "source": [
    "df1 = df.head(25)\n",
    "df1.plot(kind='bar',figsize=(16,10))\n",
    "plt.grid(which='major', linestyle='-', linewidth='0.5', color='green')\n",
    "plt.grid(which='minor', linestyle=':', linewidth='0.5', color='black')\n",
    "plt.show()"
   ]
  },
  {
   "cell_type": "code",
   "execution_count": 123,
   "metadata": {},
   "outputs": [
    {
     "name": "stdout",
     "output_type": "stream",
     "text": [
      "('Score:', -0.022624891987956586)\n",
      "('Mean Absolute Error:', 0.0910524380518606)\n",
      "('Mean Squared Error:', 0.04933236659962913)\n",
      "('Root Mean Squared Error:', 0.22210890706954803)\n"
     ]
    }
   ],
   "source": [
    "print('Score:', reg.score(X_test, y_test))\n",
    "print('Mean Absolute Error:', metrics.mean_absolute_error(y_test, y_pred))  \n",
    "print('Mean Squared Error:', metrics.mean_squared_error(y_test, y_pred))  \n",
    "print('Root Mean Squared Error:', np.sqrt(metrics.mean_squared_error(y_test, y_pred)))"
   ]
  },
  {
   "cell_type": "markdown",
   "metadata": {},
   "source": [
    "### Task 5 (5 points) \n",
    "\n",
    "Explain your results.  Specifically address, if the assumption of linear response to the input features was reasonable.  You will want to study a plot of the model's residual.  Ideally, the residuals are small in magnitude, and are evenly distributed about the true values.  What are some possible improvements that can be made?"
   ]
  },
  {
   "cell_type": "code",
   "execution_count": 127,
   "metadata": {},
   "outputs": [
    {
     "data": {
      "text/html": [
       "<div>\n",
       "<style scoped>\n",
       "    .dataframe tbody tr th:only-of-type {\n",
       "        vertical-align: middle;\n",
       "    }\n",
       "\n",
       "    .dataframe tbody tr th {\n",
       "        vertical-align: top;\n",
       "    }\n",
       "\n",
       "    .dataframe thead th {\n",
       "        text-align: right;\n",
       "    }\n",
       "</style>\n",
       "<table border=\"1\" class=\"dataframe\">\n",
       "  <thead>\n",
       "    <tr style=\"text-align: right;\">\n",
       "      <th></th>\n",
       "      <th>Actual</th>\n",
       "      <th>Predicted</th>\n",
       "    </tr>\n",
       "  </thead>\n",
       "  <tbody>\n",
       "    <tr>\n",
       "      <th>0</th>\n",
       "      <td>-0.038429</td>\n",
       "      <td>0.167717</td>\n",
       "    </tr>\n",
       "    <tr>\n",
       "      <th>1</th>\n",
       "      <td>-0.099427</td>\n",
       "      <td>-0.091033</td>\n",
       "    </tr>\n",
       "    <tr>\n",
       "      <th>2</th>\n",
       "      <td>-0.084177</td>\n",
       "      <td>0.011693</td>\n",
       "    </tr>\n",
       "    <tr>\n",
       "      <th>3</th>\n",
       "      <td>-0.038429</td>\n",
       "      <td>-0.003339</td>\n",
       "    </tr>\n",
       "    <tr>\n",
       "      <th>4</th>\n",
       "      <td>-0.053678</td>\n",
       "      <td>0.011693</td>\n",
       "    </tr>\n",
       "  </tbody>\n",
       "</table>\n",
       "</div>"
      ],
      "text/plain": [
       "     Actual  Predicted\n",
       "0 -0.038429   0.167717\n",
       "1 -0.099427  -0.091033\n",
       "2 -0.084177   0.011693\n",
       "3 -0.038429  -0.003339\n",
       "4 -0.053678   0.011693"
      ]
     },
     "execution_count": 127,
     "metadata": {},
     "output_type": "execute_result"
    }
   ],
   "source": [
    "df.head()"
   ]
  },
  {
   "cell_type": "code",
   "execution_count": 133,
   "metadata": {},
   "outputs": [
    {
     "data": {
      "image/png": "[encoded data removed]",
      "text/plain": [
       "<Figure size 576x576 with 1 Axes>"
      ]
     },
     "metadata": {
      "needs_background": "light"
     },
     "output_type": "display_data"
    }
   ],
   "source": [
    "plt.figure(figsize=(8,8))\n",
    "plt.scatter(df['Predicted'], df['Predicted']-df['Actual'], c='lightgreen', label='Residuals')\n",
    "plt.xlabel('Predicted values')\n",
    "plt.ylabel('Residuals')\n",
    "plt.title('Residual plot',fontsize=22)\n",
    "plt.show()"
   ]
  },
  {
   "cell_type": "markdown",
   "metadata": {},
   "source": [
    "### Bonus Task (5 points) \n",
    "\n",
    "Suppose we are instead curious about whether a song will be played by a user based on a demographics.  Apply a linear SVM model and report your results."
   ]
  },
  {
   "cell_type": "code",
   "execution_count": 134,
   "metadata": {},
   "outputs": [],
   "source": [
    "from sklearn.svm import SVR"
   ]
  },
  {
   "cell_type": "code",
   "execution_count": 135,
   "metadata": {},
   "outputs": [
    {
     "data": {
      "text/plain": [
       "SVR(C=1.0, cache_size=200, coef0=0.0, degree=3, epsilon=0.1, gamma='auto',\n",
       "  kernel='rbf', max_iter=-1, shrinking=True, tol=0.001, verbose=False)"
      ]
     },
     "execution_count": 135,
     "metadata": {},
     "output_type": "execute_result"
    }
   ],
   "source": [
    "regressor = SVR(kernel='rbf')\n",
    "regressor.fit(X_train, y_train)"
   ]
  },
  {
   "cell_type": "code",
   "execution_count": 136,
   "metadata": {},
   "outputs": [],
   "source": [
    "y_pred = regressor.predict(X_test)"
   ]
  },
  {
   "cell_type": "code",
   "execution_count": 137,
   "metadata": {},
   "outputs": [
    {
     "data": {
      "text/html": [
       "<div>\n",
       "<style scoped>\n",
       "    .dataframe tbody tr th:only-of-type {\n",
       "        vertical-align: middle;\n",
       "    }\n",
       "\n",
       "    .dataframe tbody tr th {\n",
       "        vertical-align: top;\n",
       "    }\n",
       "\n",
       "    .dataframe thead th {\n",
       "        text-align: right;\n",
       "    }\n",
       "</style>\n",
       "<table border=\"1\" class=\"dataframe\">\n",
       "  <thead>\n",
       "    <tr style=\"text-align: right;\">\n",
       "      <th></th>\n",
       "      <th>Actual</th>\n",
       "      <th>Predicted</th>\n",
       "    </tr>\n",
       "  </thead>\n",
       "  <tbody>\n",
       "    <tr>\n",
       "      <th>0</th>\n",
       "      <td>-0.038429</td>\n",
       "      <td>0.075487</td>\n",
       "    </tr>\n",
       "    <tr>\n",
       "      <th>1</th>\n",
       "      <td>-0.099427</td>\n",
       "      <td>-0.004162</td>\n",
       "    </tr>\n",
       "    <tr>\n",
       "      <th>2</th>\n",
       "      <td>-0.084177</td>\n",
       "      <td>0.015409</td>\n",
       "    </tr>\n",
       "    <tr>\n",
       "      <th>3</th>\n",
       "      <td>-0.038429</td>\n",
       "      <td>0.026890</td>\n",
       "    </tr>\n",
       "    <tr>\n",
       "      <th>4</th>\n",
       "      <td>-0.053678</td>\n",
       "      <td>0.015409</td>\n",
       "    </tr>\n",
       "  </tbody>\n",
       "</table>\n",
       "</div>"
      ],
      "text/plain": [
       "     Actual  Predicted\n",
       "0 -0.038429   0.075487\n",
       "1 -0.099427  -0.004162\n",
       "2 -0.084177   0.015409\n",
       "3 -0.038429   0.026890\n",
       "4 -0.053678   0.015409"
      ]
     },
     "execution_count": 137,
     "metadata": {},
     "output_type": "execute_result"
    }
   ],
   "source": [
    "df = pd.DataFrame({'Actual': y_test.flatten(), 'Predicted': y_pred.flatten()})\n",
    "df.head()"
   ]
  },
  {
   "cell_type": "code",
   "execution_count": 138,
   "metadata": {},
   "outputs": [
    {
     "data": {
      "image/png": "[encoded data removed]",
      "text/plain": [
       "<Figure size 1152x720 with 1 Axes>"
      ]
     },
     "metadata": {
      "needs_background": "light"
     },
     "output_type": "display_data"
    }
   ],
   "source": [
    "df1 = df.head(25)\n",
    "df1.plot(kind='bar',figsize=(16,10))\n",
    "plt.grid(which='major', linestyle='-', linewidth='0.5', color='green')\n",
    "plt.grid(which='minor', linestyle=':', linewidth='0.5', color='black')\n",
    "plt.show()"
   ]
  },
  {
   "cell_type": "code",
   "execution_count": 139,
   "metadata": {},
   "outputs": [
    {
     "name": "stdout",
     "output_type": "stream",
     "text": [
      "('Score:', -0.022624891987956586)\n",
      "('Mean Absolute Error:', 0.11006947479435145)\n",
      "('Mean Squared Error:', 0.04642158908373499)\n",
      "('Root Mean Squared Error:', 0.2154566988602002)\n"
     ]
    }
   ],
   "source": [
    "print('Score:', reg.score(X_test, y_test))\n",
    "print('Mean Absolute Error:', metrics.mean_absolute_error(y_test, y_pred))  \n",
    "print('Mean Squared Error:', metrics.mean_squared_error(y_test, y_pred))  \n",
    "print('Root Mean Squared Error:', np.sqrt(metrics.mean_squared_error(y_test, y_pred)))"
   ]
  },
  {
   "cell_type": "code",
   "execution_count": 140,
   "metadata": {},
   "outputs": [
    {
     "data": {
      "image/png": "[encoded data removed]",
      "text/plain": [
       "<Figure size 576x576 with 1 Axes>"
      ]
     },
     "metadata": {
      "needs_background": "light"
     },
     "output_type": "display_data"
    }
   ],
   "source": [
    "plt.figure(figsize=(8,8))\n",
    "plt.scatter(df['Predicted'], df['Predicted']-df['Actual'], c='lightgreen', label='Residuals')\n",
    "plt.xlabel('Predicted values')\n",
    "plt.ylabel('Residuals')\n",
    "plt.title('Residual plot',fontsize=22)\n",
    "plt.show()"
   ]
  },
  {
   "cell_type": "markdown",
   "metadata": {},
   "source": [
    "## Clustering \n",
    "\n",
    "For this part of the project you will consider methods to group members of U.S. House of Representatives based on their voting records.  The voting records from congress are available at [Office of the Clerk, US House of Representatives](http://clerk.house.gov/legislative/legvotes.aspx), but not in a form that is easily digestible for analysis.\n",
    "\n",
    "In fact it was only in 2016, that Congress agreed to make legislative data available themselves.  [Govtrack.us](Govtrack.us) has links to primary data sources and api's projects that collect and release the data in easier digestible forms: \n",
    "\n",
    "* Github Congress project - https://github.com/unitedstates/congress \n",
    "* ProPublica's Congress API - https://projects.propublica.org/api-docs/congress-api/\n",
    "\n",
    "A long-standing project to document congressional roll call votes at the [Inter-university Consortium for Political and Social Research (ICPSR)](https://www.icpsr.umich.edu/icpsrweb/ICPSR/series/159).  This data includes roll call votes from 1789 - 1990. The ICPSR formatting for storing this data has been used on other sites which are keeping up with the creating a record, e.g., at [UCLA](https://voteview.polisci.ucla.edu).  For more recent years of Congress, data is collected at the following site: [https://voteview.com/data](https://voteview.com/data)\n",
    "\n",
    "For instance, to explore the 116th Congress, there are two formats for looking at the data: \n",
    "\n",
    "* `H116_votes.ord`  \n",
    "* `H116_votes.csv` \n",
    "\n",
    "The format of the `H116_votes.ord` data file is similar to what you say in the GettingData portion of the course.  The data consists of many fixed width items listed for each Congressperson (including their votes for each roll call). For example, the first few lines start as: \n",
    "\n",
    "`1162137641 1ALABAMA 200  BYRNE      66616616 ...`  \n",
    "`1162119241 2ALABAMA 200  ROBY       66616616 ...`  \n",
    "`1162030141 3ALABAMA 200  ROGERS     66616616 ...` \n",
    "\n",
    "The structure of the data is (https://voteview.com/articles/data_help_members): \n",
    "\n",
    "* 3 Digits - Congress number \n",
    "* 5 Digits - ICPSR number (unique id for each member of Congress) \n",
    "* 2 Digits - ICPSR state code \n",
    "* 2 Digits - District number  \n",
    "* 8 Characters - State name \n",
    "* 3 Digits - Party code: (broadly 100 - Democratic Party, 200 - Republican Party) https://voteview.com/articles/data_help_parties\n",
    "* 2 Digits - ICPSR Occupancy and Office code\n",
    "* 11 Characters - Member's name \n",
    "* Remaining Digits - Votes case  \n",
    "information encoded using vote cast code: https://voteview.com/articles/data_help_votes\n",
    "\n",
    "The format of the `H116_votes.csv` data file is structure differently.  For example the first few lines are: \n",
    "\n",
    "`congress,chamber,rollnumber,icpsr,cast_code,prob`  \n",
    "`116,House,1,14066,6,100.0`  \n",
    "`116,House,1,14657,6,100.0`  \n",
    "`116,House,1,14854,6,100.0`\n",
    "\n",
    "Information about each column of the data is given: https://voteview.com/articles/data_help_votes.\n",
    "\n",
    "As of 11/20/19 there were 623 roll call votes in the 116th Congress.  \n",
    " "
   ]
  },
  {
   "cell_type": "markdown",
   "metadata": {},
   "source": [
    "### Task 6 (10 points) \n",
    "\n",
    "You will need to collect the voting information for each member of 116th Congress. Using one of the two file format's provided. \n",
    "\n",
    "The first 6 votes of the 116th Congress have to do with electing the Speaker of the House and rules votes; remove these first 6 votes from further consideration.\n"
   ]
  },
  {
   "cell_type": "code",
   "execution_count": 75,
   "metadata": {},
   "outputs": [],
   "source": [
    "df = pd.read_table('HS116_votes.csv', sep = ',') #reading the user profiles data"
   ]
  },
  {
   "cell_type": "code",
   "execution_count": 53,
   "metadata": {},
   "outputs": [
    {
     "data": {
      "text/html": [
       "<div>\n",
       "<style scoped>\n",
       "    .dataframe tbody tr th:only-of-type {\n",
       "        vertical-align: middle;\n",
       "    }\n",
       "\n",
       "    .dataframe tbody tr th {\n",
       "        vertical-align: top;\n",
       "    }\n",
       "\n",
       "    .dataframe thead th {\n",
       "        text-align: right;\n",
       "    }\n",
       "</style>\n",
       "<table border=\"1\" class=\"dataframe\">\n",
       "  <thead>\n",
       "    <tr style=\"text-align: right;\">\n",
       "      <th></th>\n",
       "      <th>congress</th>\n",
       "      <th>chamber</th>\n",
       "      <th>rollnumber</th>\n",
       "      <th>icpsr</th>\n",
       "      <th>cast_code</th>\n",
       "      <th>prob</th>\n",
       "    </tr>\n",
       "  </thead>\n",
       "  <tbody>\n",
       "    <tr>\n",
       "      <th>0</th>\n",
       "      <td>116</td>\n",
       "      <td>House</td>\n",
       "      <td>1</td>\n",
       "      <td>14066</td>\n",
       "      <td>6</td>\n",
       "      <td>100.0</td>\n",
       "    </tr>\n",
       "    <tr>\n",
       "      <th>1</th>\n",
       "      <td>116</td>\n",
       "      <td>House</td>\n",
       "      <td>1</td>\n",
       "      <td>14657</td>\n",
       "      <td>6</td>\n",
       "      <td>100.0</td>\n",
       "    </tr>\n",
       "    <tr>\n",
       "      <th>2</th>\n",
       "      <td>116</td>\n",
       "      <td>House</td>\n",
       "      <td>1</td>\n",
       "      <td>14854</td>\n",
       "      <td>6</td>\n",
       "      <td>100.0</td>\n",
       "    </tr>\n",
       "    <tr>\n",
       "      <th>3</th>\n",
       "      <td>116</td>\n",
       "      <td>House</td>\n",
       "      <td>1</td>\n",
       "      <td>14863</td>\n",
       "      <td>6</td>\n",
       "      <td>100.0</td>\n",
       "    </tr>\n",
       "    <tr>\n",
       "      <th>4</th>\n",
       "      <td>116</td>\n",
       "      <td>House</td>\n",
       "      <td>1</td>\n",
       "      <td>14873</td>\n",
       "      <td>1</td>\n",
       "      <td>99.9</td>\n",
       "    </tr>\n",
       "  </tbody>\n",
       "</table>\n",
       "</div>"
      ],
      "text/plain": [
       "   congress chamber  rollnumber  icpsr  cast_code   prob\n",
       "0       116   House           1  14066          6  100.0\n",
       "1       116   House           1  14657          6  100.0\n",
       "2       116   House           1  14854          6  100.0\n",
       "3       116   House           1  14863          6  100.0\n",
       "4       116   House           1  14873          1   99.9"
      ]
     },
     "execution_count": 53,
     "metadata": {},
     "output_type": "execute_result"
    }
   ],
   "source": [
    "df.head()"
   ]
  },
  {
   "cell_type": "code",
   "execution_count": 54,
   "metadata": {},
   "outputs": [],
   "source": [
    "df = df.drop(df.index[[0,1,2,3,4,5]])"
   ]
  },
  {
   "cell_type": "code",
   "execution_count": 55,
   "metadata": {},
   "outputs": [
    {
     "data": {
      "text/html": [
       "<div>\n",
       "<style scoped>\n",
       "    .dataframe tbody tr th:only-of-type {\n",
       "        vertical-align: middle;\n",
       "    }\n",
       "\n",
       "    .dataframe tbody tr th {\n",
       "        vertical-align: top;\n",
       "    }\n",
       "\n",
       "    .dataframe thead th {\n",
       "        text-align: right;\n",
       "    }\n",
       "</style>\n",
       "<table border=\"1\" class=\"dataframe\">\n",
       "  <thead>\n",
       "    <tr style=\"text-align: right;\">\n",
       "      <th></th>\n",
       "      <th>congress</th>\n",
       "      <th>chamber</th>\n",
       "      <th>rollnumber</th>\n",
       "      <th>icpsr</th>\n",
       "      <th>cast_code</th>\n",
       "      <th>prob</th>\n",
       "    </tr>\n",
       "  </thead>\n",
       "  <tbody>\n",
       "    <tr>\n",
       "      <th>6</th>\n",
       "      <td>116</td>\n",
       "      <td>House</td>\n",
       "      <td>1</td>\n",
       "      <td>15029</td>\n",
       "      <td>1</td>\n",
       "      <td>99.7</td>\n",
       "    </tr>\n",
       "    <tr>\n",
       "      <th>7</th>\n",
       "      <td>116</td>\n",
       "      <td>House</td>\n",
       "      <td>1</td>\n",
       "      <td>15124</td>\n",
       "      <td>1</td>\n",
       "      <td>100.0</td>\n",
       "    </tr>\n",
       "    <tr>\n",
       "      <th>8</th>\n",
       "      <td>116</td>\n",
       "      <td>House</td>\n",
       "      <td>1</td>\n",
       "      <td>15410</td>\n",
       "      <td>1</td>\n",
       "      <td>100.0</td>\n",
       "    </tr>\n",
       "    <tr>\n",
       "      <th>9</th>\n",
       "      <td>116</td>\n",
       "      <td>House</td>\n",
       "      <td>1</td>\n",
       "      <td>15431</td>\n",
       "      <td>1</td>\n",
       "      <td>100.0</td>\n",
       "    </tr>\n",
       "    <tr>\n",
       "      <th>10</th>\n",
       "      <td>116</td>\n",
       "      <td>House</td>\n",
       "      <td>1</td>\n",
       "      <td>15438</td>\n",
       "      <td>1</td>\n",
       "      <td>99.5</td>\n",
       "    </tr>\n",
       "  </tbody>\n",
       "</table>\n",
       "</div>"
      ],
      "text/plain": [
       "    congress chamber  rollnumber  icpsr  cast_code   prob\n",
       "6        116   House           1  15029          1   99.7\n",
       "7        116   House           1  15124          1  100.0\n",
       "8        116   House           1  15410          1  100.0\n",
       "9        116   House           1  15431          1  100.0\n",
       "10       116   House           1  15438          1   99.5"
      ]
     },
     "execution_count": 55,
     "metadata": {},
     "output_type": "execute_result"
    }
   ],
   "source": [
    "df.head()"
   ]
  },
  {
   "cell_type": "markdown",
   "metadata": {},
   "source": [
    "### Task 7 (15 points) \n",
    "\n",
    "Apply K-means clustering to the voting data, using Euclidean distance as a measure on the cast votes.  \n",
    "\n",
    "Try several different values of $k$ and report back which should be selected (include a figure).  "
   ]
  },
  {
   "cell_type": "code",
   "execution_count": 56,
   "metadata": {},
   "outputs": [],
   "source": [
    "from sklearn.cluster import KMeans\n",
    "from sklearn import preprocessing \n",
    "from scipy.spatial.distance import cdist"
   ]
  },
  {
   "cell_type": "code",
   "execution_count": 57,
   "metadata": {},
   "outputs": [
    {
     "data": {
      "text/plain": [
       "array([1, 6, 7, 9])"
      ]
     },
     "execution_count": 57,
     "metadata": {},
     "output_type": "execute_result"
    }
   ],
   "source": [
    "df.cast_code.unique() #we have 4 unique classes"
   ]
  },
  {
   "cell_type": "code",
   "execution_count": 80,
   "metadata": {},
   "outputs": [],
   "source": [
    "df = df.dropna() "
   ]
  },
  {
   "cell_type": "code",
   "execution_count": 78,
   "metadata": {},
   "outputs": [],
   "source": [
    "label_encoder = preprocessing.LabelEncoder() \n",
    "df['chamber']= label_encoder.fit_transform(df['chamber']) "
   ]
  },
  {
   "cell_type": "code",
   "execution_count": 60,
   "metadata": {},
   "outputs": [
    {
     "data": {
      "image/png": "[encoded data removed]",
      "text/plain": [
       "<Figure size 576x576 with 1 Axes>"
      ]
     },
     "metadata": {
      "needs_background": "light"
     },
     "output_type": "display_data"
    }
   ],
   "source": [
    "# k means determine k\n",
    "distortions = []\n",
    "K = range(1,10)\n",
    "for k in K:\n",
    "    kmeanModel = KMeans(n_clusters=k).fit(df)\n",
    "    kmeanModel.fit(df)\n",
    "    distortions.append(sum(np.min(cdist(df, kmeanModel.cluster_centers_, 'euclidean'), axis=1)) / df.shape[0])\n",
    "\n",
    "# Plot the elbow\n",
    "plt.figure(figsize=(8,8))\n",
    "plt.plot(K, distortions, 'bx-')\n",
    "plt.xlabel('k')\n",
    "plt.ylabel('Distortion')\n",
    "plt.title('The Elbow Method showing the optimal k')\n",
    "plt.show()"
   ]
  },
  {
   "cell_type": "markdown",
   "metadata": {},
   "source": [
    "### Task 8 (10 points) \n",
    "\n",
    "Repeat the analysis but change the representation of the cast vote codes: \n",
    "\n",
    "| Original Code | New Code | \n",
    "|---------------|----------| \n",
    "|  0  |  0   |  \n",
    "|  1  |  1   | \n",
    "|  2  |  1   | \n",
    "|  3  |  1   | \n",
    "|  4  |  3   | \n",
    "|  5  |  3   | \n",
    "|  6  |  3   | \n",
    "|  7  |  2   | \n",
    "|  8  |  2   | \n",
    "|  9  |  2   | \n",
    "\n",
    "Also, change the distance measure to Manhattan distance.   "
   ]
  },
  {
   "cell_type": "code",
   "execution_count": 67,
   "metadata": {},
   "outputs": [
    {
     "data": {
      "text/plain": [
       "array([1, 6, 7, 9])"
      ]
     },
     "execution_count": 67,
     "metadata": {},
     "output_type": "execute_result"
    }
   ],
   "source": [
    "df.cast_code.unique()"
   ]
  },
  {
   "cell_type": "markdown",
   "metadata": {},
   "source": [
    "#### We have 4 unique values so here we replace original code to new codes"
   ]
  },
  {
   "cell_type": "code",
   "execution_count": 76,
   "metadata": {},
   "outputs": [],
   "source": [
    "df[\"cast_code\"] = df[\"cast_code\"].map({1: 1, 6: 3, 7: 2, 9: 2})"
   ]
  },
  {
   "cell_type": "code",
   "execution_count": 77,
   "metadata": {},
   "outputs": [
    {
     "data": {
      "text/plain": [
       "array([3, 1, 2])"
      ]
     },
     "execution_count": 77,
     "metadata": {},
     "output_type": "execute_result"
    }
   ],
   "source": [
    "df.cast_code.unique()"
   ]
  },
  {
   "cell_type": "code",
   "execution_count": 81,
   "metadata": {},
   "outputs": [
    {
     "data": {
      "image/png": "[encoded data removed]",
      "text/plain": [
       "<Figure size 576x576 with 1 Axes>"
      ]
     },
     "metadata": {
      "needs_background": "light"
     },
     "output_type": "display_data"
    }
   ],
   "source": [
    "# k means determine k\n",
    "distortions = []\n",
    "K = range(1,10)\n",
    "for k in K:\n",
    "    kmeanModel = KMeans(n_clusters=k).fit(df)\n",
    "    kmeanModel.fit(df)\n",
    "    distortions.append(sum(np.min(cdist(df, kmeanModel.cluster_centers_, 'euclidean'), axis=1)) / df.shape[0])\n",
    "\n",
    "# Plot the elbow\n",
    "plt.figure(figsize=(8,8))\n",
    "plt.plot(K, distortions, 'bx-')\n",
    "plt.xlabel('k')\n",
    "plt.ylabel('Distortion')\n",
    "plt.title('The Elbow Method showing the optimal k')\n",
    "plt.show()"
   ]
  },
  {
   "cell_type": "code",
   "execution_count": 87,
   "metadata": {},
   "outputs": [],
   "source": [
    "kmeans = KMeans(n_clusters=5).fit(df)"
   ]
  },
  {
   "cell_type": "code",
   "execution_count": 88,
   "metadata": {},
   "outputs": [
    {
     "name": "stdout",
     "output_type": "stream",
     "text": [
      "[[1.16000000e+02 3.00821196e-01 2.87043539e+02 1.50643235e+04\n",
      "  1.73682987e+00 9.27890068e+01]\n",
      " [1.16000000e+02 9.12800621e-01 2.00199172e+02 4.16232214e+04\n",
      "  1.64773726e+00 9.25768503e+01]\n",
      " [1.16000000e+02 1.88556526e-01 3.02102903e+02 2.96521863e+04\n",
      "  1.67551687e+00 9.48466474e+01]\n",
      " [1.16000000e+02 6.54916512e-01 3.08985158e+02 9.34456865e+04\n",
      "  1.58998145e+00 8.52126160e+01]\n",
      " [1.16000000e+02 3.47507723e-02 3.25011677e+02 2.13518319e+04\n",
      "  1.82310530e+00 9.31835533e+01]]\n"
     ]
    }
   ],
   "source": [
    "centroids = kmeans.cluster_centers_\n",
    "print(centroids)"
   ]
  },
  {
   "cell_type": "markdown",
   "metadata": {},
   "source": [
    "### Task 9 (5 points) \n",
    "\n",
    "Report out the members (name, state, district) that are closest to the centroid of the clusters (using the results from Task 8).\n",
    "\n",
    "Report out the members (name, state, district) that are furthest from the centroid of the clusters (using the results from Task 8)."
   ]
  },
  {
   "cell_type": "code",
   "execution_count": 82,
   "metadata": {},
   "outputs": [
    {
     "data": {
      "text/html": [
       "<div>\n",
       "<style scoped>\n",
       "    .dataframe tbody tr th:only-of-type {\n",
       "        vertical-align: middle;\n",
       "    }\n",
       "\n",
       "    .dataframe tbody tr th {\n",
       "        vertical-align: top;\n",
       "    }\n",
       "\n",
       "    .dataframe thead th {\n",
       "        text-align: right;\n",
       "    }\n",
       "</style>\n",
       "<table border=\"1\" class=\"dataframe\">\n",
       "  <thead>\n",
       "    <tr style=\"text-align: right;\">\n",
       "      <th></th>\n",
       "      <th>congress</th>\n",
       "      <th>chamber</th>\n",
       "      <th>rollnumber</th>\n",
       "      <th>icpsr</th>\n",
       "      <th>cast_code</th>\n",
       "      <th>prob</th>\n",
       "    </tr>\n",
       "  </thead>\n",
       "  <tbody>\n",
       "    <tr>\n",
       "      <th>0</th>\n",
       "      <td>116</td>\n",
       "      <td>0</td>\n",
       "      <td>1</td>\n",
       "      <td>14066</td>\n",
       "      <td>3</td>\n",
       "      <td>100.0</td>\n",
       "    </tr>\n",
       "    <tr>\n",
       "      <th>1</th>\n",
       "      <td>116</td>\n",
       "      <td>0</td>\n",
       "      <td>1</td>\n",
       "      <td>14657</td>\n",
       "      <td>3</td>\n",
       "      <td>100.0</td>\n",
       "    </tr>\n",
       "    <tr>\n",
       "      <th>2</th>\n",
       "      <td>116</td>\n",
       "      <td>0</td>\n",
       "      <td>1</td>\n",
       "      <td>14854</td>\n",
       "      <td>3</td>\n",
       "      <td>100.0</td>\n",
       "    </tr>\n",
       "    <tr>\n",
       "      <th>3</th>\n",
       "      <td>116</td>\n",
       "      <td>0</td>\n",
       "      <td>1</td>\n",
       "      <td>14863</td>\n",
       "      <td>3</td>\n",
       "      <td>100.0</td>\n",
       "    </tr>\n",
       "    <tr>\n",
       "      <th>4</th>\n",
       "      <td>116</td>\n",
       "      <td>0</td>\n",
       "      <td>1</td>\n",
       "      <td>14873</td>\n",
       "      <td>1</td>\n",
       "      <td>99.9</td>\n",
       "    </tr>\n",
       "  </tbody>\n",
       "</table>\n",
       "</div>"
      ],
      "text/plain": [
       "   congress  chamber  rollnumber  icpsr  cast_code   prob\n",
       "0       116        0           1  14066          3  100.0\n",
       "1       116        0           1  14657          3  100.0\n",
       "2       116        0           1  14854          3  100.0\n",
       "3       116        0           1  14863          3  100.0\n",
       "4       116        0           1  14873          1   99.9"
      ]
     },
     "execution_count": 82,
     "metadata": {},
     "output_type": "execute_result"
    }
   ],
   "source": [
    "df.head()"
   ]
  },
  {
   "cell_type": "code",
   "execution_count": 83,
   "metadata": {},
   "outputs": [],
   "source": [
    "df2 = pd.read_table('HS116_members.csv', sep = ',') #reading the user profiles data"
   ]
  },
  {
   "cell_type": "markdown",
   "metadata": {},
   "source": [
    "##### Closest to centroid "
   ]
  },
  {
   "cell_type": "code",
   "execution_count": 90,
   "metadata": {},
   "outputs": [],
   "source": [
    "from sklearn.metrics import pairwise_distances_argmin_min"
   ]
  },
  {
   "cell_type": "code",
   "execution_count": 91,
   "metadata": {},
   "outputs": [
    {
     "data": {
      "text/plain": [
       "array([102309, 261611, 107462, 270826, 117170])"
      ]
     },
     "execution_count": 91,
     "metadata": {},
     "output_type": "execute_result"
    }
   ],
   "source": [
    "closest, _ = pairwise_distances_argmin_min(kmeans.cluster_centers_, df)\n",
    "closest"
   ]
  },
  {
   "cell_type": "code",
   "execution_count": 95,
   "metadata": {},
   "outputs": [
    {
     "data": {
      "text/html": [
       "<div>\n",
       "<style scoped>\n",
       "    .dataframe tbody tr th:only-of-type {\n",
       "        vertical-align: middle;\n",
       "    }\n",
       "\n",
       "    .dataframe tbody tr th {\n",
       "        vertical-align: top;\n",
       "    }\n",
       "\n",
       "    .dataframe thead th {\n",
       "        text-align: right;\n",
       "    }\n",
       "</style>\n",
       "<table border=\"1\" class=\"dataframe\">\n",
       "  <thead>\n",
       "    <tr style=\"text-align: right;\">\n",
       "      <th></th>\n",
       "      <th>congress</th>\n",
       "      <th>chamber</th>\n",
       "      <th>rollnumber</th>\n",
       "      <th>icpsr</th>\n",
       "      <th>cast_code</th>\n",
       "      <th>prob</th>\n",
       "    </tr>\n",
       "  </thead>\n",
       "  <tbody>\n",
       "    <tr>\n",
       "      <th>124325</th>\n",
       "      <td>116</td>\n",
       "      <td>0</td>\n",
       "      <td>289</td>\n",
       "      <td>15029</td>\n",
       "      <td>1</td>\n",
       "      <td>99.3</td>\n",
       "    </tr>\n",
       "    <tr>\n",
       "      <th>301391</th>\n",
       "      <td>116</td>\n",
       "      <td>1</td>\n",
       "      <td>195</td>\n",
       "      <td>41700</td>\n",
       "      <td>1</td>\n",
       "      <td>90.2</td>\n",
       "    </tr>\n",
       "    <tr>\n",
       "      <th>129910</th>\n",
       "      <td>116</td>\n",
       "      <td>0</td>\n",
       "      <td>301</td>\n",
       "      <td>29701</td>\n",
       "      <td>1</td>\n",
       "      <td>94.4</td>\n",
       "    </tr>\n",
       "    <tr>\n",
       "      <th>312206</th>\n",
       "      <td>116</td>\n",
       "      <td>1</td>\n",
       "      <td>303</td>\n",
       "      <td>94659</td>\n",
       "      <td>1</td>\n",
       "      <td>91.0</td>\n",
       "    </tr>\n",
       "    <tr>\n",
       "      <th>140050</th>\n",
       "      <td>116</td>\n",
       "      <td>0</td>\n",
       "      <td>325</td>\n",
       "      <td>21353</td>\n",
       "      <td>1</td>\n",
       "      <td>94.8</td>\n",
       "    </tr>\n",
       "  </tbody>\n",
       "</table>\n",
       "</div>"
      ],
      "text/plain": [
       "        congress  chamber  rollnumber  icpsr  cast_code  prob\n",
       "124325       116        0         289  15029          1  99.3\n",
       "301391       116        1         195  41700          1  90.2\n",
       "129910       116        0         301  29701          1  94.4\n",
       "312206       116        1         303  94659          1  91.0\n",
       "140050       116        0         325  21353          1  94.8"
      ]
     },
     "execution_count": 95,
     "metadata": {},
     "output_type": "execute_result"
    }
   ],
   "source": [
    "df.iloc[[102309, 261611, 107462, 270826, 117170]]"
   ]
  },
  {
   "cell_type": "code",
   "execution_count": 120,
   "metadata": {},
   "outputs": [],
   "source": [
    "df_close1 = df2.loc[df['icpsr'] == 15029][['bioname','state_abbrev','district_code']]"
   ]
  },
  {
   "cell_type": "code",
   "execution_count": 115,
   "metadata": {},
   "outputs": [],
   "source": [
    "df_close2 = df2.loc[df['icpsr'] == 41700][['bioname','state_abbrev','district_code']]"
   ]
  },
  {
   "cell_type": "code",
   "execution_count": 116,
   "metadata": {},
   "outputs": [],
   "source": [
    "df_close3 = df2.loc[df['icpsr'] == 29701][['bioname','state_abbrev','district_code']]"
   ]
  },
  {
   "cell_type": "code",
   "execution_count": 117,
   "metadata": {},
   "outputs": [],
   "source": [
    "df_close4 = df2.loc[df['icpsr'] == 94659][['bioname','state_abbrev','district_code']]"
   ]
  },
  {
   "cell_type": "code",
   "execution_count": 118,
   "metadata": {},
   "outputs": [],
   "source": [
    "df_close5 = df2.loc[df['icpsr'] == 21353][['bioname','state_abbrev','district_code']]"
   ]
  },
  {
   "cell_type": "code",
   "execution_count": 123,
   "metadata": {},
   "outputs": [],
   "source": [
    "df_close = df_close.append(df_close1)\n",
    "df_close = df_close.append(df_close2)\n",
    "df_close = df_close.append(df_close3)\n",
    "df_close = df_close.append(df_close4)\n",
    "df_close = df_close.append(df_close5)"
   ]
  },
  {
   "cell_type": "code",
   "execution_count": 124,
   "metadata": {},
   "outputs": [
    {
     "data": {
      "text/html": [
       "<div>\n",
       "<style scoped>\n",
       "    .dataframe tbody tr th:only-of-type {\n",
       "        vertical-align: middle;\n",
       "    }\n",
       "\n",
       "    .dataframe tbody tr th {\n",
       "        vertical-align: top;\n",
       "    }\n",
       "\n",
       "    .dataframe thead th {\n",
       "        text-align: right;\n",
       "    }\n",
       "</style>\n",
       "<table border=\"1\" class=\"dataframe\">\n",
       "  <thead>\n",
       "    <tr style=\"text-align: right;\">\n",
       "      <th></th>\n",
       "      <th>bioname</th>\n",
       "      <th>state_abbrev</th>\n",
       "      <th>district_code</th>\n",
       "    </tr>\n",
       "  </thead>\n",
       "  <tbody>\n",
       "    <tr>\n",
       "      <th>6</th>\n",
       "      <td>ADERHOLT, Robert</td>\n",
       "      <td>AL</td>\n",
       "      <td>4</td>\n",
       "    </tr>\n",
       "    <tr>\n",
       "      <th>440</th>\n",
       "      <td>MURKOWSKI, Lisa</td>\n",
       "      <td>AK</td>\n",
       "      <td>0</td>\n",
       "    </tr>\n",
       "    <tr>\n",
       "      <th>6</th>\n",
       "      <td>ADERHOLT, Robert</td>\n",
       "      <td>AL</td>\n",
       "      <td>4</td>\n",
       "    </tr>\n",
       "    <tr>\n",
       "      <th>440</th>\n",
       "      <td>MURKOWSKI, Lisa</td>\n",
       "      <td>AK</td>\n",
       "      <td>0</td>\n",
       "    </tr>\n",
       "    <tr>\n",
       "      <th>6</th>\n",
       "      <td>ADERHOLT, Robert</td>\n",
       "      <td>AL</td>\n",
       "      <td>4</td>\n",
       "    </tr>\n",
       "    <tr>\n",
       "      <th>440</th>\n",
       "      <td>MURKOWSKI, Lisa</td>\n",
       "      <td>AK</td>\n",
       "      <td>0</td>\n",
       "    </tr>\n",
       "    <tr>\n",
       "      <th>409</th>\n",
       "      <td>MCEACHIN, Aston Donald</td>\n",
       "      <td>VA</td>\n",
       "      <td>4</td>\n",
       "    </tr>\n",
       "    <tr>\n",
       "      <th>181</th>\n",
       "      <td>HOYER, Steny Hamilton</td>\n",
       "      <td>MD</td>\n",
       "      <td>5</td>\n",
       "    </tr>\n",
       "  </tbody>\n",
       "</table>\n",
       "</div>"
      ],
      "text/plain": [
       "                    bioname state_abbrev  district_code\n",
       "6          ADERHOLT, Robert           AL              4\n",
       "440         MURKOWSKI, Lisa           AK              0\n",
       "6          ADERHOLT, Robert           AL              4\n",
       "440         MURKOWSKI, Lisa           AK              0\n",
       "6          ADERHOLT, Robert           AL              4\n",
       "440         MURKOWSKI, Lisa           AK              0\n",
       "409  MCEACHIN, Aston Donald           VA              4\n",
       "181   HOYER, Steny Hamilton           MD              5"
      ]
     },
     "execution_count": 124,
     "metadata": {},
     "output_type": "execute_result"
    }
   ],
   "source": [
    "df_close"
   ]
  },
  {
   "cell_type": "markdown",
   "metadata": {},
   "source": [
    "### Bonus 2 (5 points) \n",
    "\n",
    "Visualize the separation in cluster by party. \n",
    "Take your vote data from Task 8 and run PCA on this data set.  Create a scatter plot of the first two principal components with the points colored by party (red - republicans, blue - democrats).  \n",
    "\n",
    "https://scikit-learn.org/stable/modules/generated/sklearn.decomposition.PCA.html#sklearn.decomposition.PCA"
   ]
  },
  {
   "cell_type": "code",
   "execution_count": 127,
   "metadata": {},
   "outputs": [
    {
     "data": {
      "text/html": [
       "<div>\n",
       "<style scoped>\n",
       "    .dataframe tbody tr th:only-of-type {\n",
       "        vertical-align: middle;\n",
       "    }\n",
       "\n",
       "    .dataframe tbody tr th {\n",
       "        vertical-align: top;\n",
       "    }\n",
       "\n",
       "    .dataframe thead th {\n",
       "        text-align: right;\n",
       "    }\n",
       "</style>\n",
       "<table border=\"1\" class=\"dataframe\">\n",
       "  <thead>\n",
       "    <tr style=\"text-align: right;\">\n",
       "      <th></th>\n",
       "      <th>congress</th>\n",
       "      <th>chamber</th>\n",
       "      <th>rollnumber</th>\n",
       "      <th>icpsr</th>\n",
       "      <th>cast_code</th>\n",
       "      <th>prob</th>\n",
       "    </tr>\n",
       "  </thead>\n",
       "  <tbody>\n",
       "    <tr>\n",
       "      <th>0</th>\n",
       "      <td>116</td>\n",
       "      <td>0</td>\n",
       "      <td>1</td>\n",
       "      <td>14066</td>\n",
       "      <td>3</td>\n",
       "      <td>100.0</td>\n",
       "    </tr>\n",
       "    <tr>\n",
       "      <th>1</th>\n",
       "      <td>116</td>\n",
       "      <td>0</td>\n",
       "      <td>1</td>\n",
       "      <td>14657</td>\n",
       "      <td>3</td>\n",
       "      <td>100.0</td>\n",
       "    </tr>\n",
       "    <tr>\n",
       "      <th>2</th>\n",
       "      <td>116</td>\n",
       "      <td>0</td>\n",
       "      <td>1</td>\n",
       "      <td>14854</td>\n",
       "      <td>3</td>\n",
       "      <td>100.0</td>\n",
       "    </tr>\n",
       "    <tr>\n",
       "      <th>3</th>\n",
       "      <td>116</td>\n",
       "      <td>0</td>\n",
       "      <td>1</td>\n",
       "      <td>14863</td>\n",
       "      <td>3</td>\n",
       "      <td>100.0</td>\n",
       "    </tr>\n",
       "    <tr>\n",
       "      <th>4</th>\n",
       "      <td>116</td>\n",
       "      <td>0</td>\n",
       "      <td>1</td>\n",
       "      <td>14873</td>\n",
       "      <td>1</td>\n",
       "      <td>99.9</td>\n",
       "    </tr>\n",
       "  </tbody>\n",
       "</table>\n",
       "</div>"
      ],
      "text/plain": [
       "   congress  chamber  rollnumber  icpsr  cast_code   prob\n",
       "0       116        0           1  14066          3  100.0\n",
       "1       116        0           1  14657          3  100.0\n",
       "2       116        0           1  14854          3  100.0\n",
       "3       116        0           1  14863          3  100.0\n",
       "4       116        0           1  14873          1   99.9"
      ]
     },
     "execution_count": 127,
     "metadata": {},
     "output_type": "execute_result"
    }
   ],
   "source": [
    "df.head()"
   ]
  },
  {
   "cell_type": "code",
   "execution_count": 131,
   "metadata": {},
   "outputs": [],
   "source": [
    "x = df[['congress','chamber','rollnumber','icpsr','prob']]\n",
    "y = df['cast_code']"
   ]
  },
  {
   "cell_type": "code",
   "execution_count": 143,
   "metadata": {},
   "outputs": [
    {
     "data": {
      "text/plain": [
       "array([3, 1, 2])"
      ]
     },
     "execution_count": 143,
     "metadata": {},
     "output_type": "execute_result"
    }
   ],
   "source": [
    "y.unique()"
   ]
  },
  {
   "cell_type": "code",
   "execution_count": 132,
   "metadata": {},
   "outputs": [],
   "source": [
    "from sklearn.preprocessing import StandardScaler"
   ]
  },
  {
   "cell_type": "code",
   "execution_count": 133,
   "metadata": {},
   "outputs": [],
   "source": [
    "# Standardizing the features\n",
    "x = StandardScaler().fit_transform(x)"
   ]
  },
  {
   "cell_type": "code",
   "execution_count": 134,
   "metadata": {},
   "outputs": [],
   "source": [
    "from sklearn.decomposition import PCA"
   ]
  },
  {
   "cell_type": "code",
   "execution_count": 135,
   "metadata": {},
   "outputs": [],
   "source": [
    "pca = PCA(n_components=2)"
   ]
  },
  {
   "cell_type": "code",
   "execution_count": 137,
   "metadata": {},
   "outputs": [],
   "source": [
    "principalComponents = pca.fit_transform(x)\n",
    "principalDf = pd.DataFrame(data = principalComponents, columns = ['principal component 1', 'principal component 2'])"
   ]
  },
  {
   "cell_type": "code",
   "execution_count": 139,
   "metadata": {},
   "outputs": [],
   "source": [
    "finalDf = pd.concat([principalDf, df[['cast_code']]], axis = 1)"
   ]
  },
  {
   "cell_type": "code",
   "execution_count": 145,
   "metadata": {},
   "outputs": [
    {
     "data": {
      "image/png": "[encoded data removed]",
      "text/plain": [
       "<Figure size 576x576 with 1 Axes>"
      ]
     },
     "metadata": {
      "needs_background": "light"
     },
     "output_type": "display_data"
    }
   ],
   "source": [
    "fig = plt.figure(figsize = (8,8))\n",
    "ax = fig.add_subplot(1,1,1) \n",
    "ax.set_xlabel('Principal Component 1', fontsize = 15)\n",
    "ax.set_ylabel('Principal Component 2', fontsize = 15)\n",
    "ax.set_title('2 component PCA Cast Code', fontsize = 20)\n",
    "targets = [1, 2, 3]\n",
    "colors = ['r', 'g', 'b']\n",
    "for target, color in zip(targets,colors):\n",
    "    indicesToKeep = finalDf['cast_code'] == target\n",
    "    ax.scatter(finalDf.loc[indicesToKeep, 'principal component 1']\n",
    "               , finalDf.loc[indicesToKeep, 'principal component 2']\n",
    "               , c = color\n",
    "               , s = 50)\n",
    "ax.legend(targets)\n",
    "ax.grid()"
   ]
  }
 ],
 "metadata": {
  "kernelspec": {
   "display_name": "Python 3",
   "language": "python",
   "name": "python3"
  },
  "language_info": {
   "codemirror_mode": {
    "name": "ipython",
    "version": 3
   },
   "file_extension": ".py",
   "mimetype": "text/x-python",
   "name": "python",
   "nbconvert_exporter": "python",
   "pygments_lexer": "ipython3",
   "version": "3.7.3"
  }
 },
 "nbformat": 4,
 "nbformat_minor": 1
}
